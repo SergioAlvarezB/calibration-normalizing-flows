{
 "cells": [
  {
   "cell_type": "markdown",
   "metadata": {},
   "source": [
    "# CIFAR3 Calibration Benchmark"
   ]
  },
  {
   "cell_type": "code",
   "execution_count": 1,
   "metadata": {},
   "outputs": [],
   "source": [
    "%load_ext autoreload"
   ]
  },
  {
   "cell_type": "code",
   "execution_count": 2,
   "metadata": {},
   "outputs": [],
   "source": [
    "%autoreload 1"
   ]
  },
  {
   "cell_type": "code",
   "execution_count": 3,
   "metadata": {},
   "outputs": [],
   "source": [
    "import os\n",
    "import sys\n",
    "import time\n",
    "import itertools\n",
    "sys.path.append('..')\n",
    "\n",
    "import ternary\n",
    "from ternary import scatter\n",
    "import numpy as np\n",
    "import tensorflow as tf\n",
    "from scipy.special import softmax\n",
    "import matplotlib.pyplot as plt\n",
    "\n",
    "%aimport utils\n",
    "%aimport utils.ops\n",
    "%aimport utils.metrics\n",
    "%aimport utils.visualization\n",
    "%aimport flows.nice\n",
    "%aimport calibrators\n",
    "from utils.data import get_cifar3, load_logits\n",
    "from utils.ops import onehot_encode\n",
    "from utils.metrics import neg_log_likelihood, expected_calibration_error\n",
    "from utils.visualization import plot_pdf_simplex, plot_prob_simplex, reliability_diagram, plot_cal_regions_ternary\n",
    "from calibrators import NiceCalibrator, PlanarFlowCalibrator, RadialFlowCalibrator, RealNvpCalibrator, TempScalingCalibrator "
   ]
  },
  {
   "cell_type": "code",
   "execution_count": 4,
   "metadata": {},
   "outputs": [],
   "source": [
    "%matplotlib inline\n",
    "np.random.seed(1)"
   ]
  },
  {
   "cell_type": "code",
   "execution_count": 5,
   "metadata": {},
   "outputs": [],
   "source": [
    "cifar_dir = '../cifar-10'\n",
    "models_dir = '../pretrained-models'"
   ]
  },
  {
   "cell_type": "code",
   "execution_count": 6,
   "metadata": {},
   "outputs": [],
   "source": [
    "model = 'cnn_cifar3'\n",
    "\n",
    "cifar3, ix2label = get_cifar3(cifar_dir, test=True)\n",
    "target = onehot_encode(cifar3['test_labels'])\n",
    "\n",
    "_, logits = load_logits(os.path.join(models_dir, model))\n",
    "probs = softmax(logits, axis=1)\n",
    "\n",
    "# val/test split\n",
    "random_split = np.random.permutation(3000)\n",
    "\n",
    "val_target = target[random_split[:1500], :]\n",
    "test_target = target[random_split[1500:], :]\n",
    "\n",
    "val_logits = logits[random_split[:1500], :]\n",
    "test_logits = logits[random_split[1500:], :]"
   ]
  },
  {
   "cell_type": "markdown",
   "metadata": {},
   "source": [
    "## Calibrating NICE\n",
    "Select number of flow stages:"
   ]
  },
  {
   "cell_type": "code",
   "execution_count": 7,
   "metadata": {},
   "outputs": [
    {
     "name": "stdout",
     "output_type": "stream",
     "text": [
      "WARNING:tensorflow:From C:\\Users\\sergi\\Anaconda3\\envs\\famarch\\lib\\site-packages\\tensorflow\\python\\ops\\resource_variable_ops.py:435: colocate_with (from tensorflow.python.framework.ops) is deprecated and will be removed in a future version.\n",
      "Instructions for updating:\n",
      "Colocations handled automatically by placer.\n",
      "WARNING:tensorflow:From C:\\Users\\sergi\\Anaconda3\\envs\\famarch\\lib\\site-packages\\tensorflow\\python\\ops\\math_ops.py:3066: to_int32 (from tensorflow.python.ops.math_ops) is deprecated and will be removed in a future version.\n",
      "Instructions for updating:\n",
      "Use tf.cast instead.\n"
     ]
    },
    {
     "name": "stderr",
     "output_type": "stream",
     "text": [
      "C:\\Users\\sergi\\Anaconda3\\envs\\famarch\\lib\\site-packages\\tensorflow\\python\\ops\\gradients_impl.py:110: UserWarning: Converting sparse IndexedSlices to a dense Tensor of unknown shape. This may consume a large amount of memory.\n",
      "  \"Converting sparse IndexedSlices to a dense Tensor of unknown shape. \"\n"
     ]
    },
    {
     "name": "stdout",
     "output_type": "stream",
     "text": [
      "Fitted in 74.176s\n",
      "Fitted in 106.453s\n",
      "Fitted in 137.362s\n"
     ]
    },
    {
     "data": {
      "image/png": "[encoded data removed]",
      "text/plain": [
       "<Figure size 1152x432 with 3 Axes>"
      ]
     },
     "metadata": {
      "needs_background": "light"
     },
     "output_type": "display_data"
    }
   ],
   "source": [
    "t0 = time.time()\n",
    "nice_cal_2 = NiceCalibrator(val_logits, val_target, layers=2, hidden_size=[1],\n",
    "                            version=2, epochs=2000)\n",
    "print('Fitted in {:.3f}s'.format(time.time()-t0))\n",
    "\n",
    "t0 = time.time()\n",
    "nice_cal_4 = NiceCalibrator(val_logits, val_target, layers=4, hidden_size=[1],\n",
    "                            version=2, epochs=2000)\n",
    "print('Fitted in {:.3f}s'.format(time.time()-t0))\n",
    "\n",
    "t0 = time.time()\n",
    "nice_cal_6 = NiceCalibrator(val_logits, val_target, layers=6, hidden_size=[1],\n",
    "                            version=2, epochs=2000)\n",
    "print('Fitted in {:.3f}s'.format(time.time()-t0))\n",
    "\n",
    "# Plot training NLL\n",
    "fig, ax_arr = plt.subplots(1, 3, figsize=(16, 6))\n",
    "\n",
    "ax_arr[0].plot(nice_cal_2.history.history['loss'])\n",
    "ax_arr[0].set_title('NICE-flow 2 stages')\n",
    "ax_arr[0].set_ylabel('NLL')\n",
    "ax_arr[0].set_xlabel('Epoch')\n",
    "\n",
    "ax_arr[1].plot(nice_cal_4.history.history['loss'])\n",
    "ax_arr[1].set_title('NICE-flow 4 stages')\n",
    "ax_arr[1].set_ylabel('NLL')\n",
    "ax_arr[1].set_xlabel('Epoch')\n",
    "\n",
    "ax_arr[2].plot(nice_cal_6.history.history['loss'])\n",
    "ax_arr[2].set_title('NICE-flow 6 stages')\n",
    "ax_arr[2].set_ylabel('NLL')\n",
    "ax_arr[2].set_xlabel('Epoch')\n",
    "\n",
    "plt.show()"
   ]
  },
  {
   "cell_type": "code",
   "execution_count": null,
   "metadata": {},
   "outputs": [],
   "source": []
  }
 ],
 "metadata": {
  "kernelspec": {
   "display_name": "Python 3",
   "language": "python",
   "name": "python3"
  },
  "language_info": {
   "codemirror_mode": {
    "name": "ipython",
    "version": 3
   },
   "file_extension": ".py",
   "mimetype": "text/x-python",
   "name": "python",
   "nbconvert_exporter": "python",
   "pygments_lexer": "ipython3",
   "version": "3.6.8"
  }
 },
 "nbformat": 4,
 "nbformat_minor": 2
}
