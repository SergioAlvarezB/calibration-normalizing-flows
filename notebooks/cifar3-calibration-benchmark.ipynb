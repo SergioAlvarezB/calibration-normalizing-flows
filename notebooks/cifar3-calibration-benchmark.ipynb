{
 "cells": [
  {
   "cell_type": "markdown",
   "metadata": {},
   "source": [
    "# CIFAR3 Calibration Benchmark"
   ]
  },
  {
   "cell_type": "code",
   "execution_count": 1,
   "metadata": {},
   "outputs": [],
   "source": [
    "%load_ext autoreload"
   ]
  },
  {
   "cell_type": "code",
   "execution_count": 2,
   "metadata": {},
   "outputs": [],
   "source": [
    "%autoreload 1"
   ]
  },
  {
   "cell_type": "code",
   "execution_count": 3,
   "metadata": {},
   "outputs": [
    {
     "name": "stderr",
     "output_type": "stream",
     "text": [
      "/root/anaconda3/lib/python3.7/site-packages/tensorflow/python/framework/dtypes.py:526: FutureWarning: Passing (type, 1) or '1type' as a synonym of type is deprecated; in a future version of numpy, it will be understood as (type, (1,)) / '(1,)type'.\n",
      "  _np_qint8 = np.dtype([(\"qint8\", np.int8, 1)])\n",
      "/root/anaconda3/lib/python3.7/site-packages/tensorflow/python/framework/dtypes.py:527: FutureWarning: Passing (type, 1) or '1type' as a synonym of type is deprecated; in a future version of numpy, it will be understood as (type, (1,)) / '(1,)type'.\n",
      "  _np_quint8 = np.dtype([(\"quint8\", np.uint8, 1)])\n",
      "/root/anaconda3/lib/python3.7/site-packages/tensorflow/python/framework/dtypes.py:528: FutureWarning: Passing (type, 1) or '1type' as a synonym of type is deprecated; in a future version of numpy, it will be understood as (type, (1,)) / '(1,)type'.\n",
      "  _np_qint16 = np.dtype([(\"qint16\", np.int16, 1)])\n",
      "/root/anaconda3/lib/python3.7/site-packages/tensorflow/python/framework/dtypes.py:529: FutureWarning: Passing (type, 1) or '1type' as a synonym of type is deprecated; in a future version of numpy, it will be understood as (type, (1,)) / '(1,)type'.\n",
      "  _np_quint16 = np.dtype([(\"quint16\", np.uint16, 1)])\n",
      "/root/anaconda3/lib/python3.7/site-packages/tensorflow/python/framework/dtypes.py:530: FutureWarning: Passing (type, 1) or '1type' as a synonym of type is deprecated; in a future version of numpy, it will be understood as (type, (1,)) / '(1,)type'.\n",
      "  _np_qint32 = np.dtype([(\"qint32\", np.int32, 1)])\n",
      "/root/anaconda3/lib/python3.7/site-packages/tensorflow/python/framework/dtypes.py:535: FutureWarning: Passing (type, 1) or '1type' as a synonym of type is deprecated; in a future version of numpy, it will be understood as (type, (1,)) / '(1,)type'.\n",
      "  np_resource = np.dtype([(\"resource\", np.ubyte, 1)])\n"
     ]
    }
   ],
   "source": [
    "import os\n",
    "import sys\n",
    "import time\n",
    "import itertools\n",
    "sys.path.append('..')\n",
    "\n",
    "import ternary\n",
    "from ternary import scatter\n",
    "import numpy as np\n",
    "import tensorflow as tf\n",
    "from scipy.special import softmax\n",
    "import matplotlib.pyplot as plt\n",
    "\n",
    "%aimport utils\n",
    "%aimport utils.ops\n",
    "%aimport utils.metrics\n",
    "%aimport utils.visualization\n",
    "%aimport flows.nice\n",
    "%aimport calibrators\n",
    "from utils.data import get_cifar3, load_logits\n",
    "from utils.ops import onehot_encode\n",
    "from utils.metrics import neg_log_likelihood, expected_calibration_error\n",
    "from utils.visualization import plot_pdf_simplex, plot_prob_simplex, reliability_diagram, plot_cal_regions_ternary, plot_nll_curve\n",
    "from calibrators import NiceCalibrator, PlanarFlowCalibrator, RadialFlowCalibrator, RealNvpCalibrator, TempScalingCalibrator, DummyCalibrator "
   ]
  },
  {
   "cell_type": "code",
   "execution_count": 4,
   "metadata": {},
   "outputs": [
    {
     "data": {
      "text/plain": [
       "'1.13.1'"
      ]
     },
     "execution_count": 4,
     "metadata": {},
     "output_type": "execute_result"
    }
   ],
   "source": [
    "tf.__version__"
   ]
  },
  {
   "cell_type": "code",
   "execution_count": 5,
   "metadata": {},
   "outputs": [],
   "source": [
    "# Select GPU to use\n",
    "os.environ[\"CUDA_VISIBLE_DEVICES\"]=\"1\"; "
   ]
  },
  {
   "cell_type": "code",
   "execution_count": 6,
   "metadata": {},
   "outputs": [],
   "source": [
    "%matplotlib inline\n",
    "np.random.seed(1)"
   ]
  },
  {
   "cell_type": "markdown",
   "metadata": {},
   "source": [
    "## Load data"
   ]
  },
  {
   "cell_type": "code",
   "execution_count": 7,
   "metadata": {},
   "outputs": [],
   "source": [
    "cifar_dir = '../cifar-10'\n",
    "models_dir = '../pretrained-models'"
   ]
  },
  {
   "cell_type": "code",
   "execution_count": 8,
   "metadata": {},
   "outputs": [],
   "source": [
    "model = 'cnn_cifar3'\n",
    "\n",
    "cifar3, ix2label = get_cifar3(cifar_dir, test=True)\n",
    "target = onehot_encode(cifar3['test_labels'])\n",
    "\n",
    "_, logits = load_logits(os.path.join(models_dir, model))\n",
    "probs = softmax(logits, axis=1)\n",
    "\n",
    "# val/test split\n",
    "random_split = np.random.permutation(3000)\n",
    "\n",
    "val_target = target[random_split[:1500], :]\n",
    "test_target = target[random_split[1500:], :]\n",
    "\n",
    "val_logits = logits[random_split[:1500], :]\n",
    "test_logits = logits[random_split[1500:], :]"
   ]
  },
  {
   "cell_type": "markdown",
   "metadata": {},
   "source": [
    "### Helper methods:"
   ]
  },
  {
   "cell_type": "code",
   "execution_count": 9,
   "metadata": {},
   "outputs": [],
   "source": [
    "def add_spoiling_samples(ax, pred_probs, target, probs):\n",
    "    indv_nll = -np.sum(target*np.log(pred_probs+1e-7), axis=1)\n",
    "    # spoiling_idx = np.argsort(indv_nll)[:-21:-1]\n",
    "    spoiling_probs = probs[indv_nll>=np.log2(3), :]\n",
    "    spoiling_target = np.argmax(target[indv_nll>=np.log2(3), :], axis=1)\n",
    "\n",
    "    ax.scatter(spoiling_probs[spoiling_target==0, :]*ax._scale, s=50, color='red', edgecolors='k', lw=1, zorder=2)\n",
    "    ax.scatter(spoiling_probs[spoiling_target==1, :]*ax._scale, s=50, color='green', edgecolors='k', lw=1, zorder=2)\n",
    "    ax.scatter(spoiling_probs[spoiling_target==2, :]*ax._scale, s=50, color='blue', edgecolors='k', lw=1, zorder=2)\n",
    "    \n",
    "    return ax"
   ]
  },
  {
   "cell_type": "code",
   "execution_count": 10,
   "metadata": {},
   "outputs": [],
   "source": [
    "def train_and_eval_cal(Calibrator):\n",
    "    results = {}\n",
    "    t = time.time()\n",
    "    cal = Calibrator(val_logits, val_target)\n",
    "    print('Calibrator fitted in {:.3f}s'.format(time.time()-t))\n",
    "    results['nll_val'] = neg_log_likelihood(cal(val_logits), val_target)\n",
    "    results['ece_val'] = expected_calibration_error(cal(val_logits), val_target)\n",
    "    results['nll_test'] = neg_log_likelihood(cal(test_logits), test_target)\n",
    "    results['ece_test'] = expected_calibration_error(cal(test_logits), test_target)\n",
    "    results['cal'] = cal\n",
    "    \n",
    "    return results"
   ]
  },
  {
   "cell_type": "markdown",
   "metadata": {},
   "source": [
    "## Train Calibrators"
   ]
  },
  {
   "cell_type": "code",
   "execution_count": 11,
   "metadata": {},
   "outputs": [],
   "source": [
    "calibrators = {\n",
    "    'Uncalibrated': DummyCalibrator,\n",
    "    'Temp-Scaling': TempScalingCalibrator,\n",
    "}\n",
    "\n",
    "layers = [2, 6, 10, 20, 50, 100]\n",
    "\n",
    "nice_args = [\n",
    "    {\n",
    "        'layers': l,\n",
    "        'hidden_size': [3, 3],\n",
    "        'epochs': 1000,\n",
    "        'batch_size': val_logits.shape[0],\n",
    "    } for l in layers\n",
    "]\n",
    "\n",
    "nvp_args = [\n",
    "    {\n",
    "        'layers': l,\n",
    "        'hidden_size': [3, 3],\n",
    "        'epochs': 1000,\n",
    "        'batch_size': val_logits.shape[0],\n",
    "    } for l in layers\n",
    "]\n",
    "\n",
    "planar_args = [\n",
    "    {\n",
    "        'layers': l,\n",
    "        'epochs': 1000,\n",
    "        'batch_size': val_logits.shape[0],\n",
    "    } for l in layers\n",
    "]\n",
    "\n",
    "radial_args = [\n",
    "    {\n",
    "        'layers': l,\n",
    "        'epochs': 1000,\n",
    "        'batch_size': val_logits.shape[0],\n",
    "    } for l in layers\n",
    "]\n",
    "\n",
    "\n",
    "\n",
    "for nice in nice_args:\n",
    "    name = 'NICE_l{}_hs{}'.format(nice['layers'], nice['hidden_size'])\n",
    "    calibrators[name] = lambda logits, target: NiceCalibrator(logits, target, **nice)\n",
    "    \n",
    "for nvp in nvp_args:\n",
    "    name = 'RealNVP_l{}_hs{}'.format(nvp['layers'], nvp['hidden_size'])\n",
    "    calibrators[name] = lambda logits, target: RealNvpCalibrator(logits, target, **nvp)\n",
    "\n",
    "for planar in planar_args:\n",
    "    name = 'Planar_l{}'.format(planar['layers'])\n",
    "    calibrators[name] = lambda logits, target: PlanarFlowCalibrator(logits, target, **planar)\n",
    "\n",
    "for radial in radial_args:\n",
    "    name = 'Radial_l{}'.format(radial['layers'])\n",
    "    calibrators[name] = lambda logits, target: RadialFlowCalibrator(logits, target, **radial)"
   ]
  },
  {
   "cell_type": "code",
   "execution_count": null,
   "metadata": {},
   "outputs": [
    {
     "name": "stdout",
     "output_type": "stream",
     "text": [
      "Training Uncalibrated...\n",
      "Calibrator fitted in 0.000s\n",
      "Training Temp-Scaling...\n",
      "Calibrator fitted in 0.009s\n",
      "Training NICE_l2_hs[3, 3]...\n",
      "WARNING:tensorflow:From /root/anaconda3/lib/python3.7/site-packages/tensorflow/python/ops/resource_variable_ops.py:435: colocate_with (from tensorflow.python.framework.ops) is deprecated and will be removed in a future version.\n",
      "Instructions for updating:\n",
      "Colocations handled automatically by placer.\n",
      "WARNING:tensorflow:From /root/anaconda3/lib/python3.7/site-packages/tensorflow/python/ops/math_ops.py:3066: to_int32 (from tensorflow.python.ops.math_ops) is deprecated and will be removed in a future version.\n",
      "Instructions for updating:\n",
      "Use tf.cast instead.\n",
      "Calibrator fitted in 117.086s\n",
      "Training NICE_l6_hs[3, 3]...\n",
      "Calibrator fitted in 135.422s\n",
      "Training NICE_l10_hs[3, 3]...\n",
      "Calibrator fitted in 141.184s\n",
      "Training NICE_l20_hs[3, 3]...\n",
      "Calibrator fitted in 150.399s\n",
      "Training NICE_l50_hs[3, 3]...\n",
      "Calibrator fitted in 164.229s\n",
      "Training NICE_l100_hs[3, 3]...\n",
      "Calibrator fitted in 192.256s\n",
      "Training RealNVP_l2_hs[3, 3]...\n",
      "Calibrator fitted in 363.264s\n",
      "Training RealNVP_l6_hs[3, 3]...\n",
      "Calibrator fitted in 442.596s\n",
      "Training RealNVP_l10_hs[3, 3]...\n",
      "Calibrator fitted in 574.900s\n",
      "Training RealNVP_l20_hs[3, 3]...\n"
     ]
    }
   ],
   "source": [
    "# Train all calibrators\n",
    "results = {}\n",
    "for name, Calibrator in calibrators.items():\n",
    "    print('Training {:s}...'.format(name))\n",
    "    results[name] = train_and_eval_cal(Calibrator)"
   ]
  },
  {
   "cell_type": "code",
   "execution_count": null,
   "metadata": {},
   "outputs": [],
   "source": [
    "plt.plot(results['RealNVP_l20_hs[3, 3]']['cal'].history.history['loss'])"
   ]
  },
  {
   "cell_type": "markdown",
   "metadata": {},
   "source": [
    "## Comparing flows:\n",
    "\n",
    "### Overfitting:"
   ]
  },
  {
   "cell_type": "code",
   "execution_count": null,
   "metadata": {},
   "outputs": [],
   "source": [
    "colors = ['b', 'r', 'g', 'y']\n",
    "flows = ['NICE_l{}_hs[3, 3]', 'RealNVP_l{}_hs[3, 3]', 'Planar_l{}', 'Radial_l{}']\n",
    "\n",
    "\n",
    "fig, ax_arr = plt.subplots(1, 2, figsize=(18, 7))\n",
    "\n",
    "for color, flow in zip(colors, flows)\n",
    "    ## NICE\n",
    "    val_nll = []\n",
    "    test_nll = []\n",
    "    val_ece = []\n",
    "    test_ece = []\n",
    "    for l in layers:\n",
    "        val_nll.append(results['NICE_l{}_hs[3, 3]'.format(l)]['nll_val'])\n",
    "        test_nll.append(results['NICE_l{}_hs[3, 3]'.format(l)]['nll_test'])\n",
    "        val_ece.append(results['NICE_l{}_hs[3, 3]'.format(l)]['ece_val'])\n",
    "        test_ece.append(results['NICE_l{}_hs[3, 3]'.format(l)]['ece_test'])\n",
    "    ax_arr[0].plot(layers, val_nll, color, label=flow.split('_')[0] + 'Validation')\n",
    "    ax_arr[0].plot(layers, test_nll, color + '--', label=flow.split('_')[0] + 'Test')\n",
    "\n",
    "    ax_arr[1].plot(layers, val_ece, color, label=flow.split('_')[0] + 'Validation')\n",
    "    ax_arr[1].plot(layers, test_ece, color + '--', label=flow.split('_')[0] + 'Test')\n",
    "\n",
    "\n",
    "ax_arr[0].legend()\n",
    "ax_arr[0].set_ylabel('NLL')\n",
    "ax_arr[0].set_xlabel('Layers')\n",
    "ax_arr[0].set_title('NLL Flows')\n",
    "\n",
    "ax_arr[1].legend()\n",
    "ax_arr[1].set_ylabel('ECE')\n",
    "ax_arr[1].set_xlabel('Layers')\n",
    "ax_arr[1].set_title('ECE Flows')"
   ]
  },
  {
   "cell_type": "code",
   "execution_count": null,
   "metadata": {},
   "outputs": [],
   "source": []
  }
 ],
 "metadata": {
  "kernelspec": {
   "display_name": "Python 3",
   "language": "python",
   "name": "python3"
  },
  "language_info": {
   "codemirror_mode": {
    "name": "ipython",
    "version": 3
   },
   "file_extension": ".py",
   "mimetype": "text/x-python",
   "name": "python",
   "nbconvert_exporter": "python",
   "pygments_lexer": "ipython3",
   "version": "3.7.4"
  }
 },
 "nbformat": 4,
 "nbformat_minor": 4
}
