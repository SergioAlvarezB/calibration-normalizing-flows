{
 "cells": [
  {
   "cell_type": "markdown",
   "metadata": {},
   "source": [
    "# CIFAR3 Calibration Benchmark"
   ]
  },
  {
   "cell_type": "code",
   "execution_count": 1,
   "metadata": {},
   "outputs": [],
   "source": [
    "%load_ext autoreload"
   ]
  },
  {
   "cell_type": "code",
   "execution_count": 2,
   "metadata": {},
   "outputs": [],
   "source": [
    "%autoreload 1"
   ]
  },
  {
   "cell_type": "code",
   "execution_count": 3,
   "metadata": {},
   "outputs": [],
   "source": [
    "import os\n",
    "import sys\n",
    "import time\n",
    "import itertools\n",
    "sys.path.append('..')\n",
    "\n",
    "import ternary\n",
    "from ternary import scatter\n",
    "import numpy as np\n",
    "import tensorflow as tf\n",
    "from scipy.special import softmax\n",
    "import matplotlib.pyplot as plt\n",
    "\n",
    "%aimport utils\n",
    "%aimport utils.ops\n",
    "%aimport utils.metrics\n",
    "%aimport utils.visualization\n",
    "%aimport flows.nice\n",
    "%aimport calibrators\n",
    "from utils.data import get_cifar3, load_logits\n",
    "from utils.ops import onehot_encode\n",
    "from utils.metrics import neg_log_likelihood, expected_calibration_error\n",
    "from utils.visualization import plot_pdf_simplex, plot_prob_simplex, reliability_diagram, plot_cal_regions_ternary\n",
    "from calibrators import NiceCalibrator, PlanarFlowCalibrator, RadialFlowCalibrator, RealNvpCalibrator, TempScalingCalibrator "
   ]
  },
  {
   "cell_type": "code",
   "execution_count": null,
   "metadata": {},
   "outputs": [],
   "source": [
    "%matplotlib inline\n",
    "np.random.seed(1)"
   ]
  },
  {
   "cell_type": "code",
   "execution_count": null,
   "metadata": {},
   "outputs": [],
   "source": [
    "cifar_dir = '../cifar-10'\n",
    "models_dir = '../pretrained-models'"
   ]
  },
  {
   "cell_type": "code",
   "execution_count": null,
   "metadata": {},
   "outputs": [],
   "source": [
    "model = 'cnn_cifar3'\n",
    "\n",
    "cifar3, ix2label = get_cifar3(cifar_dir, test=True)\n",
    "target = onehot_encode(cifar3['test_labels'])\n",
    "\n",
    "_, logits = load_logits(os.path.join(models_dir, model))\n",
    "probs = softmax(logits, axis=1)\n",
    "\n",
    "# val/test split\n",
    "random_split = np.random.permutation(3000)\n",
    "\n",
    "val_target = target[random_split[:1500], :]\n",
    "test_target = target[random_split[1500:], :]\n",
    "\n",
    "val_logits = logits[random_split[:1500], :]\n",
    "test_logits = logits[random_split[1500:], :]"
   ]
  },
  {
   "cell_type": "markdown",
   "metadata": {},
   "source": [
    "## Calibrating NICE\n",
    "Select number of flow stages:"
   ]
  },
  {
   "cell_type": "code",
   "execution_count": null,
   "metadata": {},
   "outputs": [
    {
     "name": "stdout",
     "output_type": "stream",
     "text": [
      "WARNING:tensorflow:From C:\\Users\\sergi\\Anaconda3\\envs\\famarch\\lib\\site-packages\\tensorflow\\python\\ops\\resource_variable_ops.py:435: colocate_with (from tensorflow.python.framework.ops) is deprecated and will be removed in a future version.\n",
      "Instructions for updating:\n",
      "Colocations handled automatically by placer.\n",
      "WARNING:tensorflow:From C:\\Users\\sergi\\Anaconda3\\envs\\famarch\\lib\\site-packages\\tensorflow\\python\\ops\\math_ops.py:3066: to_int32 (from tensorflow.python.ops.math_ops) is deprecated and will be removed in a future version.\n",
      "Instructions for updating:\n",
      "Use tf.cast instead.\n",
      "Fitted in 15.552s\n",
      "Fitted in 23.729s\n",
      "Fitted in 28.864s\n",
      "Fitted in 76.570s\n",
      "Fitted in 179.843s\n"
     ]
    }
   ],
   "source": [
    "epochs = 1000\n",
    "\n",
    "\n",
    "t0 = time.time()\n",
    "nice_cal_2 = NiceCalibrator(val_logits, val_target, layers=2, hidden_size=[1],\n",
    "                            version=3, epochs=epochs)\n",
    "print('Fitted in {:.3f}s'.format(time.time()-t0))\n",
    "\n",
    "t0 = time.time()\n",
    "nice_cal_4 = NiceCalibrator(val_logits, val_target, layers=4, hidden_size=[1],\n",
    "                            version=3, epochs=epochs)\n",
    "print('Fitted in {:.3f}s'.format(time.time()-t0))\n",
    "\n",
    "t0 = time.time()\n",
    "nice_cal_6 = NiceCalibrator(val_logits, val_target, layers=6, hidden_size=[1],\n",
    "                            version=3, epochs=epochs)\n",
    "print('Fitted in {:.3f}s'.format(time.time()-t0))\n",
    "\n",
    "\n",
    "t0 = time.time()\n",
    "nice_cal_20 = NiceCalibrator(val_logits, val_target, layers=20, hidden_size=[1],\n",
    "                             version=3, epochs=epochs)\n",
    "print('Fitted in {:.3f}s'.format(time.time()-t0))\n",
    "\n",
    "\n",
    "t0 = time.time()\n",
    "nice_cal_50 = NiceCalibrator(val_logits, val_target, layers=50, hidden_size=[1],\n",
    "                             version=3, epochs=epochs)\n",
    "print('Fitted in {:.3f}s'.format(time.time()-t0))\n",
    "\n",
    "t0 = time.time()\n",
    "nice_cal_100 = NiceCalibrator(val_logits, val_target, layers=100, hidden_size=[1],\n",
    "                              version=3, epochs=epochs)\n",
    "print('Fitted in {:.3f}s'.format(time.time()-t0))\n",
    "\n",
    "# Plot training NLL\n",
    "fig, ax_arr = plt.subplots(3, 2, figsize=(16, 15), sharex='all', sharey='all', gridspec_kw={'hspace': 0.5, 'wspace': 0.3})\n",
    "\n",
    "ax_arr[0, 0].plot(nice_cal_2.history.history['loss'])\n",
    "ax_arr[0, 0].set_title('NICE-flow 2 stages\\nNLL:{:.3e}'.format(neg_log_likelihood(nice_cal_2(val_logits), val_target)))\n",
    "ax_arr[0, 0].set_ylabel('NLL')\n",
    "ax_arr[0, 0].set_xlabel('Epoch')\n",
    "ax_arr[0, 0].set_yscale('log')\n",
    "\n",
    "ax_arr[0, 1].plot(nice_cal_4.history.history['loss'])\n",
    "ax_arr[0, 1].set_title('NICE-flow 4 stages\\nNLL:{:.3e}'.format(neg_log_likelihood(nice_cal_4(val_logits), val_target)))\n",
    "ax_arr[0, 1].set_ylabel('NLL')\n",
    "ax_arr[0, 1].set_xlabel('Epoch')\n",
    "ax_arr[0, 1].set_yscale('log')\n",
    "\n",
    "ax_arr[1, 0].plot(nice_cal_6.history.history['loss'])\n",
    "ax_arr[1, 0].set_title('NICE-flow 6 stages\\nNLL:{:.3e}'.format(neg_log_likelihood(nice_cal_6(val_logits), val_target)))\n",
    "ax_arr[1, 0].set_ylabel('NLL')\n",
    "ax_arr[1, 0].set_xlabel('Epoch')\n",
    "ax_arr[1, 0].set_yscale('log')\n",
    "\n",
    "ax_arr[1, 1].plot(nice_cal_20.history.history['loss'])\n",
    "ax_arr[1, 1].set_title('NICE-flow 20 stages\\nNLL:{:.3e}'.format(neg_log_likelihood(nice_cal_20(val_logits), val_target)))\n",
    "ax_arr[1, 1].set_ylabel('NLL')\n",
    "ax_arr[1, 1].set_xlabel('Epoch')\n",
    "ax_arr[1, 1].set_yscale('log')\n",
    "\n",
    "ax_arr[2, 0].plot(nice_cal_50.history.history['loss'])\n",
    "ax_arr[2, 0].set_title('NICE-flow 50 stages\\nNLL:{:.3e}'.format(neg_log_likelihood(nice_cal_50(val_logits), val_target)))\n",
    "ax_arr[2, 0].set_ylabel('NLL')\n",
    "ax_arr[2, 0].set_xlabel('Epoch')\n",
    "ax_arr[2, 0].set_yscale('log')\n",
    "\n",
    "ax_arr[2, 1].plot(nice_cal_100.history.history['loss'])\n",
    "ax_arr[2, 1].set_title('NICE-flow 100 stages\\nNLL:{:.3e}'.format(neg_log_likelihood(nice_cal_100(val_logits), val_target)))\n",
    "ax_arr[2, 1].set_ylabel('NLL')\n",
    "ax_arr[2, 1].set_xlabel('Epoch')\n",
    "ax_arr[2, 1].set_yscale('log')\n",
    "\n",
    "plt.show()"
   ]
  },
  {
   "cell_type": "markdown",
   "metadata": {},
   "source": [
    "### Effect of number of layers on simplex"
   ]
  },
  {
   "cell_type": "code",
   "execution_count": null,
   "metadata": {},
   "outputs": [],
   "source": [
    "fig, ax_arr = plt.subplots(4, 2, figsize=(16, 27), gridspec_kw={'hspace': 0.5, 'wspace': 0.5})\n",
    "\n",
    "ax_arr[0, 0] = plot_pdf_simplex(softmax(val_logits, axis=1), target=val_target, ax=ax_arr[0, 0], scale=100,\n",
    "                             title='Estimated PDF for each class\\nValidation set', fontsize=12, labels=list(ix2label.values()));\n",
    "ax_arr[0, 1] = plot_pdf_simplex(softmax(test_logits, axis=1), target=test_target, ax=ax_arr[0, 1], scale=100,\n",
    "                             title='Estimated PDF for each class\\nTest set', fontsize=12, labels=list(ix2label.values()));\n",
    "\n",
    "\n",
    "ax_arr[1, 0] = plot_cal_regions_ternary(nice_cal_2, ax=ax_arr[1, 0], scale=100, labels=list(ix2label.values()),\n",
    "                                        title='Decision regions after 2 NICE layers.', fontsize=12);\n",
    "ax_arr[1, 1] = plot_cal_regions_ternary(nice_cal_4, ax=ax_arr[1, 1], scale=100, labels=list(ix2label.values()),\n",
    "                                        title='Decision regions after 4 NICE layers.', fontsize=12);\n",
    "ax_arr[2, 0] = plot_cal_regions_ternary(nice_cal_6, ax=ax_arr[2, 0], scale=100, labels=list(ix2label.values()),\n",
    "                                        title='Decision regions after 6 NICE layers.', fontsize=12);\n",
    "ax_arr[2, 1] = plot_cal_regions_ternary(nice_cal_20, ax=ax_arr[2, 1], scale=100, labels=list(ix2label.values()),\n",
    "                                        title='Decision regions after 20 NICE layers.', fontsize=12);\n",
    "ax_arr[3, 0] = plot_cal_regions_ternary(nice_cal_50, ax=ax_arr[3, 0], scale=100, labels=list(ix2label.values()),\n",
    "                                        title='Decision regions after 50 NICE layers.', fontsize=12);\n",
    "ax_arr[3, 1] = plot_cal_regions_ternary(nice_cal_100, ax=ax_arr[3, 1], scale=100, labels=list(ix2label.values()),\n",
    "                                        title='Decision regions after 100 NICE layers.', fontsize=12);\n",
    "plt.show()"
   ]
  },
  {
   "cell_type": "code",
   "execution_count": null,
   "metadata": {},
   "outputs": [],
   "source": []
  }
 ],
 "metadata": {
  "kernelspec": {
   "display_name": "Python 3",
   "language": "python",
   "name": "python3"
  },
  "language_info": {
   "codemirror_mode": {
    "name": "ipython",
    "version": 3
   },
   "file_extension": ".py",
   "mimetype": "text/x-python",
   "name": "python",
   "nbconvert_exporter": "python",
   "pygments_lexer": "ipython3",
   "version": "3.6.8"
  }
 },
 "nbformat": 4,
 "nbformat_minor": 2
}
