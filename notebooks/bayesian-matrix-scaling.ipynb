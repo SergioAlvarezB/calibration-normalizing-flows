{
 "cells": [
  {
   "cell_type": "markdown",
   "metadata": {},
   "source": [
    "# Matrix-Scaling: A Bayesian approach"
   ]
  },
  {
   "cell_type": "code",
   "execution_count": 1,
   "metadata": {},
   "outputs": [],
   "source": [
    "import os\n",
    "import sys\n",
    "import time\n",
    "import importlib\n",
    "import collections\n",
    "sys.path.append('..')\n",
    "\n",
    "import numpy as np\n",
    "import pandas as pd\n",
    "from scipy.special import softmax\n",
    "import matplotlib.pyplot as plt\n",
    "\n",
    "from utils.data import get_cifar10, load_logits\n",
    "from utils.ops import onehot_encode\n",
    "from utils.metrics import neg_log_likelihood, expected_calibration_error\n",
    "from calibrators import NiceCalibrator, TempScalingCalibrator, MatrixScalingCalibrator"
   ]
  },
  {
   "cell_type": "code",
   "execution_count": 2,
   "metadata": {},
   "outputs": [],
   "source": [
    "data_path = '../cifar-10'"
   ]
  },
  {
   "cell_type": "code",
   "execution_count": 3,
   "metadata": {},
   "outputs": [
    {
     "name": "stdout",
     "output_type": "stream",
     "text": [
      "Number of samples in the test set: 10000\n"
     ]
    }
   ],
   "source": [
    "cifar10, ix2label = get_cifar10(data_path, test=True)\n",
    "print(\"Number of samples in the test set: {:d}\".format(cifar10[\"test_labels\"].shape[0]))"
   ]
  },
  {
   "cell_type": "code",
   "execution_count": 4,
   "metadata": {},
   "outputs": [],
   "source": [
    "target = onehot_encode(cifar10['test_labels'])\n",
    "\n",
    "# val/test split\n",
    "random_split = np.random.permutation(10000)\n",
    "\n",
    "val_target = target[random_split[:5000], :]\n",
    "test_target = target[random_split[5000:], :]"
   ]
  },
  {
   "cell_type": "code",
   "execution_count": 5,
   "metadata": {},
   "outputs": [],
   "source": [
    "resnet_path = '../pretrained-models'\n",
    "net = 'resnet56_v2'"
   ]
  },
  {
   "cell_type": "code",
   "execution_count": 6,
   "metadata": {},
   "outputs": [],
   "source": [
    "_, logits = load_logits(os.path.join(resnet_path, net))\n",
    "\n",
    "# val/test split\n",
    "val_logits = logits[random_split[:5000], :]\n",
    "test_logits = logits[random_split[5000:], :]"
   ]
  },
  {
   "cell_type": "markdown",
   "metadata": {},
   "source": [
    "Initialize params"
   ]
  },
  {
   "cell_type": "code",
   "execution_count": 7,
   "metadata": {},
   "outputs": [],
   "source": [
    "w_mean = np.random.randn(10, 10)\n",
    "w_log_var = np.random.randn(10, 10)\n",
    "\n",
    "b_mean = np.random.randn(10)\n",
    "b_log_var = np.random.randn(10)\n",
    "\n",
    "params = {\n",
    "    'w_mean': w_mean,\n",
    "    'w_log_var': w_log_var,\n",
    "    'b_mean': b_mean,\n",
    "    'b_log_var': b_log_var\n",
    "}\n",
    "\n",
    "## PRIOR\n",
    "prior_w_mean = np.zeros([10, 10])\n",
    "prior_b_mean = np.zeros(10)\n",
    "\n",
    "prior_w_log_var = np.log(np.zeros([10, 10]) + 0.0001)\n",
    "prior_b_log_var = np.log(np.zeros(10) + 0.0001)"
   ]
  },
  {
   "cell_type": "code",
   "execution_count": 8,
   "metadata": {},
   "outputs": [],
   "source": [
    "def sample(params):\n",
    "    Z_w = np.random.randn(10, 10)\n",
    "    Z_b = np.random.randn(10)\n",
    "    \n",
    "    w = Z_w*np.exp(0.5 * params['w_log_var']) + params['w_mean']\n",
    "    b = Z_b*np.exp(0.5 * params['b_log_var']) + params['b_mean']\n",
    "\n",
    "    return w, b, Z_w, Z_b"
   ]
  },
  {
   "cell_type": "code",
   "execution_count": 9,
   "metadata": {},
   "outputs": [],
   "source": [
    "def predict(X, params, K=1000):\n",
    "    y = np.zeros(X.shape)\n",
    "    for i in range(K):\n",
    "        w, b, _, _ = sample(params)\n",
    "        y += X @ w + b\n",
    "        \n",
    "    y /= K\n",
    "    return softmax(y, axis=1)"
   ]
  },
  {
   "cell_type": "code",
   "execution_count": 10,
   "metadata": {},
   "outputs": [],
   "source": [
    "def KL(params):\n",
    "    mean_w_KL = 0.5 * np.mean(np.exp(params['w_log_var']-prior_w_log_var) + (prior_w_mean - params['w_mean'])**2 - 1 + (prior_w_log_var - params['w_log_var']))\n",
    "    mean_b_KL = 0.5 * np.mean(np.exp(params['b_log_var']-prior_b_log_var) + (prior_b_mean - params['b_mean'])**2 - 1 + (prior_b_log_var - params['b_log_var']))\n",
    "    \n",
    "    KL = (mean_w_KL + mean_b_KL)/2.\n",
    "    \n",
    "    return KL"
   ]
  },
  {
   "cell_type": "code",
   "execution_count": 11,
   "metadata": {},
   "outputs": [],
   "source": [
    "def fit(X, y, params, batch_size=16, epochs=1000, lambd=0.1, learning_rate=0.001):\n",
    "    n_steps = X.shape[0]//batch_size + (X.shape[0]%batch_size > 0)\n",
    "    \n",
    "    history = {\n",
    "        'NLL': [],\n",
    "        'mean_KL': [],\n",
    "        'ELBO': [],\n",
    "        'epoch': []\n",
    "    }\n",
    "    \n",
    "    for e in range(epochs):\n",
    "        for j in range(n_steps):\n",
    "            \n",
    "            log_batch = X[j*batch_size:min((j+1)*batch_size, X.shape[0]), :]\n",
    "            y_batch = y[j*batch_size:min((j+1)*batch_size, X.shape[0]), :]\n",
    "            \n",
    "            # Forward pass\n",
    "            w, b, Z_w, Z_b = sample(params)\n",
    "            logits = log_batch @ w + b\n",
    "            \n",
    "            probs = softmax(logits, axis=1)\n",
    "            \n",
    "            # Likelihood backpropagation\n",
    "            dW = np.mean((probs-y_batch).reshape([-1, 10, 1])\n",
    "                         @ log_batch.reshape([-1, 1, 10]), axis=0).T\n",
    "            dw_log_var = dW * (-0.5) * np.exp(0.5 * params['w_log_var']) * Z_w\n",
    "            dw_mean = dW\n",
    "            \n",
    "            db = np.mean((probs-y_batch), axis=0)\n",
    "            db_log_var = db * (-0.5) * np.exp(0.5 * params['b_log_var']) * Z_b\n",
    "            db_mean = db\n",
    "            \n",
    "            # KL backpropagation\n",
    "            dw_mean_KL = -(prior_w_mean - params['w_mean'])\n",
    "            dw_log_var_KL = 0.5*(np.exp(params['w_log_var']-prior_w_log_var) - 1)\n",
    "            \n",
    "            db_mean_KL = -(prior_b_mean - params['b_mean'])\n",
    "            db_log_var_KL = 0.5*(np.exp(params['b_log_var']-prior_b_log_var) - 1)\n",
    "            \n",
    "            \"\"\"\n",
    "            print('dw_mean: {}'.format(dw_mean))\n",
    "            print('dw_log_var: {}'.format(dw_log_var))\n",
    "            print('db_mean: {}'.format(db_mean))\n",
    "            print('db_log_var: {}'.format(db_log_var))\n",
    "            \n",
    "            print('dw_mean_KL: {}'.format(dw_mean_KL))\n",
    "            print('dw_log_var_KL: {}'.format(dw_log_var_KL))\n",
    "            print('db_mean_KL: {}'.format(db_mean_KL))\n",
    "            print('db_log_var_KL: {}'.format(db_log_var_KL))\n",
    "            \"\"\"\n",
    "            \n",
    "            # Update parameters\n",
    "            params['w_mean'] -= learning_rate*(dw_mean + lambd*dw_mean_KL)\n",
    "            params['w_log_var'] -= learning_rate*(dw_log_var + lambd*dw_log_var_KL)\n",
    "            params['b_mean'] -= learning_rate*(db_mean + lambd*db_mean_KL)\n",
    "            params['b_log_var'] -= learning_rate*(db_log_var + lambd*db_log_var_KL)\n",
    "\n",
    "            \n",
    "        nll = neg_log_likelihood(predict(X, params, K=100), y)\n",
    "        kl = KL(params)\n",
    "        elbo = -nll - lambd*kl\n",
    "            \n",
    "        if np.isnan(nll):\n",
    "            print(params)\n",
    "            break\n",
    "        \n",
    "        history['NLL'].append(nll)\n",
    "        history['mean_KL'].append(kl)\n",
    "        history['ELBO'].append(elbo)\n",
    "        history['epoch'].append(e)\n",
    "        \n",
    "        if e%100 == 0:\n",
    "            print(\"End of epoch {:d},NLL: {:.3e}, mean KL: {:.3e}, ELBO: {:.3e}\".format(e, nll, kl, elbo))\n",
    "    return params, history\n",
    "    "
   ]
  },
  {
   "cell_type": "code",
   "execution_count": 24,
   "metadata": {},
   "outputs": [
    {
     "name": "stdout",
     "output_type": "stream",
     "text": [
      "End of epoch 0,NLL: 1.801e-01, mean KL: 7.177e-02, ELBO: -1.808e-01\n",
      "End of epoch 100,NLL: 1.800e-01, mean KL: 6.989e-02, ELBO: -1.807e-01\n",
      "End of epoch 200,NLL: 1.800e-01, mean KL: 6.807e-02, ELBO: -1.807e-01\n",
      "End of epoch 300,NLL: 1.800e-01, mean KL: 6.631e-02, ELBO: -1.807e-01\n",
      "End of epoch 400,NLL: 1.800e-01, mean KL: 6.461e-02, ELBO: -1.807e-01\n",
      "End of epoch 500,NLL: 1.800e-01, mean KL: 6.297e-02, ELBO: -1.806e-01\n",
      "End of epoch 600,NLL: 1.801e-01, mean KL: 6.137e-02, ELBO: -1.807e-01\n",
      "End of epoch 700,NLL: 1.800e-01, mean KL: 5.983e-02, ELBO: -1.806e-01\n",
      "End of epoch 800,NLL: 1.800e-01, mean KL: 5.833e-02, ELBO: -1.806e-01\n",
      "End of epoch 900,NLL: 1.800e-01, mean KL: 5.688e-02, ELBO: -1.805e-01\n",
      "End of epoch 1000,NLL: 1.799e-01, mean KL: 5.548e-02, ELBO: -1.805e-01\n",
      "End of epoch 1100,NLL: 1.800e-01, mean KL: 5.411e-02, ELBO: -1.805e-01\n",
      "End of epoch 1200,NLL: 1.800e-01, mean KL: 5.280e-02, ELBO: -1.805e-01\n",
      "End of epoch 1300,NLL: 1.799e-01, mean KL: 5.152e-02, ELBO: -1.805e-01\n",
      "End of epoch 1400,NLL: 1.799e-01, mean KL: 5.028e-02, ELBO: -1.804e-01\n",
      "End of epoch 1500,NLL: 1.799e-01, mean KL: 4.908e-02, ELBO: -1.804e-01\n",
      "End of epoch 1600,NLL: 1.799e-01, mean KL: 4.791e-02, ELBO: -1.804e-01\n",
      "End of epoch 1700,NLL: 1.800e-01, mean KL: 4.678e-02, ELBO: -1.804e-01\n",
      "End of epoch 1800,NLL: 1.800e-01, mean KL: 4.568e-02, ELBO: -1.804e-01\n",
      "End of epoch 1900,NLL: 1.800e-01, mean KL: 4.462e-02, ELBO: -1.805e-01\n",
      "End of epoch 2000,NLL: 1.799e-01, mean KL: 4.359e-02, ELBO: -1.803e-01\n",
      "End of epoch 2100,NLL: 1.799e-01, mean KL: 4.258e-02, ELBO: -1.804e-01\n",
      "End of epoch 2200,NLL: 1.799e-01, mean KL: 4.161e-02, ELBO: -1.803e-01\n",
      "End of epoch 2300,NLL: 1.799e-01, mean KL: 4.067e-02, ELBO: -1.803e-01\n",
      "End of epoch 2400,NLL: 1.799e-01, mean KL: 3.975e-02, ELBO: -1.803e-01\n",
      "End of epoch 2500,NLL: 1.799e-01, mean KL: 3.886e-02, ELBO: -1.803e-01\n",
      "End of epoch 2600,NLL: 1.799e-01, mean KL: 3.799e-02, ELBO: -1.803e-01\n",
      "End of epoch 2700,NLL: 1.799e-01, mean KL: 3.715e-02, ELBO: -1.803e-01\n",
      "End of epoch 2800,NLL: 1.799e-01, mean KL: 3.634e-02, ELBO: -1.803e-01\n",
      "End of epoch 2900,NLL: 1.799e-01, mean KL: 3.555e-02, ELBO: -1.803e-01\n",
      "End of epoch 3000,NLL: 1.799e-01, mean KL: 3.478e-02, ELBO: -1.802e-01\n",
      "End of epoch 3100,NLL: 1.799e-01, mean KL: 3.403e-02, ELBO: -1.803e-01\n",
      "End of epoch 3200,NLL: 1.799e-01, mean KL: 3.330e-02, ELBO: -1.802e-01\n",
      "End of epoch 3300,NLL: 1.799e-01, mean KL: 3.260e-02, ELBO: -1.802e-01\n",
      "End of epoch 3400,NLL: 1.799e-01, mean KL: 3.191e-02, ELBO: -1.802e-01\n",
      "End of epoch 3500,NLL: 1.799e-01, mean KL: 3.124e-02, ELBO: -1.803e-01\n",
      "End of epoch 3600,NLL: 1.799e-01, mean KL: 3.059e-02, ELBO: -1.802e-01\n",
      "End of epoch 3700,NLL: 1.799e-01, mean KL: 2.996e-02, ELBO: -1.802e-01\n",
      "End of epoch 3800,NLL: 1.799e-01, mean KL: 2.935e-02, ELBO: -1.802e-01\n",
      "End of epoch 3900,NLL: 1.800e-01, mean KL: 2.875e-02, ELBO: -1.802e-01\n",
      "End of epoch 4000,NLL: 1.799e-01, mean KL: 2.817e-02, ELBO: -1.802e-01\n",
      "End of epoch 4100,NLL: 1.799e-01, mean KL: 2.761e-02, ELBO: -1.801e-01\n",
      "End of epoch 4200,NLL: 1.799e-01, mean KL: 2.706e-02, ELBO: -1.801e-01\n",
      "End of epoch 4300,NLL: 1.799e-01, mean KL: 2.652e-02, ELBO: -1.802e-01\n",
      "End of epoch 4400,NLL: 1.799e-01, mean KL: 2.600e-02, ELBO: -1.802e-01\n",
      "End of epoch 4500,NLL: 1.799e-01, mean KL: 2.550e-02, ELBO: -1.802e-01\n",
      "End of epoch 4600,NLL: 1.799e-01, mean KL: 2.500e-02, ELBO: -1.802e-01\n",
      "End of epoch 4700,NLL: 1.800e-01, mean KL: 2.452e-02, ELBO: -1.802e-01\n",
      "End of epoch 4800,NLL: 1.799e-01, mean KL: 2.406e-02, ELBO: -1.801e-01\n",
      "End of epoch 4900,NLL: 1.799e-01, mean KL: 2.360e-02, ELBO: -1.802e-01\n"
     ]
    }
   ],
   "source": [
    "params, h = fit(val_logits, val_target, params, batch_size=256, epochs=5000, lambd=0.01)"
   ]
  },
  {
   "cell_type": "code",
   "execution_count": 25,
   "metadata": {},
   "outputs": [
    {
     "data": {
      "image/png": "[encoded data removed]",
      "text/plain": [
       "<Figure size 1152x432 with 3 Axes>"
      ]
     },
     "metadata": {
      "needs_background": "light"
     },
     "output_type": "display_data"
    }
   ],
   "source": [
    "fig, ax_arr = plt.subplots(1, 3, figsize=(16, 6))\n",
    "\n",
    "ax_arr[0].plot(h['epoch'], h['NLL'])\n",
    "ax_arr[0].set_ylabel('NLL')\n",
    "ax_arr[0].set_xlabel('epoch')\n",
    "ax_arr[1].plot(h['epoch'], h['mean_KL'])\n",
    "ax_arr[1].set_ylabel('mean_KL')\n",
    "ax_arr[1].set_xlabel('epoch')\n",
    "ax_arr[2].plot(h['epoch'], h['ELBO'])\n",
    "ax_arr[2].set_ylabel('ELBO')\n",
    "ax_arr[2].set_xlabel('epoch')\n",
    "\n",
    "plt.show();"
   ]
  },
  {
   "cell_type": "markdown",
   "metadata": {},
   "source": [
    "Measure calibration performance:"
   ]
  },
  {
   "cell_type": "code",
   "execution_count": 26,
   "metadata": {},
   "outputs": [
    {
     "name": "stdout",
     "output_type": "stream",
     "text": [
      "Calibrated using temperature T=2.437\n",
      "\n",
      "\n"
     ]
    }
   ],
   "source": [
    "### Temp-Scaling\n",
    "temp_scaling_cal = TempScalingCalibrator(val_logits, val_target)\n",
    "print(\"Calibrated using temperature T={:.3f}\\n\\n\".format(temp_scaling_cal.T))\n",
    "\n",
    "val_probs_temp = temp_scaling_cal.predict(val_logits)\n",
    "test_probs_temp = temp_scaling_cal.predict(test_logits)\n",
    "\n",
    "### MAtrix-Scaling\n",
    "mat_scaling_cal = MatrixScalingCalibrator(val_logits, val_target)\n",
    "\n",
    "val_probs_mat = mat_scaling_cal.predict(val_logits)\n",
    "test_probs_mat = mat_scaling_cal.predict(test_logits)\n",
    "\n",
    "\n",
    "\n",
    "### Uncalibrated model\n",
    "val_probs = softmax(val_logits, axis=1)\n",
    "test_probs = softmax(test_logits, axis=1)\n",
    "\n",
    "val_ece = expected_calibration_error(val_probs, val_target)\n",
    "test_ece = expected_calibration_error(test_probs, test_target)\n",
    "\n",
    "val_nll = neg_log_likelihood(val_probs, val_target)\n",
    "test_nll = neg_log_likelihood(test_probs, test_target)\n",
    "\n",
    "## Temp-Scaling\n",
    "# Validation set\n",
    "val_nll_temp = neg_log_likelihood(val_probs_temp, val_target)\n",
    "val_ece_temp = expected_calibration_error(val_probs_temp, val_target, bins=15)\n",
    "\n",
    "# Test set\n",
    "test_nll_temp = neg_log_likelihood(test_probs_temp, test_target)\n",
    "test_ece_temp = expected_calibration_error(test_probs_temp, test_target, bins=15)\n",
    "\n",
    "\n",
    "## Matrix-Scaling\n",
    "# Validation set\n",
    "val_nll_mat = neg_log_likelihood(val_probs_mat, val_target)\n",
    "val_ece_mat = expected_calibration_error(val_probs_mat, val_target, bins=15)\n",
    "\n",
    "# Test set\n",
    "test_nll_mat = neg_log_likelihood(test_probs_mat, test_target)\n",
    "test_ece_mat = expected_calibration_error(test_probs_mat, test_target, bins=15)\n",
    "\n",
    "\n",
    "\n",
    "## Bayesian Matrix-Scaling calibrated\n",
    "val_probs_bms = predict(val_logits, params)\n",
    "test_probs_bms = predict(test_logits, params)\n",
    "\n",
    "val_ece_bms = expected_calibration_error(val_probs_bms, val_target)\n",
    "test_ece_bms = expected_calibration_error(test_probs_bms, test_target)\n",
    "\n",
    "val_nll_bms = neg_log_likelihood(val_probs_bms, val_target)\n",
    "test_nll_bms = neg_log_likelihood(test_probs_bms, test_target)"
   ]
  },
  {
   "cell_type": "code",
   "execution_count": 27,
   "metadata": {},
   "outputs": [],
   "source": [
    "def autolabel(rects, ax):\n",
    "    \"\"\"Attach a text label above each bar in *rects*, displaying its height.\n",
    "    Taken from:\n",
    "    'https://matplotlib.org/3.1.1/gallery/lines_bars_and_markers/barchart.html#sphx-glr-gallery-lines-bars-and-markers-barchart-py'\n",
    "    \n",
    "    \"\"\"\n",
    "    for rect in rects:\n",
    "        height = rect.get_height()\n",
    "        ax.annotate('{:.3f}'.format(height),\n",
    "                    xy=(rect.get_x() + rect.get_width() / 2, height),\n",
    "                    xytext=(0, 3),  # 3 points vertical offset\n",
    "                    textcoords=\"offset points\",\n",
    "                    ha='center', va='bottom')"
   ]
  },
  {
   "cell_type": "code",
   "execution_count": 28,
   "metadata": {},
   "outputs": [
    {
     "data": {
      "image/png": "[encoded data removed]",
      "text/plain": [
       "<Figure size 1224x432 with 2 Axes>"
      ]
     },
     "metadata": {
      "needs_background": "light"
     },
     "output_type": "display_data"
    }
   ],
   "source": [
    "fig, ax_arr = plt.subplots(1, 2, figsize=(17, 6))\n",
    "fig.suptitle('Calibration of resnet56_v2 on CIFAR10', fontsize=16)\n",
    "\n",
    "\n",
    "ind = np.arange(4)\n",
    "width = 0.35\n",
    "\n",
    "ticks = ['Uncalibrated', 'Temp-Scaling', 'Matrix-Scaling', 'Bayesian Matrix-Scaling']\n",
    "\n",
    "\n",
    "validation = np.array([val_nll, val_nll_temp, val_nll_mat, val_nll_bms])\n",
    "test = np.array([test_nll, test_nll_temp, test_nll_mat, test_nll_bms])\n",
    "\n",
    "\n",
    "rects1 = ax_arr[0].bar(ind, validation, width, color='b', label='Validation set')\n",
    "rects2 = ax_arr[0].bar(ind+width, test, width, color='r', label='Test set')\n",
    "\n",
    "ax_arr[0].set_ylabel('NLL')\n",
    "ax_arr[0].set_title('NLL comparison')\n",
    "ax_arr[0].set_xticks(ind + width / 2)\n",
    "ax_arr[0].set_xticklabels(ticks)\n",
    "ax_arr[0].set_ylim([0, max(validation.max(), test.max())*1.3])\n",
    "ax_arr[0].legend()\n",
    "\n",
    "autolabel(rects1, ax_arr[0])\n",
    "autolabel(rects2, ax_arr[0])\n",
    "\n",
    "\n",
    "validation = np.array([val_ece, val_ece_temp, val_ece_mat, val_ece_bms])*100\n",
    "test = np.array([test_ece, test_ece_temp, test_ece_mat, test_ece_bms])*100\n",
    "\n",
    "rects1 = ax_arr[1].bar(ind, validation, width, color='b', label='Validation set')\n",
    "rects2 = ax_arr[1].bar(ind+width, test, width, color='r', label='Test set')\n",
    "\n",
    "ax_arr[1].set_ylabel('ECE (%)')\n",
    "ax_arr[1].set_title('Expected Calibration Error comparison')\n",
    "ax_arr[1].set_xticks(ind + width / 2)\n",
    "ax_arr[1].set_xticklabels(ticks)\n",
    "ax_arr[1].set_ylim([0, max(validation.max(), test.max())*1.3])\n",
    "ax_arr[1].legend()\n",
    "\n",
    "autolabel(rects1, ax_arr[1])\n",
    "autolabel(rects2, ax_arr[1])\n",
    "\n",
    "plt.show()"
   ]
  },
  {
   "cell_type": "code",
   "execution_count": 29,
   "metadata": {},
   "outputs": [
    {
     "data": {
      "text/plain": [
       "{'w_mean': array([[ 3.85807397e-01, -4.50999716e-02, -6.32463363e-02,\n",
       "         -1.11205808e-01, -5.08353023e-02, -5.30539638e-02,\n",
       "         -1.49664386e-02, -2.01688813e-03,  9.23805057e-03,\n",
       "         -8.17314315e-02],\n",
       "        [-5.78122542e-02,  3.99829610e-01, -1.12996793e-01,\n",
       "         -4.35201173e-02, -4.83936343e-02, -6.68116441e-02,\n",
       "         -5.10535034e-02, -5.51155135e-02, -2.35905784e-02,\n",
       "          2.74258938e-02],\n",
       "        [ 2.96302760e-03, -7.95695691e-02,  3.53238378e-01,\n",
       "          1.17878488e-02, -3.42843960e-02,  2.25500438e-02,\n",
       "         -6.74115042e-02, -2.01080739e-03, -4.16000955e-02,\n",
       "         -1.16929665e-01],\n",
       "        [-6.06642754e-02, -4.86055786e-02, -8.26072877e-02,\n",
       "          3.52198683e-01, -2.45493149e-03,  3.46903268e-02,\n",
       "         -5.60137284e-02, -2.98153870e-02,  9.78306427e-03,\n",
       "          7.98752533e-03],\n",
       "        [-2.61698655e-02,  1.27035524e-02, -3.78492043e-02,\n",
       "         -7.74474869e-02,  4.11557670e-01, -4.34374693e-02,\n",
       "         -2.82535548e-02, -1.66601593e-02, -1.30129734e-02,\n",
       "          1.10605449e-02],\n",
       "        [-6.96634341e-02, -8.95512405e-02, -1.09494275e-03,\n",
       "          4.40863825e-02, -6.28887472e-02,  3.80280249e-01,\n",
       "          3.47701523e-03,  4.43213475e-02, -1.80923814e-02,\n",
       "         -9.43350816e-02],\n",
       "        [ 1.98033397e-02, -4.21376253e-04, -5.44826834e-02,\n",
       "         -9.25874391e-02, -6.91258817e-02, -8.03367594e-02,\n",
       "          3.96087171e-01,  1.07306105e-02, -2.08033596e-02,\n",
       "         -4.60820099e-02],\n",
       "        [-5.50897327e-02, -1.02879201e-01, -3.96465748e-02,\n",
       "         -9.40196959e-02, -1.89904706e-02, -2.87611654e-02,\n",
       "         -3.66027633e-02,  4.64676781e-01, -1.67647810e-01,\n",
       "         -7.25119413e-02],\n",
       "        [-2.10331395e-02, -5.56135556e-02, -3.66151902e-02,\n",
       "         -5.76141218e-02, -5.96174270e-02,  5.04964504e-03,\n",
       "         -8.34790712e-02, -2.13145435e-02,  3.62657646e-01,\n",
       "         -8.57766153e-02],\n",
       "        [-3.88664803e-02, -1.97559293e-02, -1.28510972e-01,\n",
       "         -2.55309333e-02,  3.11537620e-03, -7.01804983e-02,\n",
       "         -7.27646861e-02, -1.98948205e-02, -3.35458751e-02,\n",
       "          3.55489615e-01]]),\n",
       " 'w_log_var': array([[-8.94724286, -8.95588419, -8.95252758, -8.94996692, -8.95320428,\n",
       "         -8.9509931 , -8.95543342, -8.95476163, -8.95280515, -8.95570858],\n",
       "        [-8.95541442, -8.94726268, -8.95151631, -8.94865454, -8.95201116,\n",
       "         -8.94909067, -8.9546769 , -8.95433383, -8.9554637 , -8.94904366],\n",
       "        [-8.95362388, -8.95579711, -8.94395489, -8.95128446, -8.95461569,\n",
       "         -8.95265618, -8.95492881, -8.95560483, -8.95668426, -8.95583127],\n",
       "        [-8.95595005, -8.95710117, -8.95366354, -8.93200789, -8.95299808,\n",
       "         -8.9386458 , -8.95409131, -8.95497864, -8.95655806, -8.95698251],\n",
       "        [-8.95502654, -8.95291495, -8.95262378, -8.95139517, -8.94607397,\n",
       "         -8.95200093, -8.95509861, -8.95349866, -8.95494844, -8.9530369 ],\n",
       "        [-8.95473577, -8.9557174 , -8.95296399, -8.93679281, -8.95382206,\n",
       "         -8.9301607 , -8.95528501, -8.95221514, -8.95519564, -8.9556042 ],\n",
       "        [-8.95374162, -8.95565592, -8.95343431, -8.95095903, -8.954529  ,\n",
       "         -8.95295264, -8.95091971, -8.9553075 , -8.95487737, -8.95489176],\n",
       "        [-8.95523059, -8.95582203, -8.95475213, -8.95324009, -8.95375689,\n",
       "         -8.95251096, -8.95593049, -8.95052106, -8.95574079, -8.95594631],\n",
       "        [-8.9525237 , -8.95515476, -8.95019795, -8.94095643, -8.95048702,\n",
       "         -8.94198881, -8.95327716, -8.95212787, -8.950503  , -8.95554381],\n",
       "        [-8.95528063, -8.94994637, -8.95367139, -8.95095842, -8.95481463,\n",
       "         -8.95151412, -8.95574171, -8.95568891, -8.95526474, -8.9469643 ]]),\n",
       " 'b_mean': array([ 0.04311165, -0.05918407,  0.05842225,  0.07193221,  0.01914095,\n",
       "         0.02845209,  0.00022935,  0.01055969,  0.08132064, -0.11918401]),\n",
       " 'b_log_var': array([-8.95800798, -8.95785949, -8.95776971, -8.95768914, -8.95777638,\n",
       "        -8.95771704, -8.95783929, -8.95785226, -8.95782815, -8.9578104 ])}"
      ]
     },
     "execution_count": 29,
     "metadata": {},
     "output_type": "execute_result"
    }
   ],
   "source": [
    "params"
   ]
  },
  {
   "cell_type": "code",
   "execution_count": null,
   "metadata": {},
   "outputs": [],
   "source": []
  }
 ],
 "metadata": {
  "kernelspec": {
   "display_name": "Python 3",
   "language": "python",
   "name": "python3"
  },
  "language_info": {
   "codemirror_mode": {
    "name": "ipython",
    "version": 3
   },
   "file_extension": ".py",
   "mimetype": "text/x-python",
   "name": "python",
   "nbconvert_exporter": "python",
   "pygments_lexer": "ipython3",
   "version": "3.6.8"
  }
 },
 "nbformat": 4,
 "nbformat_minor": 2
}
