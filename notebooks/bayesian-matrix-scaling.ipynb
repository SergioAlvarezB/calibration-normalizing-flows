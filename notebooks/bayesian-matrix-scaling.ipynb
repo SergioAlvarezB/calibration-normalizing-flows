{
 "cells": [
  {
   "cell_type": "markdown",
   "metadata": {},
   "source": [
    "# Matrix-Scaling: A Bayesian approach"
   ]
  },
  {
   "cell_type": "code",
   "execution_count": 1,
   "metadata": {},
   "outputs": [],
   "source": [
    "import os\n",
    "import sys\n",
    "import time\n",
    "import importlib\n",
    "import collections\n",
    "sys.path.append('..')\n",
    "\n",
    "import numpy as np\n",
    "import pandas as pd\n",
    "from scipy.special import softmax\n",
    "import matplotlib.pyplot as plt\n",
    "\n",
    "from utils.data import get_cifar10, load_logits\n",
    "from utils.ops import onehot_encode\n",
    "from utils.metrics import neg_log_likelihood, expected_calibration_error\n",
    "from calibrators import NiceCalibrator, TempScalingCalibrator, MatrixScalingCalibrator"
   ]
  },
  {
   "cell_type": "code",
   "execution_count": 2,
   "metadata": {},
   "outputs": [],
   "source": [
    "data_path = '../cifar-10'"
   ]
  },
  {
   "cell_type": "code",
   "execution_count": 3,
   "metadata": {},
   "outputs": [
    {
     "name": "stdout",
     "output_type": "stream",
     "text": [
      "Number of samples in the test set: 10000\n"
     ]
    }
   ],
   "source": [
    "cifar10, ix2label = get_cifar10(data_path, test=True)\n",
    "print(\"Number of samples in the test set: {:d}\".format(cifar10[\"test_labels\"].shape[0]))"
   ]
  },
  {
   "cell_type": "code",
   "execution_count": 4,
   "metadata": {},
   "outputs": [],
   "source": [
    "target = onehot_encode(cifar10['test_labels'])\n",
    "\n",
    "# val/test split\n",
    "random_split = np.random.permutation(10000)\n",
    "\n",
    "val_target = target[random_split[:5000], :]\n",
    "test_target = target[random_split[5000:], :]"
   ]
  },
  {
   "cell_type": "code",
   "execution_count": 5,
   "metadata": {},
   "outputs": [],
   "source": [
    "resnet_path = '../pretrained-models'\n",
    "net = 'resnet56_v2'"
   ]
  },
  {
   "cell_type": "code",
   "execution_count": 6,
   "metadata": {},
   "outputs": [],
   "source": [
    "_, logits = load_logits(os.path.join(resnet_path, net))\n",
    "\n",
    "# val/test split\n",
    "val_logits = logits[random_split[:5000], :]\n",
    "test_logits = logits[random_split[5000:], :]"
   ]
  },
  {
   "cell_type": "markdown",
   "metadata": {},
   "source": [
    "Initialize params"
   ]
  },
  {
   "cell_type": "code",
   "execution_count": 7,
   "metadata": {},
   "outputs": [],
   "source": [
    "w_mean = np.random.randn(10, 10)\n",
    "w_log_var = np.random.randn(10, 10)\n",
    "\n",
    "b_mean = np.random.randn(10)\n",
    "b_log_var = np.random.randn(10)\n",
    "\n",
    "params = {\n",
    "    'w_mean': w_mean,\n",
    "    'w_log_var': w_log_var,\n",
    "    'b_mean': b_mean,\n",
    "    'b_log_var': b_log_var\n",
    "}\n",
    "\n",
    "## PRIOR\n",
    "prior_w_mean = np.zeros([10, 10])\n",
    "prior_b_mean = np.zeros(10)\n",
    "\n",
    "prior_w_log_var = np.log(np.zeros([10, 10]) + 0.0001)\n",
    "prior_b_log_var = np.log(np.zeros(10) + 0.0001)"
   ]
  },
  {
   "cell_type": "code",
   "execution_count": 8,
   "metadata": {},
   "outputs": [],
   "source": [
    "def sample(params):\n",
    "    Z_w = np.random.randn(10, 10)\n",
    "    Z_b = np.random.randn(10)\n",
    "    \n",
    "    w = Z_w*np.exp(0.5 * params['w_log_var']) + params['w_mean']\n",
    "    b = Z_b*np.exp(0.5 * params['b_log_var']) + params['b_mean']\n",
    "\n",
    "    return w, b, Z_w, Z_b"
   ]
  },
  {
   "cell_type": "code",
   "execution_count": 9,
   "metadata": {},
   "outputs": [],
   "source": [
    "def predict(X, params, K=1000):\n",
    "    y = np.zeros(X.shape)\n",
    "    for i in range(K):\n",
    "        w, b, _, _ = sample(params)\n",
    "        y += X @ w + b\n",
    "        \n",
    "    y /= K\n",
    "    return softmax(y, axis=1)"
   ]
  },
  {
   "cell_type": "code",
   "execution_count": 10,
   "metadata": {},
   "outputs": [],
   "source": [
    "def KL(params):\n",
    "    mean_w_KL = 0.5 * np.mean(np.exp(params['w_log_var']-prior_w_log_var) + (prior_w_mean - params['w_mean'])**2 - 1 + (prior_w_log_var - params['w_log_var']))\n",
    "    mean_b_KL = 0.5 * np.mean(np.exp(params['b_log_var']-prior_b_log_var) + (prior_b_mean - params['b_mean'])**2 - 1 + (prior_b_log_var - params['b_log_var']))\n",
    "    \n",
    "    KL = (mean_w_KL + mean_b_KL)/2.\n",
    "    \n",
    "    return KL"
   ]
  },
  {
   "cell_type": "code",
   "execution_count": 11,
   "metadata": {},
   "outputs": [],
   "source": [
    "def fit(X, y, params, batch_size=16, epochs=1000, lambd=0.1, learning_rate=0.001):\n",
    "    n_steps = X.shape[0]//batch_size + (X.shape[0]%batch_size > 0)\n",
    "    \n",
    "    history = {\n",
    "        'NLL': [],\n",
    "        'mean_KL': [],\n",
    "        'ELBO': [],\n",
    "        'epoch': []\n",
    "    }\n",
    "    \n",
    "    for e in range(epochs):\n",
    "        for j in range(n_steps):\n",
    "            \n",
    "            log_batch = X[j*batch_size:min((j+1)*batch_size, X.shape[0]), :]\n",
    "            y_batch = y[j*batch_size:min((j+1)*batch_size, X.shape[0]), :]\n",
    "            \n",
    "            # Forward pass\n",
    "            w, b, Z_w, Z_b = sample(params)\n",
    "            logits = log_batch @ w + b\n",
    "            \n",
    "            probs = softmax(logits, axis=1)\n",
    "            \n",
    "            # Likelihood backpropagation\n",
    "            dW = np.mean((probs-y_batch).reshape([-1, 10, 1])\n",
    "                         @ log_batch.reshape([-1, 1, 10]), axis=0).T\n",
    "            dw_log_var = dW * (-0.5) * np.exp(0.5 * params['w_log_var']) * Z_w\n",
    "            dw_mean = dW\n",
    "            \n",
    "            db = np.mean((probs-y_batch), axis=0)\n",
    "            db_log_var = db * (-0.5) * np.exp(0.5 * params['b_log_var']) * Z_b\n",
    "            db_mean = db\n",
    "            \n",
    "            # KL backpropagation\n",
    "            dw_mean_KL = -(prior_w_mean - params['w_mean'])\n",
    "            dw_log_var_KL = 0.5*(np.exp(params['w_log_var']-prior_w_log_var) - 1)\n",
    "            \n",
    "            db_mean_KL = -(prior_b_mean - params['b_mean'])\n",
    "            db_log_var_KL = 0.5*(np.exp(params['b_log_var']-prior_b_log_var) - 1)\n",
    "            \n",
    "            \"\"\"\n",
    "            print('dw_mean: {}'.format(dw_mean))\n",
    "            print('dw_log_var: {}'.format(dw_log_var))\n",
    "            print('db_mean: {}'.format(db_mean))\n",
    "            print('db_log_var: {}'.format(db_log_var))\n",
    "            \n",
    "            print('dw_mean_KL: {}'.format(dw_mean_KL))\n",
    "            print('dw_log_var_KL: {}'.format(dw_log_var_KL))\n",
    "            print('db_mean_KL: {}'.format(db_mean_KL))\n",
    "            print('db_log_var_KL: {}'.format(db_log_var_KL))\n",
    "            \"\"\"\n",
    "            \n",
    "            # Update parameters\n",
    "            params['w_mean'] -= learning_rate*(dw_mean + lambd*dw_mean_KL)\n",
    "            params['w_log_var'] -= learning_rate*(dw_log_var + lambd*dw_log_var_KL)\n",
    "            params['b_mean'] -= learning_rate*(db_mean + lambd*db_mean_KL)\n",
    "            params['b_log_var'] -= learning_rate*(db_log_var + lambd*db_log_var_KL)\n",
    "\n",
    "            \n",
    "        nll = neg_log_likelihood(predict(X, params, K=100), y)\n",
    "        kl = KL(params)\n",
    "        elbo = -nll - lambd*kl\n",
    "            \n",
    "        if np.isnan(nll):\n",
    "            print(params)\n",
    "            break\n",
    "        \n",
    "        history['NLL'].append(nll)\n",
    "        history['mean_KL'].append(kl)\n",
    "        history['ELBO'].append(elbo)\n",
    "        history['epoch'].append(e)\n",
    "        \n",
    "        if e%100 == 0:\n",
    "            print(\"End of epoch {:d},NLL: {:.3e}, mean KL: {:.3e}, ELBO: {:.3e}\".format(e, nll, kl, elbo))\n",
    "    return params, history\n",
    "    "
   ]
  },
  {
   "cell_type": "code",
   "execution_count": 12,
   "metadata": {},
   "outputs": [
    {
     "name": "stdout",
     "output_type": "stream",
     "text": [
      "End of epoch 0,NLL: 1.435e+01, mean KL: 4.127e+02, ELBO: -3.499e+01\n",
      "End of epoch 100,NLL: 5.691e-01, mean KL: 3.722e+00, ELBO: -7.552e-01\n",
      "End of epoch 200,NLL: 3.823e-01, mean KL: 1.520e+00, ELBO: -4.583e-01\n",
      "End of epoch 300,NLL: 2.876e-01, mean KL: 8.312e-01, ELBO: -3.292e-01\n",
      "End of epoch 400,NLL: 2.334e-01, mean KL: 5.125e-01, ELBO: -2.591e-01\n",
      "End of epoch 500,NLL: 2.055e-01, mean KL: 3.379e-01, ELBO: -2.224e-01\n",
      "End of epoch 600,NLL: 1.939e-01, mean KL: 2.329e-01, ELBO: -2.056e-01\n",
      "End of epoch 700,NLL: 1.910e-01, mean KL: 1.658e-01, ELBO: -1.993e-01\n",
      "End of epoch 800,NLL: 1.909e-01, mean KL: 1.211e-01, ELBO: -1.970e-01\n",
      "End of epoch 900,NLL: 1.914e-01, mean KL: 9.029e-02, ELBO: -1.959e-01\n"
     ]
    }
   ],
   "source": [
    "params, h = fit(val_logits, val_target, params, batch_size=128, epochs=1000, lambd=0.05)"
   ]
  },
  {
   "cell_type": "code",
   "execution_count": 13,
   "metadata": {},
   "outputs": [
    {
     "data": {
      "image/png": "[encoded data removed]",
      "text/plain": [
       "<Figure size 1152x432 with 3 Axes>"
      ]
     },
     "metadata": {
      "needs_background": "light"
     },
     "output_type": "display_data"
    }
   ],
   "source": [
    "fig, ax_arr = plt.subplots(1, 3, figsize=(16, 6))\n",
    "\n",
    "ax_arr[0].plot(h['epoch'], h['NLL'])\n",
    "ax_arr[0].set_ylabel('NLL')\n",
    "ax_arr[0].set_xlabel('epoch')\n",
    "ax_arr[1].plot(h['epoch'], h['mean_KL'])\n",
    "ax_arr[1].set_ylabel('mean_KL')\n",
    "ax_arr[1].set_xlabel('epoch')\n",
    "ax_arr[2].plot(h['epoch'], h['ELBO'])\n",
    "ax_arr[2].set_ylabel('ELBO')\n",
    "ax_arr[2].set_xlabel('epoch')\n",
    "\n",
    "plt.show();"
   ]
  },
  {
   "cell_type": "markdown",
   "metadata": {},
   "source": [
    "Measure calibration performance:"
   ]
  },
  {
   "cell_type": "code",
   "execution_count": 14,
   "metadata": {},
   "outputs": [
    {
     "name": "stdout",
     "output_type": "stream",
     "text": [
      "Calibrated using temperature T=2.454\n",
      "\n",
      "\n"
     ]
    }
   ],
   "source": [
    "### Temp-Scaling\n",
    "temp_scaling_cal = TempScalingCalibrator(val_logits, val_target)\n",
    "print(\"Calibrated using temperature T={:.3f}\\n\\n\".format(temp_scaling_cal.T))\n",
    "\n",
    "val_probs_temp = temp_scaling_cal.predict(val_logits)\n",
    "test_probs_temp = temp_scaling_cal.predict(test_logits)\n",
    "\n",
    "### MAtrix-Scaling\n",
    "mat_scaling_cal = MatrixScalingCalibrator(val_logits, val_target)\n",
    "\n",
    "val_probs_mat = mat_scaling_cal.predict(val_logits)\n",
    "test_probs_mat = mat_scaling_cal.predict(test_logits)\n",
    "\n",
    "\n",
    "\n",
    "### Uncalibrated model\n",
    "val_probs = softmax(val_logits, axis=1)\n",
    "test_probs = softmax(test_logits, axis=1)\n",
    "\n",
    "val_ece = expected_calibration_error(val_probs, val_target)\n",
    "test_ece = expected_calibration_error(test_probs, test_target)\n",
    "\n",
    "val_nll = neg_log_likelihood(val_probs, val_target)\n",
    "test_nll = neg_log_likelihood(test_probs, test_target)\n",
    "\n",
    "## Temp-Scaling\n",
    "# Validation set\n",
    "val_nll_temp = neg_log_likelihood(val_probs_temp, val_target)\n",
    "val_ece_temp = expected_calibration_error(val_probs_temp, val_target, bins=15)\n",
    "\n",
    "# Test set\n",
    "test_nll_temp = neg_log_likelihood(test_probs_temp, test_target)\n",
    "test_ece_temp = expected_calibration_error(test_probs_temp, test_target, bins=15)\n",
    "\n",
    "\n",
    "## Matrix-Scaling\n",
    "# Validation set\n",
    "val_nll_mat = neg_log_likelihood(val_probs_mat, val_target)\n",
    "val_ece_mat = expected_calibration_error(val_probs_mat, val_target, bins=15)\n",
    "\n",
    "# Test set\n",
    "test_nll_mat = neg_log_likelihood(test_probs_mat, test_target)\n",
    "test_ece_mat = expected_calibration_error(test_probs_mat, test_target, bins=15)\n",
    "\n",
    "\n",
    "\n",
    "## Bayesian Matrix-Scaling calibrated\n",
    "val_probs_bms = predict(val_logits, params)\n",
    "test_probs_bms = predict(test_logits, params)\n",
    "\n",
    "val_ece_bms = expected_calibration_error(val_probs_bms, val_target)\n",
    "test_ece_bms = expected_calibration_error(test_probs_bms, test_target)\n",
    "\n",
    "val_nll_bms = neg_log_likelihood(val_probs_bms, val_target)\n",
    "test_nll_bms = neg_log_likelihood(test_probs_bms, test_target)"
   ]
  },
  {
   "cell_type": "code",
   "execution_count": 15,
   "metadata": {},
   "outputs": [],
   "source": [
    "def autolabel(rects, ax):\n",
    "    \"\"\"Attach a text label above each bar in *rects*, displaying its height.\n",
    "    Taken from:\n",
    "    'https://matplotlib.org/3.1.1/gallery/lines_bars_and_markers/barchart.html#sphx-glr-gallery-lines-bars-and-markers-barchart-py'\n",
    "    \n",
    "    \"\"\"\n",
    "    for rect in rects:\n",
    "        height = rect.get_height()\n",
    "        ax.annotate('{:.3f}'.format(height),\n",
    "                    xy=(rect.get_x() + rect.get_width() / 2, height),\n",
    "                    xytext=(0, 3),  # 3 points vertical offset\n",
    "                    textcoords=\"offset points\",\n",
    "                    ha='center', va='bottom')"
   ]
  },
  {
   "cell_type": "code",
   "execution_count": 16,
   "metadata": {},
   "outputs": [
    {
     "data": {
      "image/png": "[encoded data removed]",
      "text/plain": [
       "<Figure size 1224x432 with 2 Axes>"
      ]
     },
     "metadata": {
      "needs_background": "light"
     },
     "output_type": "display_data"
    }
   ],
   "source": [
    "fig, ax_arr = plt.subplots(1, 2, figsize=(17, 6))\n",
    "fig.suptitle('Calibration of resnet56_v2 on CIFAR10', fontsize=16)\n",
    "\n",
    "\n",
    "ind = np.arange(4)\n",
    "width = 0.35\n",
    "\n",
    "ticks = ['Uncalibrated', 'Temp-Scaling', 'Matrix-Scaling', 'Bayesian Matrix-Scaling']\n",
    "\n",
    "\n",
    "validation = np.array([val_nll, val_nll_temp, val_nll_mat, val_nll_bms])\n",
    "test = np.array([test_nll, test_nll_temp, test_nll_mat, test_nll_bms])\n",
    "\n",
    "\n",
    "rects1 = ax_arr[0].bar(ind, validation, width, color='b', label='Validation set')\n",
    "rects2 = ax_arr[0].bar(ind+width, test, width, color='r', label='Test set')\n",
    "\n",
    "ax_arr[0].set_ylabel('NLL')\n",
    "ax_arr[0].set_title('NLL comparison')\n",
    "ax_arr[0].set_xticks(ind + width / 2)\n",
    "ax_arr[0].set_xticklabels(ticks)\n",
    "ax_arr[0].set_ylim([0, max(validation.max(), test.max())*1.3])\n",
    "ax_arr[0].legend()\n",
    "\n",
    "autolabel(rects1, ax_arr[0])\n",
    "autolabel(rects2, ax_arr[0])\n",
    "\n",
    "\n",
    "validation = np.array([val_ece, val_ece_temp, val_ece_mat, val_ece_bms])*100\n",
    "test = np.array([test_ece, test_ece_temp, test_ece_mat, test_ece_bms])*100\n",
    "\n",
    "rects1 = ax_arr[1].bar(ind, validation, width, color='b', label='Validation set')\n",
    "rects2 = ax_arr[1].bar(ind+width, test, width, color='r', label='Test set')\n",
    "\n",
    "ax_arr[1].set_ylabel('ECE (%)')\n",
    "ax_arr[1].set_title('Expected Calibration Error comparison')\n",
    "ax_arr[1].set_xticks(ind + width / 2)\n",
    "ax_arr[1].set_xticklabels(ticks)\n",
    "ax_arr[1].set_ylim([0, max(validation.max(), test.max())*1.3])\n",
    "ax_arr[1].legend()\n",
    "\n",
    "autolabel(rects1, ax_arr[1])\n",
    "autolabel(rects2, ax_arr[1])\n",
    "\n",
    "plt.show()"
   ]
  },
  {
   "cell_type": "code",
   "execution_count": 17,
   "metadata": {},
   "outputs": [
    {
     "data": {
      "text/plain": [
       "{'w_mean': array([[ 0.25470092, -0.01447783,  0.00684877, -0.12292307, -0.0350734 ,\n",
       "         -0.06649763,  0.0693177 ,  0.03564327, -0.06341596, -0.1095706 ],\n",
       "        [-0.08736124,  0.40391807,  0.03315179, -0.06256197, -0.03421995,\n",
       "         -0.06949154,  0.05690777, -0.02557905, -0.03677782, -0.03926382],\n",
       "        [-0.06101495, -0.04936296,  0.40236786, -0.11090215,  0.01797597,\n",
       "         -0.07748797,  0.00672826,  0.03657344, -0.08282979, -0.18060918],\n",
       "        [-0.17260546, -0.02124865,  0.00147183,  0.24170388, -0.01251419,\n",
       "         -0.05297935,  0.01955389,  0.00836507, -0.04195562, -0.11397177],\n",
       "        [-0.09616145,  0.07863   ,  0.04119547, -0.09615752,  0.33512701,\n",
       "         -0.073845  ,  0.06306474, -0.00835602, -0.00765274, -0.05082644],\n",
       "        [-0.0388649 , -0.00550977,  0.07687263,  0.00415383,  0.01384327,\n",
       "          0.3312579 ,  0.10525166,  0.07344659, -0.07871428, -0.11862959],\n",
       "        [-0.07981415,  0.05706558,  0.02348063, -0.10236399,  0.01060061,\n",
       "         -0.06897084,  0.40943056, -0.00315761, -0.03738996, -0.06580715],\n",
       "        [-0.14346597, -0.03426703, -0.02392126, -0.1750594 , -0.04235865,\n",
       "         -0.11199204, -0.03693043,  0.37477579, -0.16560179, -0.13737045],\n",
       "        [-0.07276007,  0.02211736,  0.03975991, -0.09381283,  0.00523208,\n",
       "         -0.05571498,  0.02556375,  0.04881568,  0.30372087, -0.08531727],\n",
       "        [-0.11338092,  0.02565668, -0.0572016 , -0.14786576, -0.04030631,\n",
       "         -0.12942697, -0.05086712, -0.02909463, -0.05759696,  0.22867485]]),\n",
       " 'w_log_var': array([[-8.74949818, -8.75164331, -8.75045187, -8.75046048, -8.75089067,\n",
       "         -8.7506032 , -8.75110855, -8.75121316, -8.75087983, -8.75121826],\n",
       "        [-8.75116843, -8.74968402, -8.75046066, -8.74997172, -8.75042161,\n",
       "         -8.75016929, -8.75113636, -8.7512466 , -8.75132252, -8.74998328],\n",
       "        [-8.75096519, -8.75145725, -8.74912727, -8.75058769, -8.75096154,\n",
       "         -8.75097389, -8.75114343, -8.75159735, -8.75180763, -8.75149697],\n",
       "        [-8.75144328, -8.75162144, -8.75070003, -8.74698283, -8.75084115,\n",
       "         -8.74851238, -8.7509339 , -8.75122049, -8.75163505, -8.75160421],\n",
       "        [-8.75111409, -8.75086417, -8.75078467, -8.75057206, -8.74908199,\n",
       "         -8.75065678, -8.75116169, -8.75100021, -8.75129409, -8.75076622],\n",
       "        [-8.75116645, -8.75127491, -8.75081943, -8.74750488, -8.75095686,\n",
       "         -8.74642449, -8.75133719, -8.75098223, -8.75132943, -8.75125843],\n",
       "        [-8.75111248, -8.75124261, -8.75078808, -8.75033348, -8.75098674,\n",
       "         -8.75068159, -8.75011212, -8.75122619, -8.75117303, -8.75103793],\n",
       "        [-8.75127955, -8.7514408 , -8.75124342, -8.75117013, -8.75091819,\n",
       "         -8.75095383, -8.75138261, -8.7504767 , -8.75142356, -8.75140891],\n",
       "        [-8.75141003, -8.75126976, -8.7502163 , -8.74860769, -8.75040094,\n",
       "         -8.74890461, -8.75100785, -8.75077318, -8.75055249, -8.75121497],\n",
       "        [-8.75113528, -8.75000232, -8.75123885, -8.75053845, -8.7511846 ,\n",
       "         -8.75062911, -8.75127808, -8.75148104, -8.75131859, -8.74939865]]),\n",
       " 'b_mean': array([ 0.0799981 , -0.06840038,  0.02303336,  0.03879913,  0.03597917,\n",
       "         0.01477552,  0.04354056, -0.1439896 ,  0.01556123, -0.27481027]),\n",
       " 'b_log_var': array([-8.75198037, -8.75178945, -8.75178942, -8.75178726, -8.75179129,\n",
       "        -8.75177549, -8.7517972 , -8.75211445, -8.75179429, -8.7517885 ])}"
      ]
     },
     "execution_count": 17,
     "metadata": {},
     "output_type": "execute_result"
    }
   ],
   "source": [
    "params"
   ]
  },
  {
   "cell_type": "code",
   "execution_count": null,
   "metadata": {},
   "outputs": [],
   "source": []
  }
 ],
 "metadata": {
  "kernelspec": {
   "display_name": "Python 3",
   "language": "python",
   "name": "python3"
  },
  "language_info": {
   "codemirror_mode": {
    "name": "ipython",
    "version": 3
   },
   "file_extension": ".py",
   "mimetype": "text/x-python",
   "name": "python",
   "nbconvert_exporter": "python",
   "pygments_lexer": "ipython3",
   "version": "3.6.8"
  }
 },
 "nbformat": 4,
 "nbformat_minor": 2
}
