{
 "cells": [
  {
   "cell_type": "markdown",
   "metadata": {},
   "source": [
    "# Bayessian NN: Bayes by Backpropagation"
   ]
  },
  {
   "cell_type": "code",
   "execution_count": 1,
   "metadata": {},
   "outputs": [],
   "source": [
    "import os\n",
    "import sys\n",
    "import math\n",
    "import time\n",
    "import random\n",
    "import tempfile\n",
    "sys.path.append('..')\n",
    "\n",
    "import numpy as np\n",
    "import matplotlib.pyplot as plt\n",
    "import matplotlib.animation as animation\n",
    "from IPython.display import HTML\n",
    "\n",
    "import torch\n",
    "from torch import nn\n",
    "import torch.nn.functional as F\n",
    "from torchvision import datasets, transforms"
   ]
  },
  {
   "cell_type": "code",
   "execution_count": 2,
   "metadata": {},
   "outputs": [],
   "source": [
    "%matplotlib inline\n",
    "plt.ioff()\n",
    "\n",
    "dev = torch.device('cuda:0')\n",
    "\n",
    "PI = torch.Tensor([math.pi]).to(dev)"
   ]
  },
  {
   "cell_type": "markdown",
   "metadata": {},
   "source": [
    "### Helper methods:"
   ]
  },
  {
   "cell_type": "code",
   "execution_count": 3,
   "metadata": {},
   "outputs": [],
   "source": [
    "def log_normpdf(x, mu, sigma):\n",
    "    \n",
    "    return -0.5*torch.sum(torch.log(2*PI*sigma**2) + ((x - mu)/sigma)**2)"
   ]
  },
  {
   "cell_type": "markdown",
   "metadata": {},
   "source": [
    "## Define model:"
   ]
  },
  {
   "cell_type": "code",
   "execution_count": 4,
   "metadata": {},
   "outputs": [],
   "source": [
    "class BBLinear_LR(nn.Module):\n",
    "    def __init__(self, input_dim, output_dim, prior_pi, prior_sigma1, prior_sigma2, **kwargs):\n",
    "        super(BBLinear_LR, self).__init__()\n",
    "        \n",
    "        self.mu = nn.Parameter(torch.randn(input_dim+1, output_dim))\n",
    "        self.rho = nn.Parameter(torch.randn(input_dim+1, output_dim))\n",
    "        \n",
    "        self.softplus = nn.Softplus()\n",
    "        \n",
    "        self.prior_pi = nn.Parameter(torch.Tensor([prior_pi]), requires_grad=False)\n",
    "        self.prior_sigma1 = nn.Parameter(torch.Tensor([prior_sigma1]), requires_grad=False)\n",
    "        self.prior_sigma2 = nn.Parameter(torch.Tensor([prior_sigma2]), requires_grad=False)\n",
    "        \n",
    "    def forward(self, x):\n",
    "        \n",
    "        # Local Reparametrization\n",
    "        Z_mu = (torch.mm(x, self.mu[1:, :])) + self.mu[0, :]\n",
    "        \n",
    "        sigma = self.softplus(self.rho)\n",
    "        \n",
    "        Z_sigma = torch.sqrt(torch.mm(x**2, sigma[1:, :]**2) + sigma[0, :]**2)\n",
    "        \n",
    "        # Sample\n",
    "        e = torch.randn_like(Z_mu)\n",
    "        \n",
    "        Z = Z_mu + Z_sigma*e\n",
    "\n",
    "        KL = self.posterior(Z, Z_mu, Z_sigma) - self.prior(x, Z)\n",
    "\n",
    "        \n",
    "        return Z, KL\n",
    "    \n",
    "    def prior(self, x, Z):\n",
    "        \n",
    "        W1 = torch.ones_like(self.mu)*self.prior_sigma1**2\n",
    "        W2 = torch.ones_like(self.mu)*self.prior_sigma2**2\n",
    "        \n",
    "        Z_sigma1 = torch.sqrt(torch.mm(x**2, W1[1:, :]**2) + W1[0, :]**2)\n",
    "        Z_sigma2 = torch.sqrt(torch.mm(x**2, W2[1:, :]**2) + W2[0, :]**2)\n",
    "        \n",
    "        return self.prior_pi*log_normpdf(Z, 0, Z_sigma1) + (1-self.prior_pi)*log_normpdf(Z, 0, Z_sigma2)\n",
    "        \n",
    "        \n",
    "    def posterior(self, Z, Z_mu, Z_sigma):\n",
    "        return log_normpdf(Z, Z_mu, Z_sigma)"
   ]
  },
  {
   "cell_type": "code",
   "execution_count": 5,
   "metadata": {},
   "outputs": [],
   "source": [
    "class BBNN_LR(nn.Module):\n",
    "    def __init__(self, input_dim, output_dim, prior_pi, prior_sigma1, prior_sigma2, hidden_size=[]):\n",
    "        super(BBNN_LR, self).__init__()\n",
    "        hs = [input_dim] + hidden_size + [output_dim]\n",
    "        \n",
    "        self.layers = nn.ModuleList([BBLinear_LR(inp, out, prior_pi, prior_sigma1, prior_sigma2)\n",
    "                                     for inp, out in zip(hs[:-1], hs[1:])])\n",
    "        \n",
    "    def forward(self, x, n_samples=10):\n",
    "        \n",
    "        KL = 0\n",
    "        Z = 0\n",
    "        for n in range(n_samples):\n",
    "            z = x\n",
    "            for i, layer in enumerate(self.layers):\n",
    "                if i>0:\n",
    "                    z = torch.tanh(z)\n",
    "                z, _KL = layer(z)\n",
    "                KL += _KL\n",
    "                \n",
    "            Z += z\n",
    "            \n",
    "        return Z/n_samples, KL/n_samples"
   ]
  },
  {
   "cell_type": "code",
   "execution_count": 6,
   "metadata": {},
   "outputs": [],
   "source": [
    "class BBLinear(nn.Module):\n",
    "    def __init__(self, input_dim, output_dim, prior, **kwargs):\n",
    "        super(BBLinear, self).__init__()\n",
    "        \n",
    "        self.mu = nn.Parameter(torch.randn(input_dim+1, output_dim)*np.sqrt(6/(input_dim+output_dim)))\n",
    "        self.rho = nn.Parameter(torch.randn(input_dim+1, output_dim)*0.1)\n",
    "        \n",
    "        self.softplus = nn.Softplus()\n",
    "        \n",
    "        self.prior = prior\n",
    "        \n",
    "    def forward(self, x):\n",
    "        \n",
    "        e = torch.randn_like(self.mu)\n",
    "\n",
    "        W = self.mu + self.softplus(self.rho)*e\n",
    "        \n",
    "        Z = torch.mm(x, W[1:, :]) + W[0, :]\n",
    "        \n",
    "        if not self.training:\n",
    "            return Z\n",
    "\n",
    "        KL = self.posterior(W) - self.prior(W)\n",
    "\n",
    "        \n",
    "        \n",
    "        return Z, KL\n",
    "        \n",
    "        \n",
    "    def posterior(self, W):\n",
    "        sigma = self.softplus(self.rho)\n",
    "        return log_normpdf(W, self.mu, sigma)"
   ]
  },
  {
   "cell_type": "code",
   "execution_count": 7,
   "metadata": {},
   "outputs": [],
   "source": [
    "class BBNN(nn.Module):\n",
    "    def __init__(self, input_dim, output_dim, prior, hidden_size=[]):\n",
    "        super(BBNN, self).__init__()\n",
    "        hs = [input_dim] + hidden_size + [output_dim]\n",
    "        \n",
    "        self.layers = nn.ModuleList([BBLinear(inp, out, prior) for inp, out in zip(hs[:-1], hs[1:])])\n",
    "        \n",
    "    def forward(self, x, n_samples=10):\n",
    "        \n",
    "        KL = 0\n",
    "        Z = 0\n",
    "        for n in range(n_samples):\n",
    "            z = x\n",
    "            for i, layer in enumerate(self.layers):\n",
    "                if i>0:\n",
    "                    z = torch.tanh(z)\n",
    "                if self.training:\n",
    "                    z, _KL = layer(z)\n",
    "                    KL += _KL\n",
    "                else:\n",
    "                    z = layer(z)\n",
    "                \n",
    "            Z += z\n",
    "        \n",
    "        if self.training:\n",
    "            return Z/n_samples, KL/(n_samples)\n",
    "        else:\n",
    "            return Z/n_samples"
   ]
  },
  {
   "cell_type": "markdown",
   "metadata": {},
   "source": [
    "### Define a prior"
   ]
  },
  {
   "cell_type": "code",
   "execution_count": 8,
   "metadata": {},
   "outputs": [],
   "source": [
    "sigma1 = 1\n",
    "sigma2 = 0.1\n",
    "\n",
    "pi = 0.75"
   ]
  },
  {
   "cell_type": "code",
   "execution_count": 9,
   "metadata": {},
   "outputs": [],
   "source": [
    "def prior(X):\n",
    "    return pi*log_normpdf(X, 0, sigma1) + (1-pi)*log_normpdf(X, 0, sigma2)"
   ]
  },
  {
   "cell_type": "code",
   "execution_count": 10,
   "metadata": {},
   "outputs": [],
   "source": [
    "# Load data\n",
    "train_mnist_dataset = datasets.MNIST(tempfile.gettempdir(), train=True, download=True,\n",
    "                       transform=transforms.Compose([\n",
    "                            transforms.ToTensor(),\n",
    "                        ]))\n",
    "test_mnist_dataset = datasets.MNIST(tempfile.gettempdir(), train=False, download=True,\n",
    "                       transform=transforms.Compose([\n",
    "                            transforms.ToTensor(),\n",
    "                        ]))"
   ]
  },
  {
   "cell_type": "code",
   "execution_count": 11,
   "metadata": {},
   "outputs": [],
   "source": [
    "N = torch.Tensor([len(train_mnist_dataset)]).to(dev)"
   ]
  },
  {
   "cell_type": "markdown",
   "metadata": {},
   "source": [
    "## Train a BNN on MNIST"
   ]
  },
  {
   "cell_type": "code",
   "execution_count": 12,
   "metadata": {},
   "outputs": [],
   "source": [
    "batch_size=128\n",
    "epochs = 300\n",
    "\n",
    "train_loader = torch.utils.data.DataLoader(train_mnist_dataset, batch_size=batch_size, shuffle=True, num_workers=0, pin_memory=True)\n",
    "test_loader = torch.utils.data.DataLoader(test_mnist_dataset, batch_size=batch_size, shuffle=True, num_workers=0, pin_memory=True)"
   ]
  },
  {
   "cell_type": "code",
   "execution_count": 13,
   "metadata": {},
   "outputs": [],
   "source": [
    "bnn = BBNN(784, 10, prior=prior, hidden_size=[1200, 1200]).to(dev)\n",
    "\n",
    "optimizer = torch.optim.Adam(bnn.parameters())\n",
    "CE = torch.nn.CrossEntropyLoss(reduction='sum')"
   ]
  },
  {
   "cell_type": "code",
   "execution_count": 14,
   "metadata": {},
   "outputs": [],
   "source": [
    "bnn_loss = []\n",
    "bnn_KL = []\n",
    "bnn_NLL = []\n",
    "bnn_train_error = []\n",
    "bnn_test_error = []"
   ]
  },
  {
   "cell_type": "code",
   "execution_count": 15,
   "metadata": {},
   "outputs": [
    {
     "name": "stdout",
     "output_type": "stream",
     "text": [
      "epoch: 299, at time: 4787.06, loss: 4.322e+01, NLL: 4.073e-01, KL: 2.569e+06, Train Error: 9.89, Test Error: 4.381\r"
     ]
    }
   ],
   "source": [
    "# Train loop\n",
    "t0 = time.time()\n",
    "\n",
    "for e in range(epochs):\n",
    "\n",
    "    cum_loss = 0\n",
    "    cum_KL = 0\n",
    "    cum_NLL = 0\n",
    "    cum_acc = 0\n",
    "    \n",
    "    \n",
    "    \n",
    "    # Train\n",
    "    bnn.train()\n",
    "    for step, (images, targets) in enumerate(train_loader):\n",
    "        n = images.shape[0]\n",
    "        images = images.view(n, -1)\n",
    "        images = images.to(dev, non_blocking=True)\n",
    "        targets = targets.to(dev, non_blocking=True)\n",
    "\n",
    "        preds, _KL = bnn(images, n_samples=1)\n",
    "        \n",
    "        _NLL = CE(preds, targets)\n",
    "        if _NLL != _NLL:\n",
    "            print(preds)\n",
    "            break\n",
    "        \n",
    "        _loss = _NLL + (n/N)*_KL\n",
    "\n",
    "        _, _preds = torch.max(preds, dim=1)\n",
    "        _acc = torch.sum(_preds==targets)\n",
    "        \n",
    "        cum_loss += _loss.item()\n",
    "        cum_NLL += _NLL.item()\n",
    "        cum_KL += ((n/N)*_KL).item()\n",
    "        \n",
    "        cum_acc += _acc.item()\n",
    "\n",
    "        optimizer.zero_grad()\n",
    "        _loss.backward()\n",
    "        optimizer.step()\n",
    "        \n",
    "    if _NLL != _NLL:\n",
    "            break\n",
    "            \n",
    "    # Test\n",
    "    bnn.eval()\n",
    "    test_acc = 0\n",
    "    for step, (images, targets) in enumerate(test_loader):\n",
    "        n = images.shape[0]\n",
    "        images = images.view(n, -1)\n",
    "        images = images.to(dev, non_blocking=True)\n",
    "        targets = targets.to(dev, non_blocking=True)\n",
    "        \n",
    "        preds = bnn(images, n_samples=10)\n",
    "        \n",
    "        _, _preds = torch.max(preds, dim=1)\n",
    "        _acc = torch.sum(_preds==targets)\n",
    "        test_acc += _acc.item()\n",
    "\n",
    "    bnn_loss.append(cum_loss/len(train_mnist_dataset))\n",
    "    bnn_KL.append(cum_KL)\n",
    "    bnn_NLL.append(cum_NLL/len(train_mnist_dataset))\n",
    "    bnn_train_error.append(100. - 100.*(cum_acc/len(train_mnist_dataset)))\n",
    "    bnn_test_error.append(100. - 100.*(test_acc/len(test_mnist_dataset)))\n",
    "        \n",
    "    if e%5 == 4:\n",
    "        print('epoch: {}, at time: {:.2f}, loss: {:.3e}, NLL: {:.3e}, KL: {:.3e}, Train Error: {:.2f}, Test Error: {:.2f}'.format(\n",
    "              e, time.time()-t0, bnn_loss[-1], bnn_NLL[-1], bnn_KL[-1], bnn_train_error[-1], bnn_test_error[-1]), end='\\r')"
   ]
  },
  {
   "cell_type": "code",
   "execution_count": 16,
   "metadata": {},
   "outputs": [
    {
     "data": {
      "image/png": "[encoded data removed]",
      "text/plain": [
       "<Figure size 1152x432 with 3 Axes>"
      ]
     },
     "metadata": {
      "needs_background": "light"
     },
     "output_type": "display_data"
    }
   ],
   "source": [
    "fig, ax_arr = plt.subplots(1, 3, figsize=(16, 6))\n",
    "\n",
    "ax_arr[0].plot(bnn_NLL)\n",
    "ax_arr[0].set_yscale('log')\n",
    "ax_arr[0].set_title('NLL')\n",
    "\n",
    "\n",
    "ax_arr[1].plot(bnn_KL)\n",
    "ax_arr[1].set_yscale('log')\n",
    "ax_arr[1].set_title('KL')\n",
    "\n",
    "ax_arr[2].plot(bnn_train_error)\n",
    "ax_arr[2].plot(bnn_test_error)\n",
    "ax_arr[2].set_title('Error rate')\n",
    "ax_arr[2].legend(['Train', 'Test'])\n",
    "\n",
    "plt.show()"
   ]
  },
  {
   "cell_type": "markdown",
   "metadata": {},
   "source": [
    "## Train Baseline"
   ]
  },
  {
   "cell_type": "code",
   "execution_count": 17,
   "metadata": {},
   "outputs": [],
   "source": [
    "baseline = nn.Sequential(\n",
    "        nn.Linear(784, 1200),\n",
    "        nn.ReLU(),\n",
    "        nn.Linear(1200, 1200),\n",
    "        nn.ReLU(),\n",
    "        nn.Linear(1200, 10),\n",
    "    ).to(dev)"
   ]
  },
  {
   "cell_type": "code",
   "execution_count": 18,
   "metadata": {},
   "outputs": [],
   "source": [
    "optimizer = torch.optim.Adam(baseline.parameters())\n",
    "CE = torch.nn.CrossEntropyLoss(reduction='sum')"
   ]
  },
  {
   "cell_type": "code",
   "execution_count": 19,
   "metadata": {},
   "outputs": [],
   "source": [
    "baseline_NLL = []\n",
    "baseline_train_error = []\n",
    "baseline_test_error = []"
   ]
  },
  {
   "cell_type": "code",
   "execution_count": 20,
   "metadata": {},
   "outputs": [
    {
     "name": "stdout",
     "output_type": "stream",
     "text": [
      "epoch: 299, at time: 2283.16, NLL: 0.000e+00, Train Error: 0.00, Test Error: 1.58\r"
     ]
    }
   ],
   "source": [
    "# Train loop\n",
    "t0 = time.time()\n",
    "\n",
    "for e in range(epochs):\n",
    "\n",
    "    cum_NLL = 0\n",
    "    cum_acc = 0\n",
    "    \n",
    "    \n",
    "    # Train\n",
    "    baseline.train()\n",
    "    for step, (images, targets) in enumerate(train_loader):\n",
    "        n = images.shape[0]\n",
    "        images = images.view(n, -1)\n",
    "        images = images.to(dev, non_blocking=True)\n",
    "        targets = targets.to(dev, non_blocking=True)\n",
    "\n",
    "        preds = baseline(images)\n",
    "        \n",
    "        _NLL = CE(preds, targets)\n",
    "        if _NLL != _NLL:\n",
    "            print(preds)\n",
    "            break\n",
    "        \n",
    "        _loss = _NLL\n",
    "\n",
    "        _, _preds = torch.max(preds, dim=1)\n",
    "        _acc = torch.sum(_preds==targets)\n",
    "        \n",
    "        cum_NLL += _NLL.item()\n",
    "        cum_acc += _acc.item()\n",
    "\n",
    "        optimizer.zero_grad()\n",
    "        _loss.backward()\n",
    "        optimizer.step()\n",
    "        \n",
    "    if _NLL != _NLL:\n",
    "            break\n",
    "            \n",
    "    # Test\n",
    "    baseline.eval()\n",
    "    test_acc = 0\n",
    "    for step, (images, targets) in enumerate(test_loader):\n",
    "        n = images.shape[0]\n",
    "        images = images.view(n, -1)\n",
    "        images = images.to(dev, non_blocking=True)\n",
    "        targets = targets.to(dev, non_blocking=True)\n",
    "        \n",
    "        preds = baseline(images)\n",
    "        \n",
    "        _, _preds = torch.max(preds, dim=1)\n",
    "        _acc = torch.sum(_preds==targets)\n",
    "        test_acc += _acc.item()\n",
    "\n",
    "    baseline_NLL.append(cum_NLL/len(train_mnist_dataset))\n",
    "    baseline_train_error.append(100. - 100.*(cum_acc/len(train_mnist_dataset)))\n",
    "    baseline_test_error.append(100. - 100.*(test_acc/len(test_mnist_dataset)))\n",
    "        \n",
    "    if e%5 == 4:\n",
    "        print('epoch: {}, at time: {:.2f}, NLL: {:.3e}, Train Error: {:.2f}, Test Error: {:.2f}'.format(\n",
    "              e, time.time()-t0, baseline_NLL[-1], baseline_train_error[-1], baseline_test_error[-1]), end='\\r')"
   ]
  },
  {
   "cell_type": "code",
   "execution_count": 21,
   "metadata": {},
   "outputs": [
    {
     "data": {
      "image/png": "[encoded data removed]",
      "text/plain": [
       "<Figure size 1152x432 with 2 Axes>"
      ]
     },
     "metadata": {
      "needs_background": "light"
     },
     "output_type": "display_data"
    }
   ],
   "source": [
    "fig, ax_arr = plt.subplots(1, 2, figsize=(16, 6))\n",
    "\n",
    "ax_arr[0].plot(baseline_NLL)\n",
    "ax_arr[0].set_yscale('log')\n",
    "ax_arr[0].set_title('NLL')\n",
    "\n",
    "\n",
    "ax_arr[1].plot(baseline_train_error)\n",
    "ax_arr[1].plot(baseline_test_error)\n",
    "ax_arr[1].set_title('Error rate')\n",
    "ax_arr[1].legend(['Train', 'Test'])\n",
    "\n",
    "plt.show()"
   ]
  },
  {
   "cell_type": "code",
   "execution_count": null,
   "metadata": {},
   "outputs": [],
   "source": []
  }
 ],
 "metadata": {
  "kernelspec": {
   "display_name": "Python 3",
   "language": "python",
   "name": "python3"
  },
  "language_info": {
   "codemirror_mode": {
    "name": "ipython",
    "version": 3
   },
   "file_extension": ".py",
   "mimetype": "text/x-python",
   "name": "python",
   "nbconvert_exporter": "python",
   "pygments_lexer": "ipython3",
   "version": "3.6.7"
  }
 },
 "nbformat": 4,
 "nbformat_minor": 2
}
