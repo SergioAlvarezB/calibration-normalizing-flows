{
 "cells": [
  {
   "cell_type": "markdown",
   "metadata": {},
   "source": [
    "# Bayessian NN: Bayes by Backpropagation"
   ]
  },
  {
   "cell_type": "code",
   "execution_count": 1,
   "metadata": {},
   "outputs": [],
   "source": [
    "import os\n",
    "import sys\n",
    "import math\n",
    "import time\n",
    "import random\n",
    "import tempfile\n",
    "sys.path.append('..')\n",
    "\n",
    "import numpy as np\n",
    "import matplotlib.pyplot as plt\n",
    "import matplotlib.animation as animation\n",
    "from IPython.display import HTML\n",
    "\n",
    "import torch\n",
    "from torch import nn\n",
    "import torch.nn.functional as F\n",
    "from torchvision import datasets, transforms"
   ]
  },
  {
   "cell_type": "code",
   "execution_count": 2,
   "metadata": {},
   "outputs": [],
   "source": [
    "%matplotlib inline\n",
    "plt.ioff()\n",
    "\n",
    "dev = torch.device('cuda:0')\n",
    "\n",
    "PI = torch.Tensor([math.pi]).to(dev)"
   ]
  },
  {
   "cell_type": "markdown",
   "metadata": {},
   "source": [
    "### Helper methods:"
   ]
  },
  {
   "cell_type": "code",
   "execution_count": 3,
   "metadata": {},
   "outputs": [],
   "source": [
    "def log_normpdf(x, mu, sigma):\n",
    "    \n",
    "    return -0.5*torch.mean(torch.log(2*PI*sigma**2) + ((mu - x)/sigma)**2)"
   ]
  },
  {
   "cell_type": "markdown",
   "metadata": {},
   "source": [
    "## Define model:"
   ]
  },
  {
   "cell_type": "code",
   "execution_count": 4,
   "metadata": {},
   "outputs": [],
   "source": [
    "class BBLinear_LR(nn.Module):\n",
    "    def __init__(self, input_dim, output_dim, prior_pi, prior_sigma1, prior_sigma2, **kwargs):\n",
    "        super(BBLinear_LR, self).__init__()\n",
    "        \n",
    "        self.mu = nn.Parameter(torch.randn(input_dim+1, output_dim))\n",
    "        self.rho = nn.Parameter(torch.randn(input_dim+1, output_dim))\n",
    "        \n",
    "        self.softplus = nn.Softplus()\n",
    "        \n",
    "        self.prior_pi = nn.Parameter(torch.Tensor([prior_pi]), requires_grad=False)\n",
    "        self.prior_sigma1 = nn.Parameter(torch.Tensor([prior_sigma1]), requires_grad=False)\n",
    "        self.prior_sigma2 = nn.Parameter(torch.Tensor([prior_sigma2]), requires_grad=False)\n",
    "        \n",
    "    def forward(self, x):\n",
    "        \n",
    "        # Local Reparametrization\n",
    "        Z_mu = (torch.mm(x, self.mu[1:, :])) + self.mu[0, :]\n",
    "        \n",
    "        sigma = self.softplus(self.rho)\n",
    "        \n",
    "        Z_sigma = torch.sqrt(torch.mm(x**2, sigma[1:, :]**2) + sigma[0, :]**2)\n",
    "        \n",
    "        # Sample\n",
    "        e = torch.randn_like(Z_mu)\n",
    "        \n",
    "        Z = Z_mu + Z_sigma*e\n",
    "\n",
    "        KL = self.posterior(Z, Z_mu, Z_sigma) - self.prior(x, Z)\n",
    "\n",
    "        \n",
    "        return Z, KL\n",
    "    \n",
    "    def prior(self, x, Z):\n",
    "        \n",
    "        W1 = torch.ones_like(self.mu)*self.prior_sigma1**2\n",
    "        W2 = torch.ones_like(self.mu)*self.prior_sigma2**2\n",
    "        \n",
    "        Z_sigma1 = torch.sqrt(torch.mm(x**2, W1[1:, :]**2) + W1[0, :]**2)\n",
    "        Z_sigma2 = torch.sqrt(torch.mm(x**2, W2[1:, :]**2) + W2[0, :]**2)\n",
    "        \n",
    "        return self.prior_pi*log_normpdf(Z, 0, Z_sigma1) + (1-self.prior_pi)*log_normpdf(Z, 0, Z_sigma2)\n",
    "        \n",
    "        \n",
    "    def posterior(self, Z, Z_mu, Z_sigma):\n",
    "        return log_normpdf(Z, Z_mu, Z_sigma)"
   ]
  },
  {
   "cell_type": "code",
   "execution_count": 5,
   "metadata": {},
   "outputs": [],
   "source": [
    "class BBNN_LR(nn.Module):\n",
    "    def __init__(self, input_dim, output_dim, prior_pi, prior_sigma1, prior_sigma2, hidden_size=[]):\n",
    "        super(BBNN_LR, self).__init__()\n",
    "        hs = [input_dim] + hidden_size + [output_dim]\n",
    "        \n",
    "        self.layers = nn.ModuleList([BBLinear_LR(inp, out, prior_pi, prior_sigma1, prior_sigma2)\n",
    "                                     for inp, out in zip(hs[:-1], hs[1:])])\n",
    "        \n",
    "    def forward(self, x, n_samples=10):\n",
    "        \n",
    "        KL = 0\n",
    "        Z = 0\n",
    "        for n in range(n_samples):\n",
    "            z = x\n",
    "            for i, layer in enumerate(self.layers):\n",
    "                if i>0:\n",
    "                    z = torch.tanh(z)\n",
    "                z, _KL = layer(z)\n",
    "                KL += _KL\n",
    "                \n",
    "            Z += z\n",
    "            \n",
    "        return Z/n_samples, KL/n_samples"
   ]
  },
  {
   "cell_type": "code",
   "execution_count": 6,
   "metadata": {},
   "outputs": [],
   "source": [
    "class BBLinear(nn.Module):\n",
    "    def __init__(self, input_dim, output_dim, prior, **kwargs):\n",
    "        super(BBLinear, self).__init__()\n",
    "        \n",
    "        self.mu = nn.Parameter(torch.randn(input_dim+1, output_dim))\n",
    "        self.rho = nn.Parameter(torch.randn(input_dim+1, output_dim))\n",
    "        \n",
    "        self.softplus = nn.Softplus()\n",
    "        \n",
    "        self.prior = prior\n",
    "        \n",
    "    def forward(self, x):\n",
    "        \n",
    "        e = torch.randn_like(self.mu)\n",
    "\n",
    "        W = self.mu + self.softplus(self.rho)*e\n",
    "\n",
    "        KL = self.posterior(W) - self.prior(W)\n",
    "\n",
    "        Z = torch.mm(x, W[1:, :]) + W[0, :]\n",
    "        \n",
    "        return Z, KL\n",
    "        \n",
    "        \n",
    "    def posterior(self, W):\n",
    "        sigma = self.softplus(self.rho)\n",
    "        return log_normpdf(W, self.mu, sigma)"
   ]
  },
  {
   "cell_type": "code",
   "execution_count": 7,
   "metadata": {},
   "outputs": [],
   "source": [
    "class BBNN(nn.Module):\n",
    "    def __init__(self, input_dim, output_dim, prior, hidden_size=[]):\n",
    "        super(BBNN, self).__init__()\n",
    "        hs = [input_dim] + hidden_size + [output_dim]\n",
    "        \n",
    "        self.layers = nn.ModuleList([BBLinear(inp, out, prior) for inp, out in zip(hs[:-1], hs[1:])])\n",
    "        \n",
    "    def forward(self, x, n_samples=10):\n",
    "        \n",
    "        KL = 0\n",
    "        Z = 0\n",
    "        for n in range(n_samples):\n",
    "            z = x\n",
    "            for i, layer in enumerate(self.layers):\n",
    "                if i>0:\n",
    "                    z = torch.tanh(z)\n",
    "                z, _KL = layer(z)\n",
    "                KL += _KL\n",
    "                \n",
    "            Z += z\n",
    "            \n",
    "        return Z/n_samples, KL/(n_samples*(i+1))"
   ]
  },
  {
   "cell_type": "markdown",
   "metadata": {},
   "source": [
    "### Define a prior"
   ]
  },
  {
   "cell_type": "code",
   "execution_count": 8,
   "metadata": {},
   "outputs": [],
   "source": [
    "sigma1 = np.exp(-1)\n",
    "sigma2 = np.exp(-7)\n",
    "\n",
    "pi = 0.5"
   ]
  },
  {
   "cell_type": "code",
   "execution_count": 9,
   "metadata": {},
   "outputs": [],
   "source": [
    "def prior(X):\n",
    "    return pi*log_normpdf(X, 0, sigma1) + (1-pi)*log_normpdf(X, 0, sigma2)"
   ]
  },
  {
   "cell_type": "code",
   "execution_count": 10,
   "metadata": {},
   "outputs": [],
   "source": [
    "# Load data\n",
    "mnist_dataset = datasets.MNIST(tempfile.gettempdir(), train=True, download=True,\n",
    "                       transform=transforms.Compose([\n",
    "                            transforms.ToTensor(),\n",
    "                        ]))"
   ]
  },
  {
   "cell_type": "code",
   "execution_count": 11,
   "metadata": {},
   "outputs": [],
   "source": [
    "N = torch.Tensor([len(mnist_dataset)]).to(dev)"
   ]
  },
  {
   "cell_type": "markdown",
   "metadata": {},
   "source": [
    "## Train a BNN on MNIST"
   ]
  },
  {
   "cell_type": "code",
   "execution_count": 12,
   "metadata": {},
   "outputs": [],
   "source": [
    "batch_size=128\n",
    "epochs = 600\n",
    "\n",
    "train_loader = torch.utils.data.DataLoader(mnist_dataset, batch_size=batch_size, shuffle=True, num_workers=0, pin_memory=True)"
   ]
  },
  {
   "cell_type": "code",
   "execution_count": 19,
   "metadata": {},
   "outputs": [],
   "source": [
    "bnn = BBNN(784, 10, prior=prior, hidden_size=[400]).to(dev)\n",
    "\n",
    "optimizer = torch.optim.Adam(bnn.parameters())\n",
    "CE = torch.nn.CrossEntropyLoss()"
   ]
  },
  {
   "cell_type": "code",
   "execution_count": 20,
   "metadata": {},
   "outputs": [],
   "source": [
    "loss = []\n",
    "KL = []\n",
    "NLL = []"
   ]
  },
  {
   "cell_type": "code",
   "execution_count": 21,
   "metadata": {},
   "outputs": [
    {
     "name": "stdout",
     "output_type": "stream",
     "text": [
      "tensor([-0.2990,  0.8823, -0.4586, -0.8628,  0.5057,  0.0429,  0.1194, -0.7445,\n",
      "         0.7960, -0.9063,  0.7199,  0.3973,  0.9586, -0.1093, -0.1368,  0.7861,\n",
      "        -0.8257,  0.5247,  0.7967,  1.0118, -0.1952,  0.6318,  0.7308,  0.4482,\n",
      "        -0.6291, -0.7171, -0.3250, -0.0102, -0.1063, -0.8866,  0.1477,  0.9303,\n",
      "         0.2920,  0.0961,  0.6032, -0.0872,  0.9261,  0.0553,  0.6067,  0.4197,\n",
      "         0.5441,  0.0708,  0.6814, -0.6585,  1.0555,  1.0396,  0.5737, -0.4213,\n",
      "         1.1489,  0.1498,  0.5547,  0.4437, -0.8762, -0.5441, -0.4255, -0.0017,\n",
      "         0.6237,  0.8840,  1.0972, -0.4396,  0.3119,  0.8181, -0.1634, -0.1869,\n",
      "        -0.0080, -0.2896,  0.4800, -0.4243,  0.5176, -0.4984,  0.2064,  0.2944,\n",
      "        -0.9584, -0.6798,  0.4101, -1.2404,  0.2497,  1.0779, -0.6605, -0.5567,\n",
      "        -0.4499, -0.3862, -0.2085, -0.2239, -0.1169,  0.3072,  0.9527, -0.7050,\n",
      "         1.4583,  0.3024,  0.6799,  0.3815,  0.0535, -0.4775,  0.1608,  0.8648,\n",
      "         0.7874,  0.9385, -0.9043, -0.1329, -0.4288,  0.3581, -0.0510,  0.2924,\n",
      "         0.5165, -0.5039, -0.3205, -0.3676,  0.2913, -0.8515, -0.3580, -0.2491,\n",
      "         0.3246, -0.0659,  0.9535,  0.0535,  0.0828,  0.5436, -1.2602, -0.7043,\n",
      "         0.9098, -0.3172,  0.5948, -0.4597, -0.0152, -0.5774,  0.2618, -0.2382,\n",
      "        -0.1034, -0.9433,  0.3500,  0.6523, -0.2713, -0.6389, -0.4287, -0.5320,\n",
      "         0.4473,  0.0482, -0.2577, -0.4348, -0.1738, -0.7583,  0.7912,  0.6942,\n",
      "         0.1575, -0.3281,  0.1536, -0.7028, -0.6249, -1.0067,  0.5989,  0.3131,\n",
      "        -0.1441, -0.1522, -0.5760, -0.6647,  0.5019, -0.8615, -0.7488,  0.7293,\n",
      "        -0.2500, -0.1519,  0.8445,  0.3196,  0.0658, -0.4595, -0.2413, -0.0115,\n",
      "        -0.1774, -0.1741,  0.5685, -0.5925, -0.4035, -0.6691,  0.6841,  0.7539,\n",
      "        -1.0968,  0.2657,  0.9638,  0.4236,  0.5746, -0.5905,  0.4127,  0.0893,\n",
      "         0.4188, -0.4128,  0.4904,  0.1358, -0.0755,  0.0036,  0.7679,  1.0710,\n",
      "         0.1661, -0.4163, -0.6932, -0.0147,  1.4544,  0.9548,  0.1338,  0.5510,\n",
      "        -0.5113,  0.5593, -1.1694, -0.8786,  0.2289,  0.5128,  0.4573, -0.3088,\n",
      "        -0.7161,  0.3899,  0.2590, -0.0565,  0.9054, -0.1547, -0.6992,  0.0860,\n",
      "        -0.2103,  0.4511,  1.0299, -0.6030,  0.5142,  0.5062,  0.6443, -0.1357,\n",
      "        -0.2642, -0.3829,  0.2114, -0.1425, -0.7327,  0.2252, -0.6212,  0.4952,\n",
      "        -0.6120,  0.6832,  0.1693, -0.5982, -0.0928, -0.4006,  0.2476,  0.0836,\n",
      "         0.1269, -0.7713, -0.6250,  0.3889,  0.0899,  0.3516,  0.3276,  0.0627,\n",
      "         0.7553, -0.9809,  1.1559, -0.6812,  0.0056,  0.2179, -0.6584,  1.2037,\n",
      "        -0.8530, -0.7873, -1.1340, -0.0719, -0.9859,  0.8119, -0.7240,  0.4694,\n",
      "         0.5335, -0.1728, -0.1873,  0.4975, -0.0478,  0.0356, -0.1223, -0.9734,\n",
      "        -0.4684, -0.4095,  0.6421,  0.5123, -0.7598, -0.5713, -0.5893,  0.3179,\n",
      "        -0.0284,  0.4973,  0.5188,  0.6699, -1.0231,  0.6761, -0.3032,  0.6056,\n",
      "         0.8867, -0.4973, -0.8161,  0.8232, -0.2416, -0.9411,  1.2833, -0.9181,\n",
      "        -0.8399, -0.3904,  0.2992, -0.7846,  0.3133, -0.6165, -0.1794, -0.4606,\n",
      "         0.2058, -0.3157, -1.1486,  0.5243, -0.6766, -0.2079,  0.5269, -0.3203,\n",
      "         1.1734, -0.7949, -0.1429,  0.3132,  0.0637, -0.5582, -0.1997, -0.4701,\n",
      "         0.4687,  0.8565,  0.0377, -0.5889, -0.3460, -0.4546, -0.3421,  1.1290,\n",
      "        -0.3447,  0.3809, -0.0745,  0.7545, -0.7042, -0.1519, -0.8552, -0.5487,\n",
      "         0.8149,  0.5413, -0.3597,  0.7546, -0.4721,  0.3537, -0.3817, -0.1216,\n",
      "         1.1157, -0.8651,  0.7410,  0.5400,  0.3489,  0.6444,  1.0157, -0.1298,\n",
      "        -0.8089,  0.9154,  0.3721,  0.2086,  0.5597,  0.5160, -0.6654,  0.6470,\n",
      "         0.3578,  0.8440,  0.2588, -0.8263, -0.2877, -0.1702,  0.0847,  0.3161,\n",
      "         1.0607,  0.1816,  0.2320, -0.1894,  0.0091,  0.3794, -0.8546,  0.0233,\n",
      "        -0.5590, -0.0196,  0.6034, -0.1388,  0.2572, -0.6817,  0.2413, -0.9653,\n",
      "         0.8750, -0.4158,  0.8533,  0.7504,  1.3718,  0.4504,  0.6118, -0.0163,\n",
      "        -0.0216, -0.2594, -0.5149, -0.4778, -0.3519, -0.5821,  0.0435, -0.6569],\n",
      "       device='cuda:0', grad_fn=<SelectBackward>)\n",
      "tensor([-0.2990,  0.8823, -0.4586, -0.8628,  0.5057,  0.0429,  0.1194, -0.7445,\n",
      "         0.7960, -0.9063,  0.7199,  0.3973,  0.9586, -0.1093, -0.1368,  0.7861,\n",
      "        -0.8257,  0.5247,  0.7967,  1.0118, -0.1952,  0.6318,  0.7308,  0.4482,\n",
      "        -0.6291, -0.7171, -0.3250, -0.0102, -0.1063, -0.8866,  0.1477,  0.9303,\n",
      "         0.2920,  0.0961,  0.6032, -0.0872,  0.9261,  0.0553,  0.6067,  0.4197,\n",
      "         0.5441,  0.0708,  0.6814, -0.6585,  1.0555,  1.0396,  0.5737, -0.4213,\n",
      "         1.1489,  0.1498,  0.5547,  0.4437, -0.8762, -0.5441, -0.4255, -0.0017,\n",
      "         0.6237,  0.8840,  1.0972, -0.4396,  0.3119,  0.8181, -0.1634, -0.1869,\n",
      "        -0.0080, -0.2896,  0.4800, -0.4243,  0.5176, -0.4984,  0.2064,  0.2944,\n",
      "        -0.9584, -0.6798,  0.4101, -1.2404,  0.2497,  1.0779, -0.6605, -0.5567,\n",
      "        -0.4499, -0.3862, -0.2085, -0.2239, -0.1169,  0.3072,  0.9527, -0.7050,\n",
      "         1.4583,  0.3024,  0.6799,  0.3815,  0.0535, -0.4775,  0.1608,  0.8648,\n",
      "         0.7874,  0.9385, -0.9043, -0.1329, -0.4288,  0.3581, -0.0510,  0.2924,\n",
      "         0.5165, -0.5039, -0.3205, -0.3676,  0.2913, -0.8515, -0.3580, -0.2491,\n",
      "         0.3246, -0.0659,  0.9535,  0.0535,  0.0828,  0.5436, -1.2602, -0.7043,\n",
      "         0.9098, -0.3172,  0.5948, -0.4597, -0.0152, -0.5774,  0.2618, -0.2382,\n",
      "        -0.1034, -0.9433,  0.3500,  0.6523, -0.2713, -0.6389, -0.4287, -0.5320,\n",
      "         0.4473,  0.0482, -0.2577, -0.4348, -0.1738, -0.7583,  0.7912,  0.6942,\n",
      "         0.1575, -0.3281,  0.1536, -0.7028, -0.6249, -1.0067,  0.5989,  0.3131,\n",
      "        -0.1441, -0.1522, -0.5760, -0.6647,  0.5019, -0.8615, -0.7488,  0.7293,\n",
      "        -0.2500, -0.1519,  0.8445,  0.3196,  0.0658, -0.4595, -0.2413, -0.0115,\n",
      "        -0.1774, -0.1741,  0.5685, -0.5925, -0.4035, -0.6691,  0.6841,  0.7539,\n",
      "        -1.0968,  0.2657,  0.9638,  0.4236,  0.5746, -0.5905,  0.4127,  0.0893,\n",
      "         0.4188, -0.4128,  0.4904,  0.1358, -0.0755,  0.0036,  0.7679,  1.0710,\n",
      "         0.1661, -0.4163, -0.6932, -0.0147,  1.4544,  0.9548,  0.1338,  0.5510,\n",
      "        -0.5113,  0.5593, -1.1694, -0.8786,  0.2289,  0.5128,  0.4573, -0.3088,\n",
      "        -0.7161,  0.3899,  0.2590, -0.0565,  0.9054, -0.1547, -0.6992,  0.0860,\n",
      "        -0.2103,  0.4511,  1.0299, -0.6030,  0.5142,  0.5062,  0.6443, -0.1357,\n",
      "        -0.2642, -0.3829,  0.2114, -0.1425, -0.7327,  0.2252, -0.6212,  0.4952,\n",
      "        -0.6120,  0.6832,  0.1693, -0.5982, -0.0928, -0.4006,  0.2476,  0.0836,\n",
      "         0.1269, -0.7713, -0.6250,  0.3889,  0.0899,  0.3516,  0.3276,  0.0627,\n",
      "         0.7553, -0.9809,  1.1559, -0.6812,  0.0056,  0.2179, -0.6584,  1.2037,\n",
      "        -0.8530, -0.7873, -1.1340, -0.0719, -0.9859,  0.8119, -0.7240,  0.4694,\n",
      "         0.5335, -0.1728, -0.1873,  0.4975, -0.0478,  0.0356, -0.1223, -0.9734,\n",
      "        -0.4684, -0.4095,  0.6421,  0.5123, -0.7598, -0.5713, -0.5893,  0.3179,\n",
      "        -0.0284,  0.4973,  0.5188,  0.6699, -1.0231,  0.6761, -0.3032,  0.6056,\n",
      "         0.8867, -0.4973, -0.8161,  0.8232, -0.2416, -0.9411,  1.2833, -0.9181,\n",
      "        -0.8399, -0.3904,  0.2992, -0.7846,  0.3133, -0.6165, -0.1794, -0.4606,\n",
      "         0.2058, -0.3157, -1.1486,  0.5243, -0.6766, -0.2079,  0.5269, -0.3203,\n",
      "         1.1734, -0.7949, -0.1429,  0.3132,  0.0637, -0.5582, -0.1997, -0.4701,\n",
      "         0.4687,  0.8565,  0.0377, -0.5889, -0.3460, -0.4546, -0.3421,  1.1290,\n",
      "        -0.3447,  0.3809, -0.0745,  0.7545, -0.7042, -0.1519, -0.8552, -0.5487,\n",
      "         0.8149,  0.5413, -0.3597,  0.7546, -0.4721,  0.3537, -0.3817, -0.1216,\n",
      "         1.1157, -0.8651,  0.7410,  0.5400,  0.3489,  0.6444,  1.0157, -0.1298,\n",
      "        -0.8089,  0.9154,  0.3721,  0.2086,  0.5597,  0.5160, -0.6654,  0.6470,\n",
      "         0.3578,  0.8440,  0.2588, -0.8263, -0.2877, -0.1702,  0.0847,  0.3161,\n",
      "         1.0607,  0.1816,  0.2320, -0.1894,  0.0091,  0.3794, -0.8546,  0.0233,\n",
      "        -0.5590, -0.0196,  0.6034, -0.1388,  0.2572, -0.6817,  0.2413, -0.9653,\n",
      "         0.8750, -0.4158,  0.8533,  0.7504,  1.3718,  0.4504,  0.6118, -0.0163,\n",
      "        -0.0216, -0.2594, -0.5149, -0.4778, -0.3519, -0.5821,  0.0435, -0.6569],\n",
      "       device='cuda:0', grad_fn=<SelectBackward>)\n"
     ]
    },
    {
     "ename": "ZeroDivisionError",
     "evalue": "division by zero",
     "output_type": "error",
     "traceback": [
      "\u001b[1;31m---------------------------------------------------------------------------\u001b[0m",
      "\u001b[1;31mZeroDivisionError\u001b[0m                         Traceback (most recent call last)",
      "\u001b[1;32m<ipython-input-21-31493bea7b44>\u001b[0m in \u001b[0;36m<module>\u001b[1;34m\u001b[0m\n\u001b[0;32m     32\u001b[0m         \u001b[0moptimizer\u001b[0m\u001b[1;33m.\u001b[0m\u001b[0mstep\u001b[0m\u001b[1;33m(\u001b[0m\u001b[1;33m)\u001b[0m\u001b[1;33m\u001b[0m\u001b[1;33m\u001b[0m\u001b[0m\n\u001b[0;32m     33\u001b[0m \u001b[1;33m\u001b[0m\u001b[0m\n\u001b[1;32m---> 34\u001b[1;33m     \u001b[0mloss\u001b[0m\u001b[1;33m.\u001b[0m\u001b[0mappend\u001b[0m\u001b[1;33m(\u001b[0m\u001b[0mcum_loss\u001b[0m\u001b[1;33m/\u001b[0m\u001b[0mcount\u001b[0m\u001b[1;33m)\u001b[0m\u001b[1;33m\u001b[0m\u001b[1;33m\u001b[0m\u001b[0m\n\u001b[0m\u001b[0;32m     35\u001b[0m     \u001b[0mKL\u001b[0m\u001b[1;33m.\u001b[0m\u001b[0mappend\u001b[0m\u001b[1;33m(\u001b[0m\u001b[0mcum_KL\u001b[0m\u001b[1;33m/\u001b[0m\u001b[0mcount\u001b[0m\u001b[1;33m)\u001b[0m\u001b[1;33m\u001b[0m\u001b[1;33m\u001b[0m\u001b[0m\n\u001b[0;32m     36\u001b[0m     \u001b[0mNLL\u001b[0m\u001b[1;33m.\u001b[0m\u001b[0mappend\u001b[0m\u001b[1;33m(\u001b[0m\u001b[0mcum_NLL\u001b[0m\u001b[1;33m/\u001b[0m\u001b[0mcount\u001b[0m\u001b[1;33m)\u001b[0m\u001b[1;33m\u001b[0m\u001b[1;33m\u001b[0m\u001b[0m\n",
      "\u001b[1;31mZeroDivisionError\u001b[0m: division by zero"
     ]
    }
   ],
   "source": [
    "# Train loop\n",
    "t0 = time.time()\n",
    "\n",
    "for e in range(epochs):\n",
    "\n",
    "    cum_loss = 0\n",
    "    cum_KL = 0\n",
    "    cum_NLL = 0\n",
    "    count = 0\n",
    "    \n",
    "    for images, targets in train_loader:\n",
    "        n = images.shape[0]\n",
    "        images = images.view(n, -1)\n",
    "        images = images.to(dev, non_blocking=True)\n",
    "        targets = targets.to(dev, non_blocking=True)\n",
    "\n",
    "        preds, _KL = bnn(images, n_samples=1)\n",
    "        \n",
    "        _NLL = CE(preds, targets)\n",
    "        if _NLL != _NLL:\n",
    "            print(bnn.layers[0].mu[0])\n",
    "            break\n",
    "        \n",
    "        _loss = _NLL + 0.01*_KL\n",
    "\n",
    "        cum_loss += _loss.item()\n",
    "        cum_NLL += _NLL.item()\n",
    "        cum_KL += _KL.item()\n",
    "        count += 1\n",
    "\n",
    "        _loss.backward()\n",
    "        optimizer.step()\n",
    "\n",
    "    loss.append(cum_loss/count)\n",
    "    KL.append(cum_KL/count)\n",
    "    NLL.append(cum_NLL/count)\n",
    "        \n",
    "    if e%5 == 4:\n",
    "        print('epoch: {}, at time: {:.2f}, loss: {:.3e}, NLL: {:.3e}, KL: {:.3e}'.format(\n",
    "              e, time.time()-t0, loss[-1], NLL[-1], KL[-1]), end='\\r')"
   ]
  },
  {
   "cell_type": "code",
   "execution_count": 22,
   "metadata": {},
   "outputs": [
    {
     "data": {
      "image/png": "[encoded data removed]",
      "text/plain": [
       "<Figure size 1152x432 with 3 Axes>"
      ]
     },
     "metadata": {
      "needs_background": "light"
     },
     "output_type": "display_data"
    }
   ],
   "source": [
    "fig, ax_arr = plt.subplots(1, 3, figsize=(16, 6))\n",
    "\n",
    "ax_arr[0].plot(loss)\n",
    "ax_arr[0].set_yscale('log')\n",
    "ax_arr[0].set_title('Loss')\n",
    "\n",
    "\n",
    "ax_arr[1].plot(NLL)\n",
    "ax_arr[1].set_yscale('log')\n",
    "ax_arr[1].set_title('NLL')\n",
    "\n",
    "\n",
    "ax_arr[2].plot(KL)\n",
    "ax_arr[2].set_yscale('log')\n",
    "ax_arr[2].set_title('KL')\n",
    "\n",
    "plt.show()"
   ]
  },
  {
   "cell_type": "code",
   "execution_count": 23,
   "metadata": {},
   "outputs": [
    {
     "data": {
      "text/plain": [
       "tensor([-46.8149, -47.5042, -47.3733, -46.2099, -48.2366, -47.4234, -47.2233,\n",
       "        -47.6407, -47.2504, -46.5193, -46.6423, -46.4828, -46.0032, -49.1228,\n",
       "        -47.1782, -47.9530, -47.0485, -48.8458, -47.6589, -47.3568, -49.0676,\n",
       "        -48.0455, -47.5005, -47.3124, -48.6742, -47.2847, -49.0094, -47.4836,\n",
       "        -47.1847, -48.1006, -47.7257, -49.0348, -46.8456, -47.9532, -48.5797,\n",
       "        -47.8925, -47.7386, -48.3672, -46.2891, -47.1860, -48.4665, -50.2445,\n",
       "        -47.7048, -46.9195, -47.0545, -48.3112, -47.2332, -47.5260, -48.4659,\n",
       "        -46.0778, -47.2983, -48.0228, -46.5009, -47.3257, -47.0224, -46.2062,\n",
       "        -49.1960, -46.3701, -47.5213, -48.9017, -47.2775, -47.9160, -47.1926,\n",
       "        -47.9613, -47.1138, -47.3027, -47.7305, -47.1894, -47.5875, -48.0608,\n",
       "        -47.1794, -49.2255, -48.0949, -47.4551, -48.0166, -48.2767, -47.7893,\n",
       "        -48.0013, -48.2572, -47.3148, -46.2073, -47.6521, -49.8272, -48.4639,\n",
       "        -49.1363, -47.0433, -46.9002, -49.5735, -47.8954, -48.0323, -49.6910,\n",
       "        -47.9198, -47.6695, -48.0370, -48.7967, -47.4589, -45.1078, -48.0755,\n",
       "        -47.5516, -46.8010, -47.3827, -46.7456, -45.9461, -47.9346, -45.9736,\n",
       "        -47.5050, -47.4788, -47.6037, -48.0418, -47.5310, -48.5986, -48.6162,\n",
       "        -48.2889, -48.3452, -46.9834, -48.3070, -48.2269, -47.3795, -48.3967,\n",
       "        -49.0356, -48.3582, -48.6585, -47.3188, -48.1296, -49.1845, -48.5637,\n",
       "        -48.1803, -47.9629, -48.4612, -47.3858, -47.0646, -48.0555, -48.3213,\n",
       "        -48.5756, -48.4867, -48.9297, -46.6010, -47.4078, -48.2057, -49.0148,\n",
       "        -48.0543, -49.6181, -47.5936, -47.8496, -49.1635, -47.8984, -47.8034,\n",
       "        -48.3710, -48.3960, -49.0308, -48.2798, -48.1121, -48.9334, -48.2324,\n",
       "        -49.5191, -48.5188, -46.6163, -48.8250, -47.3103, -48.7263, -47.4765,\n",
       "        -45.8357, -46.9466, -47.4063, -47.4129, -47.8689, -47.3716, -47.7724,\n",
       "        -48.1182, -48.1905, -48.0693, -47.1302, -49.1210, -47.6733, -46.6909,\n",
       "        -48.5192, -47.3192, -46.5891, -48.0361, -48.5151, -48.9153, -48.2540,\n",
       "        -47.4442, -47.0534, -47.7939, -47.6314, -47.6009, -48.3439, -49.0500,\n",
       "        -47.5111, -48.9037, -48.2727, -47.0236, -46.1934, -47.9628, -49.1700,\n",
       "        -47.4806, -47.4052, -47.6298, -49.5735, -48.0990, -47.6180, -48.2785,\n",
       "        -47.9116, -46.8116, -48.4301, -48.5183, -47.7830, -48.8117, -46.9193,\n",
       "        -46.6293, -48.6430, -47.6180, -48.7697, -46.1178, -47.9083, -47.1923,\n",
       "        -47.5650, -47.8342, -47.1407, -45.9643, -47.1985, -47.6225, -48.0015,\n",
       "        -47.0931, -47.6685, -48.5286, -47.6030, -48.3935, -49.4082, -48.4486,\n",
       "        -47.6163, -48.5265, -48.7685, -48.1423, -47.1356, -48.0451, -46.8290,\n",
       "        -47.0064, -48.0625, -48.0222, -48.1547, -48.2710, -48.0371, -49.0633,\n",
       "        -47.5559, -47.9665, -49.0290, -48.6712, -45.9547, -48.6229, -47.4962,\n",
       "        -47.2716, -47.7394, -48.3942, -48.6136, -47.1556, -47.0781, -48.2471,\n",
       "        -49.0510, -47.9271, -47.3520, -47.7254, -47.7138, -48.6932, -46.3007,\n",
       "        -46.8831, -48.5368, -48.1658, -47.8900, -48.8779, -48.2128, -47.5730,\n",
       "        -47.9581, -46.6522, -47.2445, -48.1633, -47.9464, -46.7944, -47.2566,\n",
       "        -46.9674, -47.3497, -48.3069, -48.2772, -47.8890, -46.3246, -48.5357,\n",
       "        -48.1769, -47.5956, -46.6034, -47.3637, -47.3736, -46.2978, -49.1039,\n",
       "        -49.3365, -47.4902, -48.1526, -47.9664, -47.6343, -47.2445, -47.6328,\n",
       "        -49.1846, -49.5832, -46.3385, -47.7394, -45.9613, -47.6476, -47.7692,\n",
       "        -47.6200, -47.8521, -47.6347, -46.9228, -47.7471, -47.0331, -47.6573,\n",
       "        -47.9682, -47.5663, -47.9753, -47.0102, -46.9067, -49.1622, -47.5519,\n",
       "        -46.2938, -47.2124, -47.8959, -46.9983, -46.9962, -49.1292, -48.6699,\n",
       "        -48.0514, -47.3086, -47.3324, -48.5078, -46.5385, -46.9104, -47.8949,\n",
       "        -47.9866, -47.7515, -47.7706, -46.2067, -47.8028, -47.6081, -49.0377,\n",
       "        -48.3460, -47.7860, -46.1301, -48.6316, -47.8865, -47.2683, -47.6559,\n",
       "        -48.0497, -46.9797, -48.2048, -48.1408, -49.2374, -47.5531, -47.8576,\n",
       "        -48.3573, -47.2289, -48.6889, -49.0377, -47.0568, -47.3088, -48.3561,\n",
       "        -46.3757, -49.7315, -47.5480, -46.1754, -48.9870, -46.9790, -47.5540,\n",
       "        -48.5283, -49.1316, -47.9179, -47.0975, -47.2355, -48.1027, -46.7830,\n",
       "        -45.9968, -46.9521, -47.8782, -48.3649, -48.4579, -46.4763, -48.0790,\n",
       "        -48.0728, -47.3780, -46.6502, -45.8900, -47.9825, -46.3920, -47.5227,\n",
       "        -48.5036, -47.3396, -46.6352, -47.7784, -47.4902, -48.2533, -47.7768,\n",
       "        -47.9614], device='cuda:0', grad_fn=<SelectBackward>)"
      ]
     },
     "execution_count": 23,
     "metadata": {},
     "output_type": "execute_result"
    }
   ],
   "source": [
    "bnn.layers[0].rho[0]"
   ]
  },
  {
   "cell_type": "code",
   "execution_count": 24,
   "metadata": {},
   "outputs": [
    {
     "data": {
      "text/plain": [
       "tensor([4.6616e-21, 2.3398e-21, 2.6671e-21, 8.5367e-21, 1.1249e-21, 2.5368e-21,\n",
       "        3.0988e-21, 2.0413e-21, 3.0160e-21, 6.2652e-21, 5.5402e-21, 6.4982e-21,\n",
       "        1.0497e-20, 4.6372e-22, 3.2418e-21, 1.4938e-21, 3.6906e-21, 6.1170e-22,\n",
       "        2.0044e-21, 2.7114e-21, 4.9002e-22, 1.3618e-21, 2.3484e-21, 2.8346e-21,\n",
       "        7.2620e-22, 2.9141e-21, 5.1937e-22, 2.3885e-21, 3.2208e-21, 1.2887e-21,\n",
       "        1.8750e-21, 5.0635e-22, 4.5210e-21, 1.4934e-21, 7.9818e-22, 1.5869e-21,\n",
       "        1.8509e-21, 9.8714e-22, 7.8866e-21, 3.2166e-21, 8.9388e-22, 1.5105e-22,\n",
       "        1.9146e-21, 4.1987e-21, 3.6685e-21, 1.0441e-21, 3.0682e-21, 2.2895e-21,\n",
       "        8.9436e-22, 9.7429e-21, 2.8749e-21, 1.3931e-21, 6.3812e-21, 2.7970e-21,\n",
       "        3.7882e-21, 8.5685e-21, 4.3099e-22, 7.2730e-21, 2.3001e-21, 5.7842e-22,\n",
       "        2.9353e-21, 1.5501e-21, 3.1954e-21, 1.4814e-21, 3.4574e-21, 2.8621e-21,\n",
       "        1.8660e-21, 3.2055e-21, 2.1528e-21, 1.3411e-21, 3.2376e-21, 4.1845e-22,\n",
       "        1.2961e-21, 2.4577e-21, 1.4017e-21, 1.0807e-21, 1.7594e-21, 1.4233e-21,\n",
       "        1.1019e-21, 2.8278e-21, 8.5594e-21, 2.0182e-21, 2.2925e-22, 8.9621e-22,\n",
       "        4.5748e-22, 3.7099e-21, 4.2807e-21, 2.9546e-22, 1.5823e-21, 1.3799e-21,\n",
       "        2.6270e-22, 1.5442e-21, 1.9834e-21, 1.3734e-21, 6.4250e-22, 2.4482e-21,\n",
       "        2.5700e-20, 1.3216e-21, 2.2315e-21, 4.7270e-21, 2.6420e-21, 4.9960e-21,\n",
       "        1.1114e-20, 1.5215e-21, 1.0813e-20, 2.3379e-21, 2.4002e-21, 2.1181e-21,\n",
       "        1.3669e-21, 2.2780e-21, 7.8323e-22, 7.6960e-22, 1.0676e-21, 1.0091e-21,\n",
       "        3.9390e-21, 1.0485e-21, 1.1358e-21, 2.6506e-21, 9.5850e-22, 5.0596e-22,\n",
       "        9.9606e-22, 7.3774e-22, 2.8164e-21, 1.2519e-21, 4.3595e-22, 8.1109e-22,\n",
       "        1.1900e-21, 1.4790e-21, 8.9857e-22, 2.6339e-21, 3.6315e-21, 1.3482e-21,\n",
       "        1.0336e-21, 8.0145e-22, 8.7596e-22, 5.6246e-22, 5.7733e-21, 2.5765e-21,\n",
       "        1.1603e-21, 5.1661e-22, 1.3498e-21, 2.8257e-22, 2.1398e-21, 1.6564e-21,\n",
       "        4.4522e-22, 1.5776e-21, 1.7348e-21, 9.8344e-22, 9.5911e-22, 5.0837e-22,\n",
       "        1.0774e-21, 1.2740e-21, 5.6040e-22, 1.1296e-21, 3.1200e-22, 8.4834e-22,\n",
       "        5.6857e-21, 6.2455e-22, 2.8404e-21, 6.8937e-22, 2.4056e-21, 1.2411e-20,\n",
       "        4.0864e-21, 2.5805e-21, 2.5635e-21, 1.6248e-21, 2.6717e-21, 1.7894e-21,\n",
       "        1.2663e-21, 1.1780e-21, 1.3297e-21, 3.4012e-21, 4.6456e-22, 1.9759e-21,\n",
       "        5.2771e-21, 8.4796e-22, 2.8155e-21, 5.8429e-21, 1.3746e-21, 8.5148e-22,\n",
       "        5.7064e-22, 1.1055e-21, 2.4846e-21, 3.6727e-21, 1.7514e-21, 2.0605e-21,\n",
       "        2.1243e-21, 1.0104e-21, 4.9873e-22, 2.3238e-21, 5.7726e-22, 1.0850e-21,\n",
       "        3.7838e-21, 8.6789e-21, 1.4792e-21, 4.4232e-22, 2.3958e-21, 2.5834e-21,\n",
       "        2.0636e-21, 2.9546e-22, 1.2908e-21, 2.0882e-21, 1.0787e-21, 1.5569e-21,\n",
       "        4.6772e-21, 9.2695e-22, 8.4873e-22, 1.7706e-21, 6.3292e-22, 4.1995e-21,\n",
       "        5.6123e-21, 7.4919e-22, 2.0882e-21, 6.6007e-22, 9.3607e-21, 1.5621e-21,\n",
       "        3.1961e-21, 2.2018e-21, 1.6822e-21, 3.3656e-21, 1.0913e-20, 3.1765e-21,\n",
       "        2.0788e-21, 1.4230e-21, 3.5296e-21, 1.9854e-21, 8.4003e-22, 2.1197e-21,\n",
       "        9.6159e-22, 3.4856e-22, 9.1002e-22, 2.0918e-21, 8.4177e-22, 6.6086e-22,\n",
       "        1.2361e-21, 3.3827e-21, 1.3623e-21, 4.5965e-21, 3.8491e-21, 1.3389e-21,\n",
       "        1.3939e-21, 1.2209e-21, 1.0869e-21, 1.3733e-21, 4.9211e-22, 2.2219e-21,\n",
       "        1.4738e-21, 5.0931e-22, 7.2838e-22, 1.1019e-20, 7.6445e-22, 2.3586e-21,\n",
       "        2.9526e-21, 1.8495e-21, 9.6084e-22, 7.7158e-22, 3.3158e-21, 3.5830e-21,\n",
       "        1.1132e-21, 4.9821e-22, 1.5330e-21, 2.7246e-21, 1.8755e-21, 1.8974e-21,\n",
       "        7.1254e-22, 7.7958e-21, 4.3542e-21, 8.3316e-22, 1.2074e-21, 1.5908e-21,\n",
       "        5.9235e-22, 1.1520e-21, 2.1843e-21, 1.4862e-21, 5.4856e-21, 3.0338e-21,\n",
       "        1.2104e-21, 1.5036e-21, 4.7585e-21, 2.9971e-21, 4.0022e-21, 2.7307e-21,\n",
       "        1.0485e-21, 1.0802e-21, 1.5925e-21, 7.6120e-21, 8.3411e-22, 1.1941e-21,\n",
       "        2.1355e-21, 5.7598e-21, 2.6928e-21, 2.6662e-21, 7.8183e-21, 4.7253e-22,\n",
       "        3.7447e-22, 2.3729e-21, 1.2235e-21, 1.4739e-21, 2.0544e-21, 3.0339e-21,\n",
       "        2.0575e-21, 4.3590e-22, 2.9260e-22, 7.5064e-21, 1.8495e-21, 1.0946e-20,\n",
       "        2.0272e-21, 1.7951e-21, 2.0840e-21, 1.6523e-21, 2.0535e-21, 4.1851e-21,\n",
       "        1.8352e-21, 3.7479e-21, 2.0077e-21, 1.4713e-21, 2.1991e-21, 1.4608e-21,\n",
       "        3.8346e-21, 4.2527e-21, 4.4579e-22, 2.2308e-21, 7.8501e-21, 3.1325e-21,\n",
       "        1.5815e-21, 3.8806e-21, 3.8888e-21, 4.6073e-22, 7.2935e-22, 1.3538e-21,\n",
       "        2.8454e-21, 2.7786e-21, 8.5771e-22, 6.1457e-21, 4.2370e-21, 1.5831e-21,\n",
       "        1.4443e-21, 1.8273e-21, 1.7926e-21, 8.5644e-21, 1.7358e-21, 2.1089e-21,\n",
       "        5.0490e-22, 1.0084e-21, 1.7652e-21, 9.2456e-21, 7.5781e-22, 1.5965e-21,\n",
       "        2.9625e-21, 2.0104e-21, 1.3561e-21, 3.9536e-21, 1.1612e-21, 1.2379e-21,\n",
       "        4.1350e-22, 2.2282e-21, 1.6433e-21, 9.9703e-22, 3.0814e-21, 7.1564e-22,\n",
       "        5.0491e-22, 3.6601e-21, 2.8447e-21, 9.9816e-22, 7.2328e-21, 2.5227e-22,\n",
       "        2.2396e-21, 8.8367e-21, 5.3117e-22, 3.9562e-21, 2.2263e-21, 8.4027e-22,\n",
       "        4.5964e-22, 1.5472e-21, 3.5139e-21, 3.0611e-21, 1.2861e-21, 4.8130e-21,\n",
       "        1.0565e-20, 4.0641e-21, 1.6098e-21, 9.8947e-22, 9.0160e-22, 6.5402e-21,\n",
       "        1.3169e-21, 1.3251e-21, 2.6546e-21, 5.4964e-21, 1.1755e-20, 1.4503e-21,\n",
       "        7.1158e-21, 2.2969e-21, 8.6128e-22, 2.7584e-21, 5.5792e-21, 1.7787e-21,\n",
       "        2.3728e-21, 1.1062e-21, 1.7816e-21, 1.4812e-21], device='cuda:0',\n",
       "       grad_fn=<SoftplusBackward>)"
      ]
     },
     "execution_count": 24,
     "metadata": {},
     "output_type": "execute_result"
    }
   ],
   "source": [
    "bnn.layers[0].softplus(bnn.layers[0].rho[0])"
   ]
  },
  {
   "cell_type": "code",
   "execution_count": null,
   "metadata": {},
   "outputs": [],
   "source": []
  }
 ],
 "metadata": {
  "kernelspec": {
   "display_name": "Python 3",
   "language": "python",
   "name": "python3"
  },
  "language_info": {
   "codemirror_mode": {
    "name": "ipython",
    "version": 3
   },
   "file_extension": ".py",
   "mimetype": "text/x-python",
   "name": "python",
   "nbconvert_exporter": "python",
   "pygments_lexer": "ipython3",
   "version": "3.6.9"
  }
 },
 "nbformat": 4,
 "nbformat_minor": 2
}
