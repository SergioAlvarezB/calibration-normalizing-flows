{
 "cells": [
  {
   "cell_type": "markdown",
   "metadata": {},
   "source": [
    "# Bayessian NN: Bayes by Backpropagation"
   ]
  },
  {
   "cell_type": "code",
   "execution_count": 1,
   "metadata": {},
   "outputs": [],
   "source": [
    "import os\n",
    "import sys\n",
    "import math\n",
    "import time\n",
    "import random\n",
    "import tempfile\n",
    "sys.path.append('..')\n",
    "\n",
    "import numpy as np\n",
    "import matplotlib.pyplot as plt\n",
    "import matplotlib.animation as animation\n",
    "from IPython.display import HTML\n",
    "\n",
    "import torch\n",
    "from torch import nn\n",
    "import torch.nn.functional as F\n",
    "from torchvision import datasets, transforms"
   ]
  },
  {
   "cell_type": "code",
   "execution_count": 2,
   "metadata": {},
   "outputs": [],
   "source": [
    "%matplotlib inline\n",
    "plt.ioff()\n",
    "\n",
    "dev = torch.device('cuda:1')\n",
    "\n",
    "PI = torch.Tensor([math.pi]).to(dev)"
   ]
  },
  {
   "cell_type": "markdown",
   "metadata": {},
   "source": [
    "### Helper methods:"
   ]
  },
  {
   "cell_type": "code",
   "execution_count": 3,
   "metadata": {},
   "outputs": [],
   "source": [
    "def log_normpdf(x, mu, sigma):\n",
    "    \n",
    "    return -0.5*torch.sum(torch.log(2*PI*sigma**2) + ((x - mu)/sigma)**2)"
   ]
  },
  {
   "cell_type": "markdown",
   "metadata": {},
   "source": [
    "## Define model:"
   ]
  },
  {
   "cell_type": "code",
   "execution_count": 4,
   "metadata": {},
   "outputs": [],
   "source": [
    "class BBLinear_LR(nn.Module):\n",
    "    def __init__(self, input_dim, output_dim, prior_logvar, **kwargs):\n",
    "        super(BBLinear_LR, self).__init__()\n",
    "        \n",
    "        self.mu = nn.Parameter(torch.randn(input_dim+1, output_dim))\n",
    "        self.log_var = nn.Parameter(torch.randn(input_dim+1, output_dim))\n",
    "        \n",
    "        self.prior_logvar = nn.Parameter(torch.Tensor([prior_logvar]), requires_grad=False)\n",
    "        \n",
    "    def forward(self, x):\n",
    "        \n",
    "        # Local Reparametrization\n",
    "        Z_mu = (torch.mm(x, self.mu[1:, :])) + self.mu[0, :]\n",
    "        \n",
    "        var = torch.exp(self.log_var)\n",
    "        \n",
    "        Z_sigma = torch.sqrt(torch.mm(x**2, var[1:, :]) + var[0, :])\n",
    "        \n",
    "        # Sample\n",
    "        e = torch.randn_like(Z_mu)\n",
    "        \n",
    "        Z = Z_mu + Z_sigma*e\n",
    "        \n",
    "        if not self.training:\n",
    "            return Z\n",
    "\n",
    "        KL = self.compute_KL()\n",
    "        \n",
    "        return Z, KL\n",
    "    \n",
    "    def compute_KL(self):\n",
    "        return 0.5 * torch.sum(torch.exp(self.log_var - self.prior_logvar)\n",
    "                               + (self.mu**2)/torch.exp(self.prior_logvar) - 1\n",
    "                               + (self.prior_logvar - self.log_var))"
   ]
  },
  {
   "cell_type": "code",
   "execution_count": 5,
   "metadata": {},
   "outputs": [],
   "source": [
    "class BBNN_LR(nn.Module):\n",
    "    def __init__(self, input_dim, output_dim, prior_logvar, hidden_size=[]):\n",
    "        super(BBNN_LR, self).__init__()\n",
    "        hs = [input_dim] + hidden_size + [output_dim]\n",
    "        \n",
    "        self.layers = nn.ModuleList([BBLinear_LR(inp, out, prior_logvar)\n",
    "                                     for inp, out in zip(hs[:-1], hs[1:])])\n",
    "        \n",
    "    def forward(self, x):\n",
    "        \n",
    "        KL = 0\n",
    "        Z = 0\n",
    "        z = x\n",
    "        for i, layer in enumerate(self.layers):\n",
    "            if i>0:\n",
    "                z = torch.tanh(z)\n",
    "            if self.training:\n",
    "                z, _KL = layer(z)\n",
    "                KL += _KL\n",
    "            else:\n",
    "                z = layer(z)\n",
    "                \n",
    "        Z = z\n",
    "        \n",
    "        if self.training:\n",
    "            return Z, KL\n",
    "        else:\n",
    "            return Z"
   ]
  },
  {
   "cell_type": "code",
   "execution_count": 6,
   "metadata": {},
   "outputs": [],
   "source": [
    "class BBLinear(nn.Module):\n",
    "    def __init__(self, input_dim, output_dim, prior, **kwargs):\n",
    "        super(BBLinear, self).__init__()\n",
    "        \n",
    "        self.mu = nn.Parameter(torch.randn(input_dim+1, output_dim)*np.sqrt(6/(input_dim+output_dim)))\n",
    "        self.rho = nn.Parameter(torch.randn(input_dim+1, output_dim)*0.1)\n",
    "        \n",
    "        self.softplus = nn.Softplus()\n",
    "        \n",
    "        self.prior = prior\n",
    "        \n",
    "    def forward(self, x):\n",
    "        \n",
    "        e = torch.randn_like(self.mu)\n",
    "\n",
    "        W = self.mu + self.softplus(self.rho)*e\n",
    "        \n",
    "        Z = torch.mm(x, W[1:, :]) + W[0, :]\n",
    "        \n",
    "        if not self.training:\n",
    "            return Z\n",
    "\n",
    "        KL = self.posterior(W) - self.prior(W)\n",
    "\n",
    "        \n",
    "        \n",
    "        return Z, KL\n",
    "        \n",
    "        \n",
    "    def posterior(self, W):\n",
    "        sigma = self.softplus(self.rho)\n",
    "        return log_normpdf(W, self.mu, sigma)"
   ]
  },
  {
   "cell_type": "code",
   "execution_count": 7,
   "metadata": {},
   "outputs": [],
   "source": [
    "class BBNN(nn.Module):\n",
    "    def __init__(self, input_dim, output_dim, prior, hidden_size=[]):\n",
    "        super(BBNN, self).__init__()\n",
    "        hs = [input_dim] + hidden_size + [output_dim]\n",
    "        \n",
    "        self.layers = nn.ModuleList([BBLinear(inp, out, prior) for inp, out in zip(hs[:-1], hs[1:])])\n",
    "        \n",
    "    def forward(self, x):\n",
    "        \n",
    "        KL = 0\n",
    "        Z = 0\n",
    "        z = x\n",
    "        for i, layer in enumerate(self.layers):\n",
    "            if i>0:\n",
    "                z = torch.tanh(z)\n",
    "            if self.training:\n",
    "                z, _KL = layer(z)\n",
    "                KL += _KL\n",
    "            else:\n",
    "                z = layer(z)\n",
    "                \n",
    "        Z = z\n",
    "        \n",
    "        if self.training:\n",
    "            return Z, KL\n",
    "        else:\n",
    "            return Z"
   ]
  },
  {
   "cell_type": "markdown",
   "metadata": {},
   "source": [
    "### Define a prior"
   ]
  },
  {
   "cell_type": "code",
   "execution_count": 8,
   "metadata": {},
   "outputs": [],
   "source": [
    "sigma1 = 1\n",
    "sigma2 = 0.1\n",
    "\n",
    "pi = 0.75"
   ]
  },
  {
   "cell_type": "code",
   "execution_count": 9,
   "metadata": {},
   "outputs": [],
   "source": [
    "def prior(X):\n",
    "    return pi*log_normpdf(X, 0, sigma1) + (1-pi)*log_normpdf(X, 0, sigma2)"
   ]
  },
  {
   "cell_type": "code",
   "execution_count": 10,
   "metadata": {},
   "outputs": [],
   "source": [
    "# Load data\n",
    "train_mnist_dataset = datasets.MNIST(tempfile.gettempdir(), train=True, download=True,\n",
    "                       transform=transforms.Compose([\n",
    "                            transforms.ToTensor(),\n",
    "                        ]))\n",
    "test_mnist_dataset = datasets.MNIST(tempfile.gettempdir(), train=False, download=True,\n",
    "                       transform=transforms.Compose([\n",
    "                            transforms.ToTensor(),\n",
    "                        ]))"
   ]
  },
  {
   "cell_type": "code",
   "execution_count": 11,
   "metadata": {},
   "outputs": [],
   "source": [
    "N = torch.Tensor([len(train_mnist_dataset)]).to(dev)"
   ]
  },
  {
   "cell_type": "markdown",
   "metadata": {},
   "source": [
    "## Train a BNN on MNIST"
   ]
  },
  {
   "cell_type": "code",
   "execution_count": 12,
   "metadata": {},
   "outputs": [],
   "source": [
    "batch_size=128\n",
    "epochs = 800\n",
    "beta = 2e-4\n",
    "train_loader = torch.utils.data.DataLoader(train_mnist_dataset, batch_size=batch_size, shuffle=True, num_workers=0, pin_memory=True)\n",
    "test_loader = torch.utils.data.DataLoader(test_mnist_dataset, batch_size=batch_size, shuffle=True, num_workers=0, pin_memory=True)"
   ]
  },
  {
   "cell_type": "code",
   "execution_count": 13,
   "metadata": {},
   "outputs": [],
   "source": [
    "bnn = BBNN_LR(784, 10, prior_logvar=0, hidden_size=[1200, 1200]).to(dev)\n",
    "\n",
    "optimizer = torch.optim.Adam(bnn.parameters())\n",
    "CE = torch.nn.CrossEntropyLoss(reduction='sum')"
   ]
  },
  {
   "cell_type": "code",
   "execution_count": 14,
   "metadata": {},
   "outputs": [],
   "source": [
    "bnn_loss = []\n",
    "bnn_KL = []\n",
    "bnn_NLL = []\n",
    "bnn_train_error = []\n",
    "bnn_test_error = []"
   ]
  },
  {
   "cell_type": "code",
   "execution_count": 15,
   "metadata": {},
   "outputs": [
    {
     "name": "stdout",
     "output_type": "stream",
     "text": [
      "epoch: 799, at time: 13915.53, loss: 3.378e-01, NLL: 9.323e-02, KL: 1.467e+04, Train Error: 2.69, Test Error: 1.87\r"
     ]
    }
   ],
   "source": [
    "# Train loop\n",
    "t0 = time.time()\n",
    "\n",
    "for e in range(epochs):\n",
    "\n",
    "    cum_loss = 0\n",
    "    cum_KL = 0\n",
    "    cum_NLL = 0\n",
    "    cum_acc = 0\n",
    "    \n",
    "    \n",
    "    \n",
    "    # Train\n",
    "    bnn.train()\n",
    "    for step, (images, targets) in enumerate(train_loader):\n",
    "        n = images.shape[0]\n",
    "        images = images.view(n, -1)\n",
    "        images = images.to(dev, non_blocking=True)\n",
    "        targets = targets.to(dev, non_blocking=True)\n",
    "\n",
    "        preds, _KL = bnn(images)\n",
    "        \n",
    "        _NLL = CE(preds, targets)\n",
    "        if _NLL != _NLL:\n",
    "            print(preds)\n",
    "            break\n",
    "        \n",
    "        _loss = _NLL + beta*_KL\n",
    "\n",
    "        _, _preds = torch.max(preds, dim=1)\n",
    "        _acc = torch.sum(_preds==targets)\n",
    "        \n",
    "        cum_loss += _loss.item()\n",
    "        cum_NLL += _NLL.item()\n",
    "        cum_KL += (beta*_KL).item()\n",
    "        \n",
    "        cum_acc += _acc.item()\n",
    "\n",
    "        optimizer.zero_grad()\n",
    "        _loss.backward()\n",
    "        optimizer.step()\n",
    "        \n",
    "    if _NLL != _NLL:\n",
    "            break\n",
    "            \n",
    "    # Test\n",
    "    bnn.eval()\n",
    "    test_acc = 0\n",
    "    for step, (images, targets) in enumerate(test_loader):\n",
    "        n = images.shape[0]\n",
    "        images = images.view(n, -1)\n",
    "        images = images.to(dev, non_blocking=True)\n",
    "        targets = targets.to(dev, non_blocking=True)\n",
    "        \n",
    "        preds = 0\n",
    "        for i in range(10):\n",
    "            preds += nn.functional.softmax(bnn(images), dim=1).detach()\n",
    "\n",
    "        _, _preds = torch.max(preds, dim=1)\n",
    "        _acc = torch.sum(_preds==targets)\n",
    "        test_acc += _acc.item()\n",
    "\n",
    "    bnn_loss.append(cum_loss/len(train_mnist_dataset))\n",
    "    bnn_KL.append(cum_KL)\n",
    "    bnn_NLL.append(cum_NLL/len(train_mnist_dataset))\n",
    "    bnn_train_error.append(100. - 100.*(cum_acc/len(train_mnist_dataset)))\n",
    "    bnn_test_error.append(100. - 100.*(test_acc/len(test_mnist_dataset)))\n",
    "        \n",
    "    if e%5 == 4:\n",
    "        print('epoch: {}, at time: {:.2f}, loss: {:.3e}, NLL: {:.3e}, KL: {:.3e}, Train Error: {:.2f}, Test Error: {:.2f}'.format(\n",
    "              e, time.time()-t0, bnn_loss[-1], bnn_NLL[-1], bnn_KL[-1], bnn_train_error[-1], bnn_test_error[-1]), end='\\r')"
   ]
  },
  {
   "cell_type": "code",
   "execution_count": 16,
   "metadata": {},
   "outputs": [
    {
     "name": "stdout",
     "output_type": "stream",
     "text": [
      "Test Error Rate: 1.75\n"
     ]
    }
   ],
   "source": [
    "# Test\n",
    "bnn.to(dev, non_blocking=True)\n",
    "bnn.eval()\n",
    "test_acc = 0\n",
    "for step, (images, targets) in enumerate(test_loader):\n",
    "    n = images.shape[0]\n",
    "    images = images.view(n, -1)\n",
    "    images = images.to(dev, non_blocking=True)\n",
    "    targets = targets.to(dev, non_blocking=True)\n",
    "\n",
    "    preds = 0\n",
    "    for i in range(1000):\n",
    "        preds += nn.functional.softmax(bnn(images), dim=1).detach()\n",
    "\n",
    "    _, _preds = torch.max(preds, dim=1)\n",
    "    _acc = torch.sum(_preds==targets)\n",
    "    test_acc += _acc.item()\n",
    "    \n",
    "test_error = 100. - 100.*(test_acc/len(test_mnist_dataset))\n",
    "\n",
    "print(\"Test Error Rate: {:.2f}\".format(test_error))"
   ]
  },
  {
   "cell_type": "code",
   "execution_count": 17,
   "metadata": {},
   "outputs": [
    {
     "data": {
      "image/png": "[encoded data removed]",
      "text/plain": [
       "<Figure size 1152x432 with 3 Axes>"
      ]
     },
     "metadata": {
      "needs_background": "light"
     },
     "output_type": "display_data"
    }
   ],
   "source": [
    "fig, ax_arr = plt.subplots(1, 3, figsize=(16, 6))\n",
    "\n",
    "ax_arr[0].plot(bnn_NLL)\n",
    "ax_arr[0].set_yscale('log')\n",
    "ax_arr[0].set_title('NLL')\n",
    "\n",
    "\n",
    "ax_arr[1].plot(bnn_KL)\n",
    "ax_arr[1].set_yscale('log')\n",
    "ax_arr[1].set_title('KL')\n",
    "\n",
    "ax_arr[2].plot(bnn_train_error)\n",
    "ax_arr[2].plot(bnn_test_error)\n",
    "ax_arr[2].set_title('Error rate')\n",
    "ax_arr[2].legend(['Train', 'Test'])\n",
    "\n",
    "plt.show()"
   ]
  },
  {
   "cell_type": "markdown",
   "metadata": {},
   "source": [
    "## Train Baseline"
   ]
  },
  {
   "cell_type": "code",
   "execution_count": null,
   "metadata": {},
   "outputs": [],
   "source": [
    "baseline = nn.Sequential(\n",
    "        nn.Linear(784, 1200),\n",
    "        nn.ReLU(),\n",
    "        nn.Linear(1200, 1200),\n",
    "        nn.ReLU(),\n",
    "        nn.Linear(1200, 10),\n",
    "    ).to(dev)"
   ]
  },
  {
   "cell_type": "code",
   "execution_count": 19,
   "metadata": {},
   "outputs": [],
   "source": [
    "optimizer = torch.optim.Adam(baseline.parameters())\n",
    "CE = torch.nn.CrossEntropyLoss(reduction='sum')"
   ]
  },
  {
   "cell_type": "code",
   "execution_count": 20,
   "metadata": {},
   "outputs": [],
   "source": [
    "baseline_NLL = []\n",
    "baseline_train_error = []\n",
    "baseline_test_error = []"
   ]
  },
  {
   "cell_type": "code",
   "execution_count": null,
   "metadata": {},
   "outputs": [
    {
     "name": "stdout",
     "output_type": "stream",
     "text": [
      "epoch: 294, at time: 2928.02, NLL: 8.634e-03, Train Error: 0.07, Test Error: 1.57\r"
     ]
    }
   ],
   "source": [
    "# Train loop\n",
    "t0 = time.time()\n",
    "\n",
    "for e in range(epochs):\n",
    "\n",
    "    cum_NLL = 0\n",
    "    cum_acc = 0\n",
    "    \n",
    "    \n",
    "    # Train\n",
    "    baseline.train()\n",
    "    for step, (images, targets) in enumerate(train_loader):\n",
    "        n = images.shape[0]\n",
    "        images = images.view(n, -1)\n",
    "        images = images.to(dev, non_blocking=True)\n",
    "        targets = targets.to(dev, non_blocking=True)\n",
    "\n",
    "        preds = baseline(images)\n",
    "        \n",
    "        _NLL = CE(preds, targets)\n",
    "        if _NLL != _NLL:\n",
    "            print(preds)\n",
    "            break\n",
    "        \n",
    "        _loss = _NLL\n",
    "\n",
    "        _, _preds = torch.max(preds, dim=1)\n",
    "        _acc = torch.sum(_preds==targets)\n",
    "        \n",
    "        cum_NLL += _NLL.item()\n",
    "        cum_acc += _acc.item()\n",
    "\n",
    "        optimizer.zero_grad()\n",
    "        _loss.backward()\n",
    "        optimizer.step()\n",
    "        \n",
    "    if _NLL != _NLL:\n",
    "            break\n",
    "            \n",
    "    # Test\n",
    "    baseline.eval()\n",
    "    test_acc = 0\n",
    "    for step, (images, targets) in enumerate(test_loader):\n",
    "        n = images.shape[0]\n",
    "        images = images.view(n, -1)\n",
    "        images = images.to(dev, non_blocking=True)\n",
    "        targets = targets.to(dev, non_blocking=True)\n",
    "        \n",
    "        preds = baseline(images)\n",
    "        \n",
    "        _, _preds = torch.max(preds, dim=1)\n",
    "        _acc = torch.sum(_preds==targets)\n",
    "        test_acc += _acc.item()\n",
    "\n",
    "    baseline_NLL.append(cum_NLL/len(train_mnist_dataset))\n",
    "    baseline_train_error.append(100. - 100.*(cum_acc/len(train_mnist_dataset)))\n",
    "    baseline_test_error.append(100. - 100.*(test_acc/len(test_mnist_dataset)))\n",
    "        \n",
    "    if e%5 == 4:\n",
    "        print('epoch: {}, at time: {:.2f}, NLL: {:.3e}, Train Error: {:.2f}, Test Error: {:.2f}'.format(\n",
    "              e, time.time()-t0, baseline_NLL[-1], baseline_train_error[-1], baseline_test_error[-1]), end='\\r')"
   ]
  },
  {
   "cell_type": "code",
   "execution_count": null,
   "metadata": {},
   "outputs": [],
   "source": [
    "fig, ax_arr = plt.subplots(1, 2, figsize=(16, 6))\n",
    "\n",
    "ax_arr[0].plot(baseline_NLL)\n",
    "ax_arr[0].set_yscale('log')\n",
    "ax_arr[0].set_title('NLL')\n",
    "\n",
    "\n",
    "ax_arr[1].plot(baseline_train_error)\n",
    "ax_arr[1].plot(baseline_test_error)\n",
    "ax_arr[1].set_title('Error rate')\n",
    "ax_arr[1].legend(['Train', 'Test'])\n",
    "\n",
    "plt.show()"
   ]
  },
  {
   "cell_type": "code",
   "execution_count": null,
   "metadata": {},
   "outputs": [],
   "source": []
  }
 ],
 "metadata": {
  "kernelspec": {
   "display_name": "Python 3",
   "language": "python",
   "name": "python3"
  },
  "language_info": {
   "codemirror_mode": {
    "name": "ipython",
    "version": 3
   },
   "file_extension": ".py",
   "mimetype": "text/x-python",
   "name": "python",
   "nbconvert_exporter": "python",
   "pygments_lexer": "ipython3",
   "version": "3.6.7"
  }
 },
 "nbformat": 4,
 "nbformat_minor": 2
}
