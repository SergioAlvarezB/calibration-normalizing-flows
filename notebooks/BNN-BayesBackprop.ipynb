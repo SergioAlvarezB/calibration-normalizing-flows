{
 "cells": [
  {
   "cell_type": "markdown",
   "metadata": {},
   "source": [
    "# Bayessian NN: Bayes by Backpropagation"
   ]
  },
  {
   "cell_type": "code",
   "execution_count": 1,
   "metadata": {},
   "outputs": [],
   "source": [
    "import os\n",
    "import sys\n",
    "import math\n",
    "import time\n",
    "import random\n",
    "import tempfile\n",
    "sys.path.append('..')\n",
    "\n",
    "import numpy as np\n",
    "import matplotlib.pyplot as plt\n",
    "import matplotlib.animation as animation\n",
    "from IPython.display import HTML\n",
    "\n",
    "import torch\n",
    "from torch import nn\n",
    "import torch.nn.functional as F\n",
    "from torchvision import datasets, transforms"
   ]
  },
  {
   "cell_type": "code",
   "execution_count": 2,
   "metadata": {},
   "outputs": [],
   "source": [
    "%matplotlib inline\n",
    "plt.ioff()\n",
    "\n",
    "dev = torch.device('cuda:1')\n",
    "\n",
    "PI = torch.Tensor([math.pi]).to(dev)"
   ]
  },
  {
   "cell_type": "markdown",
   "metadata": {},
   "source": [
    "### Helper methods:"
   ]
  },
  {
   "cell_type": "code",
   "execution_count": 3,
   "metadata": {},
   "outputs": [],
   "source": [
    "def log_normpdf(x, mu, sigma):\n",
    "    \n",
    "    return -0.5*torch.mean(torch.log(2*PI*sigma**2) + ((mu - x)/sigma)**2)"
   ]
  },
  {
   "cell_type": "markdown",
   "metadata": {},
   "source": [
    "## Define model:"
   ]
  },
  {
   "cell_type": "code",
   "execution_count": 4,
   "metadata": {},
   "outputs": [],
   "source": [
    "class BBLinear_LR(nn.Module):\n",
    "    def __init__(self, input_dim, output_dim, prior_pi, prior_sigma1, prior_sigma2, **kwargs):\n",
    "        super(BBLinear_LR, self).__init__()\n",
    "        \n",
    "        self.mu = nn.Parameter(torch.randn(input_dim+1, output_dim))\n",
    "        self.rho = nn.Parameter(torch.randn(input_dim+1, output_dim))\n",
    "        \n",
    "        self.softplus = nn.Softplus()\n",
    "        \n",
    "        self.prior_pi = nn.Parameter(torch.Tensor([prior_pi]), requires_grad=False)\n",
    "        self.prior_sigma1 = nn.Parameter(torch.Tensor([prior_sigma1]), requires_grad=False)\n",
    "        self.prior_sigma2 = nn.Parameter(torch.Tensor([prior_sigma2]), requires_grad=False)\n",
    "        \n",
    "    def forward(self, x):\n",
    "        \n",
    "        # Local Reparametrization\n",
    "        Z_mu = (torch.mm(x, self.mu[1:, :])) + self.mu[0, :]\n",
    "        \n",
    "        sigma = self.softplus(self.rho)\n",
    "        \n",
    "        Z_sigma = torch.sqrt(torch.mm(x**2, sigma[1:, :]**2) + sigma[0, :]**2)\n",
    "        \n",
    "        # Sample\n",
    "        e = torch.randn_like(Z_mu)\n",
    "        \n",
    "        Z = Z_mu + Z_sigma*e\n",
    "\n",
    "        KL = self.posterior(Z, Z_mu, Z_sigma) - self.prior(x, Z)\n",
    "\n",
    "        \n",
    "        return Z, KL\n",
    "    \n",
    "    def prior(self, x, Z):\n",
    "        \n",
    "        W1 = torch.ones_like(self.mu)*self.prior_sigma1**2\n",
    "        W2 = torch.ones_like(self.mu)*self.prior_sigma2**2\n",
    "        \n",
    "        Z_sigma1 = torch.sqrt(torch.mm(x**2, W1[1:, :]**2) + W1[0, :]**2)\n",
    "        Z_sigma2 = torch.sqrt(torch.mm(x**2, W2[1:, :]**2) + W2[0, :]**2)\n",
    "        \n",
    "        return self.prior_pi*log_normpdf(Z, 0, Z_sigma1) + (1-self.prior_pi)*log_normpdf(Z, 0, Z_sigma2)\n",
    "        \n",
    "        \n",
    "    def posterior(self, Z, Z_mu, Z_sigma):\n",
    "        return log_normpdf(Z, Z_mu, Z_sigma)"
   ]
  },
  {
   "cell_type": "code",
   "execution_count": 5,
   "metadata": {},
   "outputs": [],
   "source": [
    "class BBNN_LR(nn.Module):\n",
    "    def __init__(self, input_dim, output_dim, prior_pi, prior_sigma1, prior_sigma2, hidden_size=[]):\n",
    "        super(BBNN_LR, self).__init__()\n",
    "        hs = [input_dim] + hidden_size + [output_dim]\n",
    "        \n",
    "        self.layers = nn.ModuleList([BBLinear_LR(inp, out, prior_pi, prior_sigma1, prior_sigma2)\n",
    "                                     for inp, out in zip(hs[:-1], hs[1:])])\n",
    "        \n",
    "    def forward(self, x, n_samples=10):\n",
    "        \n",
    "        KL = 0\n",
    "        Z = 0\n",
    "        for n in range(n_samples):\n",
    "            z = x\n",
    "            for i, layer in enumerate(self.layers):\n",
    "                if i>0:\n",
    "                    z = torch.tanh(z)\n",
    "                z, _KL = layer(z)\n",
    "                KL += _KL\n",
    "                \n",
    "            Z += z\n",
    "            \n",
    "        return Z/n_samples, KL/n_samples"
   ]
  },
  {
   "cell_type": "code",
   "execution_count": 6,
   "metadata": {},
   "outputs": [],
   "source": [
    "class BBLinear(nn.Module):\n",
    "    def __init__(self, input_dim, output_dim, prior, **kwargs):\n",
    "        super(BBLinear, self).__init__()\n",
    "        \n",
    "        self.mu = nn.Parameter(torch.randn(input_dim+1, output_dim))\n",
    "        self.rho = nn.Parameter(torch.randn(input_dim+1, output_dim))\n",
    "        \n",
    "        self.softplus = nn.Softplus()\n",
    "        \n",
    "        self.prior = prior\n",
    "        \n",
    "    def forward(self, x):\n",
    "        \n",
    "        e = torch.randn_like(self.mu)\n",
    "\n",
    "        W = self.mu + self.softplus(self.rho)*e\n",
    "\n",
    "        KL = self.posterior(W) - self.prior(W)\n",
    "\n",
    "        Z = torch.mm(x, W[1:, :]) + W[0, :]\n",
    "        \n",
    "        return Z, KL\n",
    "        \n",
    "        \n",
    "    def posterior(self, W):\n",
    "        sigma = self.softplus(self.rho)\n",
    "        return log_normpdf(W, self.mu, sigma)"
   ]
  },
  {
   "cell_type": "code",
   "execution_count": 7,
   "metadata": {},
   "outputs": [],
   "source": [
    "class BBNN(nn.Module):\n",
    "    def __init__(self, input_dim, output_dim, prior, hidden_size=[]):\n",
    "        super(BBNN, self).__init__()\n",
    "        hs = [input_dim] + hidden_size + [output_dim]\n",
    "        \n",
    "        self.layers = nn.ModuleList([BBLinear(inp, out, prior) for inp, out in zip(hs[:-1], hs[1:])])\n",
    "        \n",
    "    def forward(self, x, n_samples=10):\n",
    "        \n",
    "        KL = 0\n",
    "        Z = 0\n",
    "        for n in range(n_samples):\n",
    "            z = x\n",
    "            for i, layer in enumerate(self.layers):\n",
    "                if i>0:\n",
    "                    z = torch.tanh(z)\n",
    "                z, _KL = layer(z)\n",
    "                KL += _KL\n",
    "                \n",
    "            Z += z\n",
    "            \n",
    "        return Z/n_samples, KL/(n_samples*(i+1))"
   ]
  },
  {
   "cell_type": "markdown",
   "metadata": {},
   "source": [
    "### Define a prior"
   ]
  },
  {
   "cell_type": "code",
   "execution_count": 8,
   "metadata": {},
   "outputs": [],
   "source": [
    "sigma1 = np.exp(-1)\n",
    "sigma2 = np.exp(-7)\n",
    "\n",
    "pi = 0.5"
   ]
  },
  {
   "cell_type": "code",
   "execution_count": 9,
   "metadata": {},
   "outputs": [],
   "source": [
    "def prior(X):\n",
    "    return pi*log_normpdf(X, 0, sigma1) + (1-pi)*log_normpdf(X, 0, sigma2)"
   ]
  },
  {
   "cell_type": "code",
   "execution_count": 10,
   "metadata": {},
   "outputs": [],
   "source": [
    "# Load data\n",
    "mnist_dataset = datasets.MNIST(tempfile.gettempdir(), train=True, download=True,\n",
    "                       transform=transforms.Compose([\n",
    "                            transforms.ToTensor(),\n",
    "                        ]))"
   ]
  },
  {
   "cell_type": "code",
   "execution_count": 11,
   "metadata": {},
   "outputs": [],
   "source": [
    "N = torch.Tensor([len(mnist_dataset)]).to(dev)"
   ]
  },
  {
   "cell_type": "markdown",
   "metadata": {},
   "source": [
    "## Train a BNN on MNIST"
   ]
  },
  {
   "cell_type": "code",
   "execution_count": 12,
   "metadata": {},
   "outputs": [],
   "source": [
    "batch_size=128\n",
    "epochs = 600\n",
    "\n",
    "train_loader = torch.utils.data.DataLoader(mnist_dataset, batch_size=batch_size, shuffle=True, num_workers=0, pin_memory=True)"
   ]
  },
  {
   "cell_type": "code",
   "execution_count": 13,
   "metadata": {},
   "outputs": [],
   "source": [
    "bnn = BBNN(784, 10, prior=prior, hidden_size=[400]).to(dev)\n",
    "\n",
    "optimizer = torch.optim.Adam(bnn.parameters())\n",
    "CE = torch.nn.CrossEntropyLoss()"
   ]
  },
  {
   "cell_type": "code",
   "execution_count": 14,
   "metadata": {},
   "outputs": [],
   "source": [
    "loss = []\n",
    "KL = []\n",
    "NLL = []"
   ]
  },
  {
   "cell_type": "code",
   "execution_count": 15,
   "metadata": {},
   "outputs": [
    {
     "name": "stdout",
     "output_type": "stream",
     "text": [
      "epoch: 9, at time: 123.37, loss: 5.948e+04, NLL: 7.831e+00, KL: 5.947e+04\r"
     ]
    },
    {
     "ename": "KeyboardInterrupt",
     "evalue": "",
     "output_type": "error",
     "traceback": [
      "\u001b[1;31m---------------------------------------------------------------------------\u001b[0m",
      "\u001b[1;31mKeyboardInterrupt\u001b[0m                         Traceback (most recent call last)",
      "\u001b[1;32m<ipython-input-15-4e7af2a319db>\u001b[0m in \u001b[0;36m<module>\u001b[1;34m\u001b[0m\n\u001b[0;32m     15\u001b[0m         \u001b[0mtargets\u001b[0m \u001b[1;33m=\u001b[0m \u001b[0mtargets\u001b[0m\u001b[1;33m.\u001b[0m\u001b[0mto\u001b[0m\u001b[1;33m(\u001b[0m\u001b[0mdev\u001b[0m\u001b[1;33m,\u001b[0m \u001b[0mnon_blocking\u001b[0m\u001b[1;33m=\u001b[0m\u001b[1;32mTrue\u001b[0m\u001b[1;33m)\u001b[0m\u001b[1;33m\u001b[0m\u001b[1;33m\u001b[0m\u001b[0m\n\u001b[0;32m     16\u001b[0m \u001b[1;33m\u001b[0m\u001b[0m\n\u001b[1;32m---> 17\u001b[1;33m         \u001b[0mpreds\u001b[0m\u001b[1;33m,\u001b[0m \u001b[0m_KL\u001b[0m \u001b[1;33m=\u001b[0m \u001b[0mbnn\u001b[0m\u001b[1;33m(\u001b[0m\u001b[0mimages\u001b[0m\u001b[1;33m,\u001b[0m \u001b[0mn_samples\u001b[0m\u001b[1;33m=\u001b[0m\u001b[1;36m1\u001b[0m\u001b[1;33m)\u001b[0m\u001b[1;33m\u001b[0m\u001b[1;33m\u001b[0m\u001b[0m\n\u001b[0m\u001b[0;32m     18\u001b[0m \u001b[1;33m\u001b[0m\u001b[0m\n\u001b[0;32m     19\u001b[0m         \u001b[0m_NLL\u001b[0m \u001b[1;33m=\u001b[0m \u001b[0mCE\u001b[0m\u001b[1;33m(\u001b[0m\u001b[0mpreds\u001b[0m\u001b[1;33m,\u001b[0m \u001b[0mtargets\u001b[0m\u001b[1;33m)\u001b[0m\u001b[1;33m\u001b[0m\u001b[1;33m\u001b[0m\u001b[0m\n",
      "\u001b[1;32m~\\Anaconda3\\envs\\calibration\\lib\\site-packages\\torch\\nn\\modules\\module.py\u001b[0m in \u001b[0;36m__call__\u001b[1;34m(self, *input, **kwargs)\u001b[0m\n\u001b[0;32m    545\u001b[0m             \u001b[0mresult\u001b[0m \u001b[1;33m=\u001b[0m \u001b[0mself\u001b[0m\u001b[1;33m.\u001b[0m\u001b[0m_slow_forward\u001b[0m\u001b[1;33m(\u001b[0m\u001b[1;33m*\u001b[0m\u001b[0minput\u001b[0m\u001b[1;33m,\u001b[0m \u001b[1;33m**\u001b[0m\u001b[0mkwargs\u001b[0m\u001b[1;33m)\u001b[0m\u001b[1;33m\u001b[0m\u001b[1;33m\u001b[0m\u001b[0m\n\u001b[0;32m    546\u001b[0m         \u001b[1;32melse\u001b[0m\u001b[1;33m:\u001b[0m\u001b[1;33m\u001b[0m\u001b[1;33m\u001b[0m\u001b[0m\n\u001b[1;32m--> 547\u001b[1;33m             \u001b[0mresult\u001b[0m \u001b[1;33m=\u001b[0m \u001b[0mself\u001b[0m\u001b[1;33m.\u001b[0m\u001b[0mforward\u001b[0m\u001b[1;33m(\u001b[0m\u001b[1;33m*\u001b[0m\u001b[0minput\u001b[0m\u001b[1;33m,\u001b[0m \u001b[1;33m**\u001b[0m\u001b[0mkwargs\u001b[0m\u001b[1;33m)\u001b[0m\u001b[1;33m\u001b[0m\u001b[1;33m\u001b[0m\u001b[0m\n\u001b[0m\u001b[0;32m    548\u001b[0m         \u001b[1;32mfor\u001b[0m \u001b[0mhook\u001b[0m \u001b[1;32min\u001b[0m \u001b[0mself\u001b[0m\u001b[1;33m.\u001b[0m\u001b[0m_forward_hooks\u001b[0m\u001b[1;33m.\u001b[0m\u001b[0mvalues\u001b[0m\u001b[1;33m(\u001b[0m\u001b[1;33m)\u001b[0m\u001b[1;33m:\u001b[0m\u001b[1;33m\u001b[0m\u001b[1;33m\u001b[0m\u001b[0m\n\u001b[0;32m    549\u001b[0m             \u001b[0mhook_result\u001b[0m \u001b[1;33m=\u001b[0m \u001b[0mhook\u001b[0m\u001b[1;33m(\u001b[0m\u001b[0mself\u001b[0m\u001b[1;33m,\u001b[0m \u001b[0minput\u001b[0m\u001b[1;33m,\u001b[0m \u001b[0mresult\u001b[0m\u001b[1;33m)\u001b[0m\u001b[1;33m\u001b[0m\u001b[1;33m\u001b[0m\u001b[0m\n",
      "\u001b[1;32m<ipython-input-7-3f4bc01c2ea8>\u001b[0m in \u001b[0;36mforward\u001b[1;34m(self, x, n_samples)\u001b[0m\n\u001b[0;32m     15\u001b[0m                 \u001b[1;32mif\u001b[0m \u001b[0mi\u001b[0m\u001b[1;33m>\u001b[0m\u001b[1;36m0\u001b[0m\u001b[1;33m:\u001b[0m\u001b[1;33m\u001b[0m\u001b[1;33m\u001b[0m\u001b[0m\n\u001b[0;32m     16\u001b[0m                     \u001b[0mz\u001b[0m \u001b[1;33m=\u001b[0m \u001b[0mtorch\u001b[0m\u001b[1;33m.\u001b[0m\u001b[0mtanh\u001b[0m\u001b[1;33m(\u001b[0m\u001b[0mz\u001b[0m\u001b[1;33m)\u001b[0m\u001b[1;33m\u001b[0m\u001b[1;33m\u001b[0m\u001b[0m\n\u001b[1;32m---> 17\u001b[1;33m                 \u001b[0mz\u001b[0m\u001b[1;33m,\u001b[0m \u001b[0m_KL\u001b[0m \u001b[1;33m=\u001b[0m \u001b[0mlayer\u001b[0m\u001b[1;33m(\u001b[0m\u001b[0mz\u001b[0m\u001b[1;33m)\u001b[0m\u001b[1;33m\u001b[0m\u001b[1;33m\u001b[0m\u001b[0m\n\u001b[0m\u001b[0;32m     18\u001b[0m                 \u001b[0mKL\u001b[0m \u001b[1;33m+=\u001b[0m \u001b[0m_KL\u001b[0m\u001b[1;33m\u001b[0m\u001b[1;33m\u001b[0m\u001b[0m\n\u001b[0;32m     19\u001b[0m \u001b[1;33m\u001b[0m\u001b[0m\n",
      "\u001b[1;32m~\\Anaconda3\\envs\\calibration\\lib\\site-packages\\torch\\nn\\modules\\module.py\u001b[0m in \u001b[0;36m__call__\u001b[1;34m(self, *input, **kwargs)\u001b[0m\n\u001b[0;32m    545\u001b[0m             \u001b[0mresult\u001b[0m \u001b[1;33m=\u001b[0m \u001b[0mself\u001b[0m\u001b[1;33m.\u001b[0m\u001b[0m_slow_forward\u001b[0m\u001b[1;33m(\u001b[0m\u001b[1;33m*\u001b[0m\u001b[0minput\u001b[0m\u001b[1;33m,\u001b[0m \u001b[1;33m**\u001b[0m\u001b[0mkwargs\u001b[0m\u001b[1;33m)\u001b[0m\u001b[1;33m\u001b[0m\u001b[1;33m\u001b[0m\u001b[0m\n\u001b[0;32m    546\u001b[0m         \u001b[1;32melse\u001b[0m\u001b[1;33m:\u001b[0m\u001b[1;33m\u001b[0m\u001b[1;33m\u001b[0m\u001b[0m\n\u001b[1;32m--> 547\u001b[1;33m             \u001b[0mresult\u001b[0m \u001b[1;33m=\u001b[0m \u001b[0mself\u001b[0m\u001b[1;33m.\u001b[0m\u001b[0mforward\u001b[0m\u001b[1;33m(\u001b[0m\u001b[1;33m*\u001b[0m\u001b[0minput\u001b[0m\u001b[1;33m,\u001b[0m \u001b[1;33m**\u001b[0m\u001b[0mkwargs\u001b[0m\u001b[1;33m)\u001b[0m\u001b[1;33m\u001b[0m\u001b[1;33m\u001b[0m\u001b[0m\n\u001b[0m\u001b[0;32m    548\u001b[0m         \u001b[1;32mfor\u001b[0m \u001b[0mhook\u001b[0m \u001b[1;32min\u001b[0m \u001b[0mself\u001b[0m\u001b[1;33m.\u001b[0m\u001b[0m_forward_hooks\u001b[0m\u001b[1;33m.\u001b[0m\u001b[0mvalues\u001b[0m\u001b[1;33m(\u001b[0m\u001b[1;33m)\u001b[0m\u001b[1;33m:\u001b[0m\u001b[1;33m\u001b[0m\u001b[1;33m\u001b[0m\u001b[0m\n\u001b[0;32m    549\u001b[0m             \u001b[0mhook_result\u001b[0m \u001b[1;33m=\u001b[0m \u001b[0mhook\u001b[0m\u001b[1;33m(\u001b[0m\u001b[0mself\u001b[0m\u001b[1;33m,\u001b[0m \u001b[0minput\u001b[0m\u001b[1;33m,\u001b[0m \u001b[0mresult\u001b[0m\u001b[1;33m)\u001b[0m\u001b[1;33m\u001b[0m\u001b[1;33m\u001b[0m\u001b[0m\n",
      "\u001b[1;32m<ipython-input-6-1e73ed8eea1b>\u001b[0m in \u001b[0;36mforward\u001b[1;34m(self, x)\u001b[0m\n\u001b[0;32m     14\u001b[0m         \u001b[0me\u001b[0m \u001b[1;33m=\u001b[0m \u001b[0mtorch\u001b[0m\u001b[1;33m.\u001b[0m\u001b[0mrandn_like\u001b[0m\u001b[1;33m(\u001b[0m\u001b[0mself\u001b[0m\u001b[1;33m.\u001b[0m\u001b[0mmu\u001b[0m\u001b[1;33m)\u001b[0m\u001b[1;33m\u001b[0m\u001b[1;33m\u001b[0m\u001b[0m\n\u001b[0;32m     15\u001b[0m \u001b[1;33m\u001b[0m\u001b[0m\n\u001b[1;32m---> 16\u001b[1;33m         \u001b[0mW\u001b[0m \u001b[1;33m=\u001b[0m \u001b[0mself\u001b[0m\u001b[1;33m.\u001b[0m\u001b[0mmu\u001b[0m \u001b[1;33m+\u001b[0m \u001b[0mself\u001b[0m\u001b[1;33m.\u001b[0m\u001b[0msoftplus\u001b[0m\u001b[1;33m(\u001b[0m\u001b[0mself\u001b[0m\u001b[1;33m.\u001b[0m\u001b[0mrho\u001b[0m\u001b[1;33m)\u001b[0m\u001b[1;33m*\u001b[0m\u001b[0me\u001b[0m\u001b[1;33m\u001b[0m\u001b[1;33m\u001b[0m\u001b[0m\n\u001b[0m\u001b[0;32m     17\u001b[0m \u001b[1;33m\u001b[0m\u001b[0m\n\u001b[0;32m     18\u001b[0m         \u001b[0mKL\u001b[0m \u001b[1;33m=\u001b[0m \u001b[0mself\u001b[0m\u001b[1;33m.\u001b[0m\u001b[0mposterior\u001b[0m\u001b[1;33m(\u001b[0m\u001b[0mW\u001b[0m\u001b[1;33m)\u001b[0m \u001b[1;33m-\u001b[0m \u001b[0mself\u001b[0m\u001b[1;33m.\u001b[0m\u001b[0mprior\u001b[0m\u001b[1;33m(\u001b[0m\u001b[0mW\u001b[0m\u001b[1;33m)\u001b[0m\u001b[1;33m\u001b[0m\u001b[1;33m\u001b[0m\u001b[0m\n",
      "\u001b[1;31mKeyboardInterrupt\u001b[0m: "
     ]
    }
   ],
   "source": [
    "# Train loop\n",
    "t0 = time.time()\n",
    "\n",
    "for e in range(epochs):\n",
    "\n",
    "    cum_loss = 0\n",
    "    cum_KL = 0\n",
    "    cum_NLL = 0\n",
    "    count = 0\n",
    "    \n",
    "    for images, targets in train_loader:\n",
    "        n = images.shape[0]\n",
    "        images = images.view(n, -1)\n",
    "        images = images.to(dev, non_blocking=True)\n",
    "        targets = targets.to(dev, non_blocking=True)\n",
    "\n",
    "        preds, _KL = bnn(images, n_samples=1)\n",
    "        \n",
    "        _NLL = CE(preds, targets)\n",
    "        if _NLL != _NLL:\n",
    "            print(bnn.layers[0].mu[0])\n",
    "            break\n",
    "        \n",
    "        _loss = _NLL + _KL\n",
    "\n",
    "        cum_loss += _loss.item()\n",
    "        cum_NLL += _NLL.item()\n",
    "        cum_KL += _KL.item()\n",
    "        count += 1\n",
    "\n",
    "        _loss.backward()\n",
    "        optimizer.step()\n",
    "\n",
    "    loss.append(cum_loss/count)\n",
    "    KL.append(cum_KL/count)\n",
    "    NLL.append(cum_NLL/count)\n",
    "        \n",
    "    if e%5 == 4:\n",
    "        print('epoch: {}, at time: {:.2f}, loss: {:.3e}, NLL: {:.3e}, KL: {:.3e}'.format(\n",
    "              e, time.time()-t0, loss[-1], NLL[-1], KL[-1]), end='\\r')"
   ]
  },
  {
   "cell_type": "code",
   "execution_count": 16,
   "metadata": {},
   "outputs": [
    {
     "data": {
      "image/png": "[encoded data removed]",
      "text/plain": [
       "<Figure size 1152x432 with 3 Axes>"
      ]
     },
     "metadata": {
      "needs_background": "light"
     },
     "output_type": "display_data"
    }
   ],
   "source": [
    "fig, ax_arr = plt.subplots(1, 3, figsize=(16, 6))\n",
    "\n",
    "ax_arr[0].plot(loss)\n",
    "ax_arr[0].set_yscale('log')\n",
    "ax_arr[0].set_title('Loss')\n",
    "\n",
    "\n",
    "ax_arr[1].plot(NLL)\n",
    "ax_arr[1].set_yscale('log')\n",
    "ax_arr[1].set_title('NLL')\n",
    "\n",
    "\n",
    "ax_arr[2].plot(KL)\n",
    "ax_arr[2].set_yscale('log')\n",
    "ax_arr[2].set_title('KL')\n",
    "\n",
    "plt.show()"
   ]
  },
  {
   "cell_type": "code",
   "execution_count": 17,
   "metadata": {},
   "outputs": [
    {
     "data": {
      "text/plain": [
       "tensor([-6.3261, -5.4927, -3.9465, -3.9526, -4.8233, -6.4903, -5.3893, -3.0776,\n",
       "        -7.4491, -7.2837, -6.6722, -5.3634, -6.4339, -5.1541, -5.0593, -3.9648,\n",
       "        -4.8101, -5.8609, -5.9066, -6.3737, -5.7792, -6.1265, -5.4437, -6.1006,\n",
       "        -7.5758, -7.1190, -4.5019, -7.2072, -5.3971, -7.1675, -5.8391, -5.6686,\n",
       "        -6.2429, -7.0240, -5.5477, -5.3570, -4.9565, -6.4507, -7.6113, -7.1303,\n",
       "        -5.8747, -5.4917, -5.1384, -6.6083, -6.5364, -5.5049, -6.3752, -5.2501,\n",
       "        -5.0735, -4.5767, -4.8917, -6.0796, -6.9348, -2.6711, -5.5963, -6.1175,\n",
       "        -7.1025, -5.9501, -5.9429, -7.3099, -5.6683, -5.4771, -4.5420, -6.7233,\n",
       "        -5.3382, -5.7766, -6.3867, -5.0280, -6.1257, -5.6289, -5.9610, -4.7286,\n",
       "        -7.3781, -7.4218, -4.5805, -5.1330, -6.5218, -6.1829, -6.2400, -5.0317,\n",
       "        -6.0022, -6.9489, -5.4473, -6.1288, -5.9886, -6.7456, -6.1527, -6.3352,\n",
       "        -3.8253, -5.3838, -5.5922, -4.3126, -4.6491, -5.8148, -6.1584, -6.9326,\n",
       "        -5.1631, -5.9218, -5.7251, -5.1017, -4.6663, -6.2491, -6.0374, -5.8307,\n",
       "        -6.5443, -5.8192, -6.8855, -6.5643, -4.1394, -3.6953, -5.9865, -4.5125,\n",
       "        -6.6278, -5.3745, -6.1648, -5.1209, -6.0717, -6.8258, -3.7198, -6.2812,\n",
       "        -5.6460, -4.9468, -4.6470, -6.8797, -5.3011, -7.3097, -5.5705, -7.0146,\n",
       "        -5.0611, -6.9445, -5.4055, -6.8941, -6.6924, -6.6170, -6.2160, -5.2111,\n",
       "        -6.8780, -4.7037, -7.1967, -5.3011, -6.9064, -5.9177, -6.5105, -4.6880,\n",
       "        -5.2051, -4.1048, -5.0435, -5.6004, -6.1120, -5.1274, -6.8732, -6.0169,\n",
       "        -4.8278, -5.4262, -5.3629, -5.7673, -5.1411, -6.6064, -3.9288, -3.5276,\n",
       "        -5.2825, -5.1395, -5.5884, -5.9371, -5.8067, -4.5235, -4.5054, -5.4301,\n",
       "        -7.5393, -5.1822, -6.0708, -6.0791, -6.2966, -7.0676, -4.4444, -4.8833,\n",
       "        -4.1421, -7.0882, -5.6642, -5.1832, -4.8282, -6.2410, -4.9158, -6.3316,\n",
       "        -4.7416, -6.9817, -5.2765, -5.0646, -4.7564, -3.8212, -5.2115, -7.5006,\n",
       "        -4.1940, -6.4062, -3.1028, -7.8625, -7.1245, -4.4393, -6.4547, -6.2163,\n",
       "        -6.1763, -5.9764, -5.7840, -5.4107, -5.6194, -6.8913, -4.4413, -6.6570,\n",
       "        -4.7030, -5.8425, -5.8579, -6.6287, -6.9617, -4.5410, -5.5286, -4.7172,\n",
       "        -5.7939, -3.7038, -5.2167, -6.3734, -6.6759, -6.7402, -5.5949, -6.3364,\n",
       "        -6.8533, -5.0340, -4.7438, -6.8252, -4.9555, -6.6983, -5.7237, -4.6402,\n",
       "        -6.5549, -7.2324, -4.9686, -6.6797, -6.0020, -5.2461, -4.5255, -6.4332,\n",
       "        -5.7065, -7.1278, -4.9620, -6.6871, -6.1898, -5.1393, -6.1969, -5.9809,\n",
       "        -5.2708, -5.3472, -6.0505, -5.8314, -6.6338, -6.4817, -5.8695, -6.7327,\n",
       "        -5.7568, -5.2197, -5.2044, -6.7617, -6.9889, -6.9264, -7.2596, -4.8827,\n",
       "        -6.6547, -6.4309, -6.0067, -6.4271, -4.5960, -4.7229, -7.8876, -5.5700,\n",
       "        -5.4754, -4.5234, -5.4758, -5.4734, -5.0118, -5.2046, -5.4697, -6.1510,\n",
       "        -5.4301, -6.6147, -5.8459, -4.5247, -5.7953, -6.9164, -5.2600, -5.9771,\n",
       "        -3.7225, -5.4754, -6.3428, -5.4351, -5.6840, -4.2072, -6.0956, -3.4382,\n",
       "        -4.7135, -5.3607, -5.8862, -6.4595, -6.3480, -5.9475, -5.3271, -6.8759,\n",
       "        -5.6800, -5.8327, -5.1923, -4.5603, -5.3786, -6.2920, -6.4244, -4.2709,\n",
       "        -4.9544, -6.0354, -5.7218, -5.7129, -4.3214, -6.1895, -4.9875, -4.4161,\n",
       "        -3.7611, -6.1356, -7.5723, -6.8247, -6.2778, -7.4029, -6.0316, -5.4857,\n",
       "        -7.1643, -5.9568, -6.0181, -5.0866, -7.0407, -5.5116, -6.0576, -4.1815,\n",
       "        -5.9872, -5.1426, -3.7874, -6.6039, -5.7387, -4.7292, -5.2418, -5.2738,\n",
       "        -5.6511, -4.8350, -6.4395, -4.8445, -6.0646, -5.4198, -6.6246, -6.8520,\n",
       "        -4.9045, -4.6415, -7.0903, -6.2307, -5.8714, -5.0540, -5.8114, -5.3136,\n",
       "        -6.8097, -6.7120, -4.2127, -7.1008, -7.3352, -3.9623, -7.1942, -6.5306,\n",
       "        -5.1069, -4.6252, -6.7420, -7.5635, -5.3732, -5.6808, -6.6004, -6.3709,\n",
       "        -5.2292, -4.8055, -5.4288, -3.0498, -5.9842, -5.5355, -6.2939, -7.8090,\n",
       "        -5.7313, -5.2559, -6.3938, -5.4185, -5.4088, -4.4019, -6.6434, -5.5668,\n",
       "        -6.7473, -6.1469, -6.4641, -7.0207, -6.9092, -5.3830, -4.5110, -5.2398],\n",
       "       device='cuda:1', grad_fn=<SelectBackward>)"
      ]
     },
     "execution_count": 17,
     "metadata": {},
     "output_type": "execute_result"
    }
   ],
   "source": [
    "bnn.layers[0].rho[0]"
   ]
  },
  {
   "cell_type": "code",
   "execution_count": 18,
   "metadata": {},
   "outputs": [
    {
     "data": {
      "text/plain": [
       "tensor([0.0018, 0.0041, 0.0191, 0.0190, 0.0080, 0.0015, 0.0046, 0.0450, 0.0006,\n",
       "        0.0007, 0.0013, 0.0047, 0.0016, 0.0058, 0.0063, 0.0188, 0.0081, 0.0028,\n",
       "        0.0027, 0.0017, 0.0031, 0.0022, 0.0043, 0.0022, 0.0005, 0.0008, 0.0110,\n",
       "        0.0007, 0.0045, 0.0008, 0.0029, 0.0034, 0.0019, 0.0009, 0.0039, 0.0047,\n",
       "        0.0070, 0.0016, 0.0005, 0.0008, 0.0028, 0.0041, 0.0058, 0.0013, 0.0014,\n",
       "        0.0041, 0.0017, 0.0052, 0.0062, 0.0102, 0.0075, 0.0023, 0.0010, 0.0669,\n",
       "        0.0037, 0.0022, 0.0008, 0.0026, 0.0026, 0.0007, 0.0034, 0.0042, 0.0106,\n",
       "        0.0012, 0.0048, 0.0031, 0.0017, 0.0065, 0.0022, 0.0036, 0.0026, 0.0088,\n",
       "        0.0006, 0.0006, 0.0102, 0.0059, 0.0015, 0.0021, 0.0019, 0.0065, 0.0025,\n",
       "        0.0010, 0.0043, 0.0022, 0.0025, 0.0012, 0.0021, 0.0018, 0.0216, 0.0046,\n",
       "        0.0037, 0.0133, 0.0095, 0.0030, 0.0021, 0.0010, 0.0057, 0.0027, 0.0033,\n",
       "        0.0061, 0.0094, 0.0019, 0.0024, 0.0029, 0.0014, 0.0030, 0.0010, 0.0014,\n",
       "        0.0158, 0.0245, 0.0025, 0.0109, 0.0013, 0.0046, 0.0021, 0.0060, 0.0023,\n",
       "        0.0011, 0.0240, 0.0019, 0.0035, 0.0071, 0.0095, 0.0010, 0.0050, 0.0007,\n",
       "        0.0038, 0.0009, 0.0063, 0.0010, 0.0045, 0.0010, 0.0012, 0.0013, 0.0020,\n",
       "        0.0054, 0.0010, 0.0090, 0.0007, 0.0050, 0.0010, 0.0027, 0.0015, 0.0092,\n",
       "        0.0055, 0.0164, 0.0064, 0.0037, 0.0022, 0.0059, 0.0010, 0.0024, 0.0080,\n",
       "        0.0044, 0.0047, 0.0031, 0.0058, 0.0014, 0.0195, 0.0290, 0.0051, 0.0058,\n",
       "        0.0037, 0.0026, 0.0030, 0.0108, 0.0110, 0.0044, 0.0005, 0.0056, 0.0023,\n",
       "        0.0023, 0.0018, 0.0009, 0.0117, 0.0075, 0.0158, 0.0008, 0.0035, 0.0056,\n",
       "        0.0080, 0.0019, 0.0073, 0.0018, 0.0087, 0.0009, 0.0051, 0.0063, 0.0086,\n",
       "        0.0217, 0.0054, 0.0006, 0.0150, 0.0016, 0.0439, 0.0004, 0.0008, 0.0117,\n",
       "        0.0016, 0.0020, 0.0021, 0.0025, 0.0031, 0.0045, 0.0036, 0.0010, 0.0117,\n",
       "        0.0013, 0.0090, 0.0029, 0.0029, 0.0013, 0.0009, 0.0106, 0.0040, 0.0089,\n",
       "        0.0030, 0.0243, 0.0054, 0.0017, 0.0013, 0.0012, 0.0037, 0.0018, 0.0011,\n",
       "        0.0065, 0.0087, 0.0011, 0.0070, 0.0012, 0.0033, 0.0096, 0.0014, 0.0007,\n",
       "        0.0069, 0.0013, 0.0025, 0.0053, 0.0108, 0.0016, 0.0033, 0.0008, 0.0070,\n",
       "        0.0012, 0.0020, 0.0058, 0.0020, 0.0025, 0.0051, 0.0048, 0.0024, 0.0029,\n",
       "        0.0013, 0.0015, 0.0028, 0.0012, 0.0032, 0.0054, 0.0055, 0.0012, 0.0009,\n",
       "        0.0010, 0.0007, 0.0075, 0.0013, 0.0016, 0.0025, 0.0016, 0.0100, 0.0089,\n",
       "        0.0004, 0.0038, 0.0042, 0.0108, 0.0042, 0.0042, 0.0066, 0.0055, 0.0042,\n",
       "        0.0021, 0.0044, 0.0013, 0.0029, 0.0108, 0.0030, 0.0010, 0.0052, 0.0025,\n",
       "        0.0239, 0.0042, 0.0018, 0.0044, 0.0034, 0.0148, 0.0023, 0.0316, 0.0089,\n",
       "        0.0047, 0.0028, 0.0016, 0.0017, 0.0026, 0.0048, 0.0010, 0.0034, 0.0029,\n",
       "        0.0055, 0.0104, 0.0046, 0.0018, 0.0016, 0.0139, 0.0070, 0.0024, 0.0033,\n",
       "        0.0033, 0.0132, 0.0020, 0.0068, 0.0120, 0.0230, 0.0022, 0.0005, 0.0011,\n",
       "        0.0019, 0.0006, 0.0024, 0.0041, 0.0008, 0.0026, 0.0024, 0.0062, 0.0009,\n",
       "        0.0040, 0.0023, 0.0152, 0.0025, 0.0058, 0.0224, 0.0014, 0.0032, 0.0088,\n",
       "        0.0053, 0.0051, 0.0035, 0.0079, 0.0016, 0.0078, 0.0023, 0.0044, 0.0013,\n",
       "        0.0011, 0.0074, 0.0096, 0.0008, 0.0020, 0.0028, 0.0064, 0.0030, 0.0049,\n",
       "        0.0011, 0.0012, 0.0147, 0.0008, 0.0007, 0.0188, 0.0008, 0.0015, 0.0060,\n",
       "        0.0098, 0.0012, 0.0005, 0.0046, 0.0034, 0.0014, 0.0017, 0.0053, 0.0082,\n",
       "        0.0044, 0.0463, 0.0025, 0.0039, 0.0018, 0.0004, 0.0032, 0.0052, 0.0017,\n",
       "        0.0044, 0.0045, 0.0122, 0.0013, 0.0038, 0.0012, 0.0021, 0.0016, 0.0009,\n",
       "        0.0010, 0.0046, 0.0109, 0.0053], device='cuda:1',\n",
       "       grad_fn=<SoftplusBackward>)"
      ]
     },
     "execution_count": 18,
     "metadata": {},
     "output_type": "execute_result"
    }
   ],
   "source": [
    "bnn.layers[0].softplus(bnn.layers[0].rho[0])"
   ]
  },
  {
   "cell_type": "code",
   "execution_count": null,
   "metadata": {},
   "outputs": [],
   "source": []
  }
 ],
 "metadata": {
  "kernelspec": {
   "display_name": "Python 3",
   "language": "python",
   "name": "python3"
  },
  "language_info": {
   "codemirror_mode": {
    "name": "ipython",
    "version": 3
   },
   "file_extension": ".py",
   "mimetype": "text/x-python",
   "name": "python",
   "nbconvert_exporter": "python",
   "pygments_lexer": "ipython3",
   "version": "3.6.7"
  }
 },
 "nbformat": 4,
 "nbformat_minor": 2
}
