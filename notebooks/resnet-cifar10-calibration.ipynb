{
 "cells": [
  {
   "cell_type": "markdown",
   "metadata": {},
   "source": [
    "# Calibrating resnet on CIFAR10 test set"
   ]
  },
  {
   "cell_type": "code",
   "execution_count": 1,
   "metadata": {},
   "outputs": [],
   "source": [
    "import os\n",
    "import sys\n",
    "import time\n",
    "import collections\n",
    "sys.path.append('..')\n",
    "\n",
    "import numpy as np\n",
    "import matplotlib.pyplot as plt\n",
    "from scipy.special import softmax\n",
    "import tensorflow as tf\n",
    "from tensorflow.keras.models import Model\n",
    "from tensorflow.keras.layers import Activation, Input\n",
    "\n",
    "from utils.ops import onehot_encode, optim_temperature\n",
    "from utils.metrics import neg_log_likelihood, accuracy\n",
    "from utils.visualization import plot_pdf_triplex, plot_prob_triplex\n",
    "from utils.data import get_cifar10\n",
    "from flows.nice import NiceFlow\n",
    "from calibrators import PAVCalibrator, NiceCalibrator, TempScalingCalibrator"
   ]
  },
  {
   "cell_type": "code",
   "execution_count": 2,
   "metadata": {},
   "outputs": [],
   "source": [
    "%matplotlib inline"
   ]
  },
  {
   "cell_type": "markdown",
   "metadata": {},
   "source": [
    "## Load CIFAR10 test-set"
   ]
  },
  {
   "cell_type": "code",
   "execution_count": 3,
   "metadata": {},
   "outputs": [],
   "source": [
    "data_path = '../cifar-10'"
   ]
  },
  {
   "cell_type": "code",
   "execution_count": null,
   "metadata": {},
   "outputs": [
    {
     "name": "stdout",
     "output_type": "stream",
     "text": [
      "Number of samples in the test set: 10000\n"
     ]
    }
   ],
   "source": [
    "cifar10, ix2label = get_cifar10(data_path, test=True)\n",
    "print(\"Number of samples in the test set: {:d}\".format(cifar10[\"test_labels\"].shape[0]))"
   ]
  },
  {
   "cell_type": "markdown",
   "metadata": {},
   "source": [
    "As part of the preprocessing, resnet models normalize to 1 and subtract the mean of the training set:"
   ]
  },
  {
   "cell_type": "code",
   "execution_count": null,
   "metadata": {},
   "outputs": [],
   "source": [
    "X_train = cifar10['test_images']/255.\n",
    "train_mean = np.mean(X_train, axis=0)\n",
    "\n",
    "X_test = cifar10['test_images']/255.- train_mean\n",
    "y_test = onehot_encode(cifar10['test_labels'])"
   ]
  },
  {
   "cell_type": "markdown",
   "metadata": {},
   "source": [
    "Check how classes are distributed:"
   ]
  },
  {
   "cell_type": "code",
   "execution_count": null,
   "metadata": {},
   "outputs": [
    {
     "data": {
      "image/png": "[encoded data removed]",
      "text/plain": [
       "<Figure size 864x432 with 1 Axes>"
      ]
     },
     "metadata": {
      "needs_background": "light"
     },
     "output_type": "display_data"
    }
   ],
   "source": [
    "label_counter = collections.Counter(cifar10[\"test_labels\"])\n",
    "\n",
    "f, ax = plt.subplots(figsize=(12,6))\n",
    "plt.bar(label_counter.keys(), label_counter.values(), tick_label=[ix2label[k] for k in label_counter.keys()]);\n",
    "ax.set_ylabel('Count');\n",
    "\n",
    "rects = ax.patches\n",
    "\n",
    "for rect in rects:\n",
    "    height = rect.get_height()\n",
    "    ax.text(rect.get_x() + rect.get_width() / 2, height + 5, str(height),\n",
    "            ha='center', va='bottom')"
   ]
  },
  {
   "cell_type": "markdown",
   "metadata": {},
   "source": [
    "## Load model"
   ]
  },
  {
   "cell_type": "code",
   "execution_count": null,
   "metadata": {},
   "outputs": [
    {
     "name": "stdout",
     "output_type": "stream",
     "text": [
      "WARNING:tensorflow:From /opt/conda/lib/python3.6/site-packages/tensorflow/python/ops/resource_variable_ops.py:435: colocate_with (from tensorflow.python.framework.ops) is deprecated and will be removed in a future version.\n",
      "Instructions for updating:\n",
      "Colocations handled automatically by placer.\n"
     ]
    }
   ],
   "source": [
    "resnet_path = '../pretrained-models'\n",
    "net = 'resnet56v2.h5'\n",
    "model = tf.keras.models.load_model(os.path.join(resnet_path, net), custom_objects={'tf': tf})"
   ]
  },
  {
   "cell_type": "markdown",
   "metadata": {},
   "source": [
    "Visualize some predictions:"
   ]
  },
  {
   "cell_type": "code",
   "execution_count": null,
   "metadata": {},
   "outputs": [],
   "source": [
    "idxs = [20, 13, 543, 23, 999, 2304]\n",
    "\n",
    "fig, ax_arr = plt.subplots(2, 3, figsize=(18, 8))\n",
    "\n",
    "\n",
    "for i, idx in enumerate(idxs):\n",
    "    test_ima = X_test[idx, :]\n",
    "    probs = model.predict(test_ima[np.newaxis, :])\n",
    "    pred = np.argmax(probs)\n",
    "    ax_arr[i//3, i%3].imshow(cifar10['test_images'][idx]/255.)\n",
    "    ax_arr[i//3, i%3].axis('off')\n",
    "    ax_arr[i//3, i%3].set_title(\"Predicted category '{}', with probability {:.4f}\".format(ix2label[pred], probs[0][pred]))\n",
    "    \n",
    "plt.show();"
   ]
  },
  {
   "cell_type": "markdown",
   "metadata": {},
   "source": [
    "### Compute NLL of the classifier on the test set "
   ]
  },
  {
   "cell_type": "code",
   "execution_count": null,
   "metadata": {},
   "outputs": [],
   "source": [
    "probs = model.predict(X_test, batch_size=100)"
   ]
  },
  {
   "cell_type": "code",
   "execution_count": null,
   "metadata": {},
   "outputs": [],
   "source": [
    "base_nll = neg_log_likelihood(probs, y_test)\n",
    "base_acc = accuracy(probs, y_test)"
   ]
  },
  {
   "cell_type": "code",
   "execution_count": null,
   "metadata": {},
   "outputs": [],
   "source": [
    "print(\"Negative log-likelihood of the classifier on the test set: {:.3f}\".format(base_nll))\n",
    "print(\"Accuracy of the classifier on the test set: {:.3f}\".format(base_acc))"
   ]
  },
  {
   "cell_type": "markdown",
   "metadata": {},
   "source": [
    "# Calibrating the network\n",
    "\n",
    "First we need to obtain the logits instead of the final probabilities"
   ]
  },
  {
   "cell_type": "code",
   "execution_count": null,
   "metadata": {},
   "outputs": [],
   "source": [
    "logit_model = Model(inputs=model.input, outputs=model.layers[-2].output)"
   ]
  },
  {
   "cell_type": "code",
   "execution_count": null,
   "metadata": {},
   "outputs": [],
   "source": [
    "logits = logit_model.predict(X_test, batch_size=100)"
   ]
  },
  {
   "cell_type": "markdown",
   "metadata": {},
   "source": [
    "## Temperature scaling calibration:"
   ]
  },
  {
   "cell_type": "code",
   "execution_count": null,
   "metadata": {},
   "outputs": [],
   "source": [
    "# Temp scaling\n",
    "t0 = time.time()\n",
    "temp_cal = TempScalingCalibrator(logits, y_test)\n",
    "print(\"Optimal temperature found: {:.3f}, elapsed time: {:.3f}s\".format(temp_cal.T, (time.time()-t0)))\n",
    "temp_probs = temp_cal.predict(logits)\n",
    "\n",
    "temp_nll = neg_log_likelihood(temp_probs, y_test)\n",
    "temp_acc = accuracy(temp_probs, y_test)\n",
    "\n",
    "print(\"Negative log-likelihood after calibration with temp-scaling: {:.3f}\".format(temp_nll))\n",
    "print(\"Accuracy after calibration with temp-scaling: {:.3f}\".format(temp_acc))"
   ]
  },
  {
   "cell_type": "markdown",
   "metadata": {},
   "source": [
    "Effect on the probabilities"
   ]
  },
  {
   "cell_type": "code",
   "execution_count": null,
   "metadata": {},
   "outputs": [],
   "source": [
    "fig, ax_arr = plt.subplots(2, 3, figsize=(18, 10), gridspec_kw={'hspace': 0.4})\n",
    "\n",
    "\n",
    "for i, idx in enumerate(idxs):\n",
    "    test_ima = cifar10['test_images'][idx]/255.\n",
    "    pred = np.argmax(probs[idx])\n",
    "    ax_arr[i//3, i%3].imshow(test_ima)\n",
    "    ax_arr[i//3, i%3].axis('off')\n",
    "    ax_arr[i//3, i%3].set_title(\"Predicted: '{}'\\nUncalibrated prob {:.4f}\\nCalibrated prob: {:4f}\".format(ix2label[pred], probs[idx][pred], temp_probs[idx][pred]))\n",
    "    \n",
    "plt.show();"
   ]
  },
  {
   "cell_type": "markdown",
   "metadata": {},
   "source": [
    "## Calibrate with PAV extended to multiclass(normalization):"
   ]
  },
  {
   "cell_type": "code",
   "execution_count": null,
   "metadata": {},
   "outputs": [],
   "source": [
    "t0 = time.time()\n",
    "pav_cal = PAVCalibrator(logits.astype(np.float), y_test.astype(np.float))\n",
    "print(\"PAV calibration fitted, elapsed time: {:.3f}s\".format(time.time()-t0))"
   ]
  },
  {
   "cell_type": "code",
   "execution_count": null,
   "metadata": {},
   "outputs": [],
   "source": [
    "pav_probs = pav_cal.predict(logits.astype(np.float))\n",
    "\n",
    "pav_nll = neg_log_likelihood(pav_probs, y_test)\n",
    "pav_acc = accuracy(pav_probs, y_test)\n",
    "\n",
    "print(\"Negative log-likelihood after calibration with temp-scaling: {:.3f}\".format(pav_nll))\n",
    "print(\"Accuracy after calibration with temp-scaling: {:.3f}\".format(pav_acc))"
   ]
  },
  {
   "cell_type": "markdown",
   "metadata": {},
   "source": [
    "Effect on probabilities:"
   ]
  },
  {
   "cell_type": "code",
   "execution_count": null,
   "metadata": {},
   "outputs": [],
   "source": [
    "fig, ax_arr = plt.subplots(2, 3, figsize=(18, 10), gridspec_kw={'hspace': 0.4})\n",
    "\n",
    "\n",
    "for i, idx in enumerate(idxs):\n",
    "    test_ima = cifar10['test_images'][idx]/255.\n",
    "    pred = np.argmax(probs[idx])\n",
    "    ax_arr[i//3, i%3].imshow(test_ima)\n",
    "    ax_arr[i//3, i%3].axis('off')\n",
    "    ax_arr[i//3, i%3].set_title(\"Predicted: '{}'\\nUncalibrated prob {:.4f}\\nCalibrated prob: {:4f}\".format(ix2label[pred], probs[idx][pred], pav_probs[idx][pred]))\n",
    "    \n",
    "plt.show();"
   ]
  },
  {
   "cell_type": "markdown",
   "metadata": {},
   "source": [
    "## Calibrate using NICE-flow\n",
    "\n",
    "Build flow:"
   ]
  },
  {
   "cell_type": "code",
   "execution_count": null,
   "metadata": {},
   "outputs": [],
   "source": [
    "t0 = time.time()\n",
    "nice_cal = NiceCalibrator(logits.astype(np.float), y_test.astype(np.float), layers=4,\n",
    "                          hidden_size=[10, 10, 10], epochs=1000, batch_size=100)\n",
    "print(\"NICE-flow calibration fitted, elapsed time: {:.3f}s\".format(time.time()-t0))"
   ]
  },
  {
   "cell_type": "code",
   "execution_count": null,
   "metadata": {},
   "outputs": [],
   "source": [
    "# Visalize training\n",
    "plt.plot(nice_cal.history.history['loss'])\n",
    "plt.title('NICE training')\n",
    "plt.ylabel('NLL')\n",
    "plt.xlabel('epoch')\n",
    "plt.show()"
   ]
  },
  {
   "cell_type": "code",
   "execution_count": null,
   "metadata": {},
   "outputs": [],
   "source": [
    "nice_probs = nice_cal.predict(logits)\n",
    "\n",
    "nll_nice = neg_log_likelihood(nice_probs, y_test)\n",
    "nice_acc = accuracy(nice_probs, y_test)\n",
    "\n",
    "print(\"Negative log-likelihood after calibration with NICE: {:.3f}\".format(nll_nice))\n",
    "print(\"Accuracy after calibration with NICE: {:.3f}\".format(nice_acc))"
   ]
  },
  {
   "cell_type": "markdown",
   "metadata": {},
   "source": [
    "Effect on probabilities:"
   ]
  },
  {
   "cell_type": "code",
   "execution_count": null,
   "metadata": {},
   "outputs": [],
   "source": [
    "fig, ax_arr = plt.subplots(2, 3, figsize=(18, 10), gridspec_kw={'hspace': 0.4})\n",
    "\n",
    "\n",
    "for i, idx in enumerate(idxs):\n",
    "    test_ima = cifar10['test_images'][idx]/255.\n",
    "    pred = np.argmax(probs[idx])\n",
    "    ax_arr[i//3, i%3].imshow(test_ima)\n",
    "    ax_arr[i//3, i%3].axis('off')\n",
    "    ax_arr[i//3, i%3].set_title(\"Predicted: '{}'\\nUncalibrated prob {:.4f}\\nCalibrated prob: {:4f}\".format(ix2label[pred], probs[idx][pred], nice_probs[idx][pred]))\n",
    "    \n",
    "plt.show();"
   ]
  },
  {
   "cell_type": "code",
   "execution_count": null,
   "metadata": {},
   "outputs": [],
   "source": []
  }
 ],
 "metadata": {
  "kernelspec": {
   "display_name": "Python 3",
   "language": "python",
   "name": "python3"
  },
  "language_info": {
   "codemirror_mode": {
    "name": "ipython",
    "version": 3
   },
   "file_extension": ".py",
   "mimetype": "text/x-python",
   "name": "python",
   "nbconvert_exporter": "python",
   "pygments_lexer": "ipython3",
   "version": "3.6.3"
  }
 },
 "nbformat": 4,
 "nbformat_minor": 2
}
