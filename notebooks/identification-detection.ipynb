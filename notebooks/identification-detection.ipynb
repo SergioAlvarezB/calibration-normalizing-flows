{
 "cells": [
  {
   "cell_type": "markdown",
   "metadata": {},
   "source": [
    "# Identification vs Detection: Visualizing differences on simplex"
   ]
  },
  {
   "cell_type": "code",
   "execution_count": 100,
   "metadata": {},
   "outputs": [],
   "source": [
    "import sys\n",
    "import itertools\n",
    "import collections\n",
    "sys.path.append('..')\n",
    "\n",
    "import numpy as np\n",
    "import matplotlib.pyplot as plt\n",
    "\n",
    "from utils.visualization import plot_pdf_triplex, plot_prob_triplex, reliability_plot, ECE_plot\n",
    "from utils.ops import onehot_encode"
   ]
  },
  {
   "cell_type": "code",
   "execution_count": 101,
   "metadata": {},
   "outputs": [],
   "source": [
    "%matplotlib inline"
   ]
  },
  {
   "cell_type": "markdown",
   "metadata": {},
   "source": [
    "### Generate mesh of probabilities"
   ]
  },
  {
   "cell_type": "code",
   "execution_count": 103,
   "metadata": {},
   "outputs": [
    {
     "name": "stdout",
     "output_type": "stream",
     "text": [
      "CPU times: user 16.8 ms, sys: 30 µs, total: 16.8 ms\n",
      "Wall time: 16.2 ms\n"
     ]
    }
   ],
   "source": [
    "%%time\n",
    "indep_probs = np.array([np.array(tup) for tup in itertools.product(np.linspace(0, 1, num=100), repeat=2)])\n",
    "indep_probs = indep_probs[np.where(np.sum(indep_probs, axis=1)<=1)]\n",
    "probs = np.hstack((indep_probs, 1.-np.sum(indep_probs, axis=1, keepdims=True)))\n",
    "\n",
    "target = onehot_encode(np.argmax(probs, axis=1))"
   ]
  },
  {
   "cell_type": "markdown",
   "metadata": {},
   "source": [
    "### Compute the relative log-likelihoods"
   ]
  },
  {
   "cell_type": "code",
   "execution_count": 107,
   "metadata": {},
   "outputs": [],
   "source": [
    "RLL = np.log(probs + 1e-7)\n",
    "# Start asumming flat prior\n",
    "priors = np.zeros(3) + 1./3"
   ]
  },
  {
   "cell_type": "markdown",
   "metadata": {},
   "source": [
    "#### Identification problem: \n",
    "Choose $t$ such that for any $i \\neq t$ the resulting log-likelihood-ratio $\\lambda^{t}_{i} = \\lambda_{t} - \\lambda_{i}$ is greater than the threshold: $\\theta^{t}_{i} = -log(\\pi_{t}) + log(\\pi_{i})$, where $\\{\\lambda_i\\}$ are the relative-log-likelihoods and $\\{\\pi_i\\}$ is the prior probability distribution."
   ]
  },
  {
   "cell_type": "code",
   "execution_count": 119,
   "metadata": {},
   "outputs": [],
   "source": [
    "identified = [set([0, 1, 2]) for _ in range(RLL.shape[0])]"
   ]
  },
  {
   "cell_type": "code",
   "execution_count": 120,
   "metadata": {},
   "outputs": [],
   "source": [
    "for t in range(3):\n",
    "    for i in range(3):\n",
    "        if t==i:\n",
    "            continue\n",
    "        llr = RLL[:, t] - RLL[:, i]\n",
    "        th = -np.log(priors[t]) + np.log(priors[i])\n",
    "        for k in range(len(identified)):\n",
    "            if llr[k] < th:\n",
    "                identified[k].discard(t)"
   ]
  },
  {
   "cell_type": "code",
   "execution_count": 121,
   "metadata": {},
   "outputs": [
    {
     "data": {
      "text/plain": [
       "array([[2],\n",
       "       [2],\n",
       "       [2],\n",
       "       ...,\n",
       "       [0],\n",
       "       [0],\n",
       "       [0]])"
      ]
     },
     "execution_count": 121,
     "metadata": {},
     "output_type": "execute_result"
    }
   ],
   "source": [
    "identified = np.array([np.array(list(k)) for k in identified])\n",
    "identified"
   ]
  },
  {
   "cell_type": "code",
   "execution_count": 126,
   "metadata": {},
   "outputs": [
    {
     "data": {
      "text/plain": [
       "Counter({2: 1667, 1: 1680, 0: 1697})"
      ]
     },
     "execution_count": 126,
     "metadata": {},
     "output_type": "execute_result"
    }
   ],
   "source": [
    "collections.Counter(identified.flatten().tolist())"
   ]
  },
  {
   "cell_type": "markdown",
   "metadata": {},
   "source": [
    "#### Detection problem:"
   ]
  },
  {
   "cell_type": "code",
   "execution_count": null,
   "metadata": {},
   "outputs": [],
   "source": []
  }
 ],
 "metadata": {
  "kernelspec": {
   "display_name": "Python 3",
   "language": "python",
   "name": "python3"
  },
  "language_info": {
   "codemirror_mode": {
    "name": "ipython",
    "version": 3
   },
   "file_extension": ".py",
   "mimetype": "text/x-python",
   "name": "python",
   "nbconvert_exporter": "python",
   "pygments_lexer": "ipython3",
   "version": "3.6.3"
  }
 },
 "nbformat": 4,
 "nbformat_minor": 2
}
