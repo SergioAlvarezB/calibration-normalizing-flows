{
 "cells": [
  {
   "cell_type": "markdown",
   "metadata": {},
   "source": [
    "# Generating MNIST"
   ]
  },
  {
   "cell_type": "code",
   "execution_count": 1,
   "metadata": {},
   "outputs": [],
   "source": [
    "import os\n",
    "import sys\n",
    "import time\n",
    "import random\n",
    "import tempfile\n",
    "sys.path.append('..')\n",
    "\n",
    "import numpy as np\n",
    "import matplotlib.pyplot as plt\n",
    "import torch\n",
    "from torch import nn\n",
    "import torch.nn.functional as F\n",
    "from scipy.special import softmax\n",
    "from torchvision import datasets, transforms\n",
    "from torch.distributions import MultivariateNormal"
   ]
  },
  {
   "cell_type": "markdown",
   "metadata": {},
   "source": [
    "## Load Data"
   ]
  },
  {
   "cell_type": "code",
   "execution_count": 2,
   "metadata": {},
   "outputs": [],
   "source": [
    "batch_size=1000\n",
    "dim = 784  # 28x28"
   ]
  },
  {
   "cell_type": "markdown",
   "metadata": {},
   "source": [
    "### Target Distribution:\n",
    "\n",
    "We want to generate samples from the distribution of MNIST images"
   ]
  },
  {
   "cell_type": "code",
   "execution_count": 3,
   "metadata": {},
   "outputs": [],
   "source": [
    "def min_max_normalization(tensor, min_value, max_value):\n",
    "    min_tensor = tensor.min()\n",
    "    tensor = (tensor - min_tensor)\n",
    "    max_tensor = tensor.max()\n",
    "    tensor = tensor / max_tensor\n",
    "    tensor = tensor * (max_value - min_value) + min_value\n",
    "    return tensor\n",
    "\n",
    "\n",
    "def tensor_round(tensor):\n",
    "    return torch.round(tensor)"
   ]
  },
  {
   "cell_type": "code",
   "execution_count": 4,
   "metadata": {},
   "outputs": [],
   "source": [
    "train_loader = torch.utils.data.DataLoader(\n",
    "        datasets.MNIST(tempfile.gettempdir(), train=True, download=True,\n",
    "                       transform=transforms.Compose([\n",
    "                            transforms.ToTensor(),\n",
    "                            transforms.Lambda(lambda tensor:min_max_normalization(tensor, 0, 1)),\n",
    "                            transforms.Lambda(lambda tensor:tensor_round(tensor))\n",
    "                        ])),\n",
    "        batch_size=batch_size, shuffle=True, num_workers=0, pin_memory=True)"
   ]
  },
  {
   "cell_type": "markdown",
   "metadata": {},
   "source": [
    "### Base distribution:\n",
    "\n",
    "We use the factorized distribution multivariate normal with diagonal covariance matrix."
   ]
  },
  {
   "cell_type": "code",
   "execution_count": 5,
   "metadata": {},
   "outputs": [],
   "source": [
    "base_distr = MultivariateNormal(torch.zeros(dim), torch.eye(dim))"
   ]
  },
  {
   "cell_type": "markdown",
   "metadata": {},
   "source": [
    "## Define flows"
   ]
  },
  {
   "cell_type": "code",
   "execution_count": 6,
   "metadata": {},
   "outputs": [],
   "source": [
    "class MLP(nn.Module):\n",
    "    def __init__(self, dim, hidden_size=[], activation=F.relu):\n",
    "        super(MLP, self).__init__()\n",
    "        self.activation = activation\n",
    "        units = [dim] + hidden_size + [dim]\n",
    "        self.layers = nn.ModuleList([nn.Linear(units[i], units[i+1])\n",
    "                                     for i in range(len(units)-1)])\n",
    "\n",
    "    def forward(self, x):\n",
    "        for layer in self.layers[:-1]:\n",
    "            x = self.activation(layer(x))\n",
    "        y = self.layers[-1](x)\n",
    "\n",
    "        return y"
   ]
  },
  {
   "cell_type": "code",
   "execution_count": 7,
   "metadata": {},
   "outputs": [],
   "source": [
    "class AffineConstantLayer(nn.Module):\n",
    "\n",
    "    def __init__(self, dim, scale=True, shift=True):\n",
    "        super(AffineConstantLayer, self).__init__()\n",
    "\n",
    "        self.s = nn.Parameter(torch.randn(1, dim, requires_grad=True)) \\\n",
    "            if scale else None\n",
    "        self.t = nn.Parameter(torch.randn(1, dim, requires_grad=True)) \\\n",
    "            if shift else None\n",
    "\n",
    "    def forward(self, x):\n",
    "        s = self.s if self.s is not None else x.new_zeros(x.size())\n",
    "        t = self.t if self.t is not None else x.new_zeros(x.size())\n",
    "        z = x * torch.exp(s) + t\n",
    "        log_det = torch.sum(s, dim=1)\n",
    "        return z, log_det\n",
    "\n",
    "    def backward(self, z):\n",
    "        s = self.s if self.s is not None else z.new_zeros(z.size())\n",
    "        t = self.t if self.t is not None else z.new_zeros(z.size())\n",
    "        x = (z - t) * torch.exp(-s)\n",
    "        log_det = torch.sum(-s, dim=1)\n",
    "        return x, log_det"
   ]
  },
  {
   "cell_type": "code",
   "execution_count": 8,
   "metadata": {},
   "outputs": [],
   "source": [
    "class NvpCouplingLayer(nn.Module):\n",
    "    def __init__(self, dim, hidden_size=[1000, 1000], random_mask=True):\n",
    "        super(NvpCouplingLayer, self).__init__()\n",
    "        self.s = MLP(dim, hidden_size)\n",
    "        self.t = MLP(dim, hidden_size)\n",
    "        \n",
    "        # Use random partitioning of the data\n",
    "        mask = np.random.randint(2, size=dim)\n",
    "        if random_mask:\n",
    "            while mask.sum() < 1 or mask.sum() == dim:\n",
    "                mask = np.random.randint(2, size=dim)\n",
    "        else:\n",
    "            mask = np.zeros((1, dim))\n",
    "            mask[:, dim//2:] = 1\n",
    "            \n",
    "        self.mask = nn.Parameter(\n",
    "                torch.as_tensor(mask.copy(), dtype=torch.float),\n",
    "                requires_grad=False)\n",
    "\n",
    "    def forward(self, x):\n",
    "        x_b = self.mask*x\n",
    "        b_1 = 1 - self.mask\n",
    "\n",
    "        s, t = self.s(x_b), self.t(x_b)\n",
    "        y = x_b + b_1 * (x * torch.exp(s) + t)\n",
    "\n",
    "        log_det = torch.sum(b_1*s, dim=1)\n",
    "\n",
    "        return y.flip((1,)), log_det.squeeze()\n",
    "\n",
    "    def backward(self, x):\n",
    "        x_b = self.mask*x\n",
    "        b_1 = 1 - self.mask\n",
    "\n",
    "        s, t = self.s(x_b), self.t(x_b)\n",
    "        y = x_b + b_1*((x - t) * torch.exp(-s))\n",
    "\n",
    "        log_det = torch.sum(b_1*(-s), dim=1)\n",
    "\n",
    "        return y.flip((1,)), log_det.squeeze()"
   ]
  },
  {
   "cell_type": "code",
   "execution_count": 9,
   "metadata": {},
   "outputs": [],
   "source": [
    "class Flow(nn.Module):\n",
    "    def __init__(self, layers, **kwargs):\n",
    "        super(Flow, self).__init__()\n",
    "\n",
    "        self.layers = nn.ModuleList(layers)\n",
    "        self.log_det = nn.Parameter(torch.zeros(1), requires_grad=False)\n",
    "\n",
    "    def forward(self, x):\n",
    "        cum_log_det = self.log_det.new_full((x.shape[0],), fill_value=0)\n",
    "        for layer in self.layers:\n",
    "            x, log_det = layer(x)\n",
    "            cum_log_det += log_det\n",
    "            \n",
    "        return x, cum_log_det\n",
    "            \n",
    "    def backward(self, x):\n",
    "        cum_log_det = self.log_det.new_full((x.shape[0],), fill_value=0)\n",
    "        for layer in self.layers[::-1]:\n",
    "            x, log_det = layer.backward(x)\n",
    "            cum_log_det += log_det\n",
    "\n",
    "        return x, cum_log_det"
   ]
  },
  {
   "cell_type": "markdown",
   "metadata": {},
   "source": [
    "## Create flows"
   ]
  },
  {
   "cell_type": "code",
   "execution_count": 10,
   "metadata": {},
   "outputs": [],
   "source": [
    "# Values of gamma to use\n",
    "gammas = [\n",
    "#     lambda x: 0.,\n",
    "#     lambda x: 1.,\n",
    "#     lambda x: 0.,\n",
    "    lambda x: 1,\n",
    "]\n",
    "\n",
    "devices = [\n",
    "#     torch.device('cuda:1'),\n",
    "#     torch.device('cuda:1'),\n",
    "#     torch.device('cuda:1'),\n",
    "    torch.device('cuda:0')\n",
    "]\n",
    "\n",
    "flows = [\n",
    "#     Flow(layers=[AffineConstantLayer(dim) for _ in range(20)]),\n",
    "#     Flow(layers=[AffineConstantLayer(dim) for _ in range(20)]),\n",
    "#     Flow(layers=[NvpCouplingLayer(dim, [1000], random_mask=False) for _ in range(20)]),\n",
    "    Flow(layers=[NvpCouplingLayer(dim, [1000, 1000], random_mask=False) for _ in range(15)]),\n",
    "]\n",
    "\n",
    "labels = [\n",
    "#     r'$\\mathrm{AffineFlow}, \\gamma = 0$',\n",
    "#     r'$\\mathrm{AffineFlow}, \\gamma = 1$',\n",
    "#     r'$\\mathrm{NvpFlow}, \\gamma = 0$',\n",
    "    r'$\\mathrm{NvpFlow}, \\gamma = 1$',\n",
    "]"
   ]
  },
  {
   "cell_type": "markdown",
   "metadata": {},
   "source": [
    "## Train Flows:\n",
    "\n",
    "We train Flows using the forward KL method:"
   ]
  },
  {
   "cell_type": "code",
   "execution_count": 11,
   "metadata": {},
   "outputs": [],
   "source": [
    "epochs = 2000"
   ]
  },
  {
   "cell_type": "code",
   "execution_count": 12,
   "metadata": {},
   "outputs": [],
   "source": [
    "def train_model(gamma, model, dev):\n",
    "    \n",
    "    base_distr = MultivariateNormal(torch.zeros(dim).to(dev, non_blocking=True), torch.eye(dim).to(dev, non_blocking=True))\n",
    "    model = model.to(dev, non_blocking=True)\n",
    "    \n",
    "    # Instantiate optimizer and loss function\n",
    "    optimizer = torch.optim.Adam(model.parameters(), lr=5e-6)\n",
    "    \n",
    "    loss = []\n",
    "    logprior = []\n",
    "    logdet = []\n",
    "    \n",
    "    # Train loop\n",
    "    t0 = time.time()\n",
    "    for e in range(epochs):\n",
    "        \n",
    "        cum_loss = torch.zeros(1, device=dev)\n",
    "        cum_logdet = torch.zeros(1, device=dev)\n",
    "        cum_logprior = torch.zeros(1, device=dev)\n",
    "        \n",
    "        _gamma = gamma(e)\n",
    "        for images, _ in train_loader:\n",
    "            images = images.view(images.shape[0], -1)\n",
    "            \n",
    "            images = images.to(dev, non_blocking=True)\n",
    "            \n",
    "            optimizer.zero_grad()\n",
    "            \n",
    "            preds, _logdet = model.backward(images)\n",
    "\n",
    "            _logdet = torch.mean(_logdet)\n",
    "            _logprior = -torch.mean(base_distr.log_prob(preds))\n",
    "            _loss = _logprior - _gamma*_logdet\n",
    "            \n",
    "            \n",
    "            cum_loss += _loss\n",
    "            cum_logprior += _logprior\n",
    "            cum_logdet += _logdet\n",
    "            \n",
    "            _loss.backward()\n",
    "            optimizer.step()\n",
    "            \n",
    "        loss.append(cum_loss.item()/len(train_loader.dataset))\n",
    "        logprior.append(cum_logprior.item()/len(train_loader.dataset))\n",
    "        logdet.append(cum_logdet.item()/len(train_loader.dataset))\n",
    "            \n",
    "        if e%10 == 9:\n",
    "            print('epoch: {}, at time: {:.2f}, loss: {:.3f}'.format(e, time.time()-t0, loss[-1]))\n",
    "        \n",
    "        \n",
    "    return {\n",
    "        'model': model.to('cpu'),\n",
    "        'loss': loss,\n",
    "        'logprior': logprior,\n",
    "        'logdet': logdet,\n",
    "    }"
   ]
  },
  {
   "cell_type": "code",
   "execution_count": 13,
   "metadata": {},
   "outputs": [
    {
     "name": "stdout",
     "output_type": "stream",
     "text": [
      "epoch: 9, at time: 211.44, loss: -0.512\n",
      "epoch: 19, at time: 423.06, loss: -0.848\n",
      "epoch: 29, at time: 634.72, loss: -1.093\n",
      "epoch: 39, at time: 847.96, loss: -1.264\n",
      "epoch: 49, at time: 1060.02, loss: -1.395\n",
      "epoch: 59, at time: 1272.09, loss: -1.522\n",
      "epoch: 69, at time: 1484.32, loss: -1.624\n",
      "epoch: 79, at time: 1696.70, loss: -1.417\n",
      "epoch: 89, at time: 1908.71, loss: -1.657\n",
      "epoch: 99, at time: 2120.87, loss: -1.715\n",
      "epoch: 109, at time: 2332.79, loss: -1.761\n",
      "epoch: 119, at time: 2545.05, loss: -1.803\n",
      "epoch: 129, at time: 2757.28, loss: -1.842\n",
      "epoch: 139, at time: 2969.48, loss: -1.876\n",
      "epoch: 149, at time: 3181.98, loss: -1.915\n",
      "epoch: 159, at time: 3394.28, loss: -1.952\n",
      "epoch: 169, at time: 3607.02, loss: -1.970\n",
      "epoch: 179, at time: 3819.64, loss: -2.009\n",
      "epoch: 189, at time: 4032.01, loss: -2.042\n",
      "epoch: 199, at time: 4244.15, loss: -2.077\n",
      "epoch: 209, at time: 4456.59, loss: -2.108\n",
      "epoch: 219, at time: 4668.71, loss: -2.123\n",
      "epoch: 229, at time: 4881.20, loss: -2.157\n",
      "epoch: 239, at time: 5093.42, loss: -2.174\n",
      "epoch: 249, at time: 5305.93, loss: -2.197\n",
      "epoch: 259, at time: 5518.31, loss: -2.214\n",
      "epoch: 269, at time: 5730.65, loss: -2.243\n",
      "epoch: 279, at time: 5942.93, loss: -2.272\n",
      "epoch: 289, at time: 6154.94, loss: -2.295\n",
      "epoch: 299, at time: 6367.20, loss: -2.305\n",
      "epoch: 309, at time: 6579.72, loss: -2.315\n",
      "epoch: 319, at time: 6791.99, loss: -2.354\n",
      "epoch: 329, at time: 7004.48, loss: -2.312\n",
      "epoch: 339, at time: 7216.13, loss: nan\n",
      "epoch: 349, at time: 7426.33, loss: nan\n",
      "epoch: 359, at time: 7636.57, loss: nan\n",
      "epoch: 369, at time: 7846.92, loss: nan\n",
      "epoch: 379, at time: 8057.95, loss: nan\n",
      "epoch: 389, at time: 8268.88, loss: nan\n",
      "epoch: 399, at time: 8480.42, loss: nan\n",
      "epoch: 409, at time: 8691.45, loss: nan\n",
      "epoch: 419, at time: 8902.57, loss: nan\n",
      "epoch: 429, at time: 9113.65, loss: nan\n",
      "epoch: 439, at time: 9324.61, loss: nan\n",
      "epoch: 449, at time: 9535.53, loss: nan\n",
      "epoch: 459, at time: 9746.40, loss: nan\n",
      "epoch: 469, at time: 9957.63, loss: nan\n",
      "epoch: 479, at time: 10168.86, loss: nan\n",
      "epoch: 489, at time: 10379.85, loss: nan\n",
      "epoch: 499, at time: 10590.90, loss: nan\n",
      "epoch: 509, at time: 10801.81, loss: nan\n",
      "epoch: 519, at time: 11012.76, loss: nan\n",
      "epoch: 529, at time: 11223.65, loss: nan\n",
      "epoch: 539, at time: 11434.59, loss: nan\n",
      "epoch: 549, at time: 11645.43, loss: nan\n",
      "epoch: 559, at time: 11856.37, loss: nan\n",
      "epoch: 569, at time: 12067.27, loss: nan\n",
      "epoch: 579, at time: 12278.08, loss: nan\n",
      "epoch: 589, at time: 12488.97, loss: nan\n",
      "epoch: 599, at time: 12700.18, loss: nan\n",
      "epoch: 609, at time: 12911.34, loss: nan\n",
      "epoch: 619, at time: 13122.39, loss: nan\n",
      "epoch: 629, at time: 13333.46, loss: nan\n",
      "epoch: 639, at time: 13544.49, loss: nan\n",
      "epoch: 649, at time: 13755.57, loss: nan\n",
      "epoch: 659, at time: 13967.27, loss: nan\n",
      "epoch: 669, at time: 14178.34, loss: nan\n",
      "epoch: 679, at time: 14389.45, loss: nan\n",
      "epoch: 689, at time: 14600.59, loss: nan\n",
      "epoch: 699, at time: 14811.40, loss: nan\n",
      "epoch: 709, at time: 15022.48, loss: nan\n",
      "epoch: 719, at time: 15233.51, loss: nan\n",
      "epoch: 729, at time: 15444.67, loss: nan\n",
      "epoch: 739, at time: 15655.78, loss: nan\n",
      "epoch: 749, at time: 15866.98, loss: nan\n",
      "epoch: 759, at time: 16077.85, loss: nan\n",
      "epoch: 769, at time: 16288.86, loss: nan\n",
      "epoch: 779, at time: 16499.92, loss: nan\n",
      "epoch: 789, at time: 16710.98, loss: nan\n",
      "epoch: 799, at time: 16922.07, loss: nan\n",
      "epoch: 809, at time: 17133.19, loss: nan\n",
      "epoch: 819, at time: 17344.53, loss: nan\n",
      "epoch: 829, at time: 17555.58, loss: nan\n",
      "epoch: 839, at time: 17766.89, loss: nan\n",
      "epoch: 849, at time: 17977.90, loss: nan\n",
      "epoch: 859, at time: 18188.96, loss: nan\n",
      "epoch: 869, at time: 18399.77, loss: nan\n",
      "epoch: 879, at time: 18610.81, loss: nan\n",
      "epoch: 889, at time: 18821.83, loss: nan\n",
      "epoch: 899, at time: 19032.99, loss: nan\n",
      "epoch: 909, at time: 19244.21, loss: nan\n",
      "epoch: 919, at time: 19455.56, loss: nan\n",
      "epoch: 929, at time: 19666.50, loss: nan\n",
      "epoch: 939, at time: 19877.67, loss: nan\n",
      "epoch: 949, at time: 20088.65, loss: nan\n",
      "epoch: 959, at time: 20299.98, loss: nan\n",
      "epoch: 969, at time: 20511.08, loss: nan\n",
      "epoch: 979, at time: 20722.13, loss: nan\n",
      "epoch: 989, at time: 20933.39, loss: nan\n",
      "epoch: 999, at time: 21144.69, loss: nan\n",
      "epoch: 1009, at time: 21355.89, loss: nan\n",
      "epoch: 1019, at time: 21567.73, loss: nan\n",
      "epoch: 1029, at time: 21778.76, loss: nan\n",
      "epoch: 1039, at time: 21989.85, loss: nan\n",
      "epoch: 1049, at time: 22200.93, loss: nan\n",
      "epoch: 1059, at time: 22412.05, loss: nan\n",
      "epoch: 1069, at time: 22622.98, loss: nan\n",
      "epoch: 1079, at time: 22834.26, loss: nan\n",
      "epoch: 1089, at time: 23045.29, loss: nan\n",
      "epoch: 1099, at time: 23256.46, loss: nan\n",
      "epoch: 1109, at time: 23467.50, loss: nan\n",
      "epoch: 1119, at time: 23678.68, loss: nan\n",
      "epoch: 1129, at time: 23889.91, loss: nan\n",
      "epoch: 1139, at time: 24101.17, loss: nan\n",
      "epoch: 1149, at time: 24312.39, loss: nan\n",
      "epoch: 1159, at time: 24523.68, loss: nan\n",
      "epoch: 1169, at time: 24735.01, loss: nan\n",
      "epoch: 1179, at time: 24946.33, loss: nan\n",
      "epoch: 1189, at time: 25157.69, loss: nan\n",
      "epoch: 1199, at time: 25368.87, loss: nan\n",
      "epoch: 1209, at time: 25580.21, loss: nan\n",
      "epoch: 1219, at time: 25791.30, loss: nan\n",
      "epoch: 1229, at time: 26002.56, loss: nan\n",
      "epoch: 1239, at time: 26213.88, loss: nan\n",
      "epoch: 1249, at time: 26425.20, loss: nan\n",
      "epoch: 1259, at time: 26636.30, loss: nan\n",
      "epoch: 1269, at time: 26847.87, loss: nan\n",
      "epoch: 1279, at time: 27059.43, loss: nan\n",
      "epoch: 1289, at time: 27270.65, loss: nan\n",
      "epoch: 1299, at time: 27481.58, loss: nan\n",
      "epoch: 1309, at time: 27692.72, loss: nan\n",
      "epoch: 1319, at time: 27904.44, loss: nan\n",
      "epoch: 1329, at time: 28115.53, loss: nan\n",
      "epoch: 1339, at time: 28326.63, loss: nan\n",
      "epoch: 1349, at time: 28537.91, loss: nan\n",
      "epoch: 1359, at time: 28749.08, loss: nan\n",
      "epoch: 1369, at time: 28960.16, loss: nan\n",
      "epoch: 1379, at time: 29171.53, loss: nan\n",
      "epoch: 1389, at time: 29382.81, loss: nan\n",
      "epoch: 1399, at time: 29594.03, loss: nan\n",
      "epoch: 1409, at time: 29805.14, loss: nan\n",
      "epoch: 1419, at time: 30016.04, loss: nan\n",
      "epoch: 1429, at time: 30227.11, loss: nan\n",
      "epoch: 1439, at time: 30438.37, loss: nan\n",
      "epoch: 1449, at time: 30649.78, loss: nan\n",
      "epoch: 1459, at time: 30860.85, loss: nan\n",
      "epoch: 1469, at time: 31072.08, loss: nan\n",
      "epoch: 1479, at time: 31283.17, loss: nan\n",
      "epoch: 1489, at time: 31494.27, loss: nan\n",
      "epoch: 1499, at time: 31705.60, loss: nan\n",
      "epoch: 1509, at time: 31916.84, loss: nan\n",
      "epoch: 1519, at time: 32127.85, loss: nan\n",
      "epoch: 1529, at time: 32339.01, loss: nan\n",
      "epoch: 1539, at time: 32550.18, loss: nan\n",
      "epoch: 1549, at time: 32761.45, loss: nan\n",
      "epoch: 1559, at time: 32972.44, loss: nan\n",
      "epoch: 1569, at time: 33183.80, loss: nan\n",
      "epoch: 1579, at time: 33394.69, loss: nan\n",
      "epoch: 1589, at time: 33605.86, loss: nan\n",
      "epoch: 1599, at time: 33817.00, loss: nan\n",
      "epoch: 1609, at time: 34028.02, loss: nan\n",
      "epoch: 1619, at time: 34238.78, loss: nan\n",
      "epoch: 1629, at time: 34449.95, loss: nan\n",
      "epoch: 1639, at time: 34661.09, loss: nan\n",
      "epoch: 1649, at time: 34872.31, loss: nan\n",
      "epoch: 1659, at time: 35083.26, loss: nan\n",
      "epoch: 1669, at time: 35294.45, loss: nan\n",
      "epoch: 1679, at time: 35505.79, loss: nan\n",
      "epoch: 1689, at time: 35716.77, loss: nan\n",
      "epoch: 1699, at time: 35928.01, loss: nan\n",
      "epoch: 1709, at time: 36139.34, loss: nan\n",
      "epoch: 1719, at time: 36350.39, loss: nan\n",
      "epoch: 1729, at time: 36561.82, loss: nan\n",
      "epoch: 1739, at time: 36773.05, loss: nan\n",
      "epoch: 1749, at time: 36984.23, loss: nan\n",
      "epoch: 1759, at time: 37195.32, loss: nan\n",
      "epoch: 1769, at time: 37406.45, loss: nan\n",
      "epoch: 1779, at time: 37617.88, loss: nan\n",
      "epoch: 1789, at time: 37829.17, loss: nan\n",
      "epoch: 1799, at time: 38039.96, loss: nan\n",
      "epoch: 1809, at time: 38250.92, loss: nan\n",
      "epoch: 1819, at time: 38461.84, loss: nan\n",
      "epoch: 1829, at time: 38672.91, loss: nan\n",
      "epoch: 1839, at time: 38883.92, loss: nan\n",
      "epoch: 1849, at time: 39095.30, loss: nan\n",
      "epoch: 1859, at time: 39306.42, loss: nan\n",
      "epoch: 1869, at time: 39517.37, loss: nan\n",
      "epoch: 1879, at time: 39728.45, loss: nan\n",
      "epoch: 1889, at time: 39939.52, loss: nan\n",
      "epoch: 1899, at time: 40150.66, loss: nan\n",
      "epoch: 1909, at time: 40361.39, loss: nan\n",
      "epoch: 1919, at time: 40572.24, loss: nan\n",
      "epoch: 1929, at time: 40783.72, loss: nan\n",
      "epoch: 1939, at time: 40994.85, loss: nan\n",
      "epoch: 1949, at time: 41205.94, loss: nan\n",
      "epoch: 1959, at time: 41417.18, loss: nan\n",
      "epoch: 1969, at time: 41628.22, loss: nan\n"
     ]
    },
    {
     "name": "stdout",
     "output_type": "stream",
     "text": [
      "epoch: 1979, at time: 41839.44, loss: nan\n",
      "epoch: 1989, at time: 42050.48, loss: nan\n",
      "epoch: 1999, at time: 42261.49, loss: nan\n"
     ]
    }
   ],
   "source": [
    "models = [train_model(gamma, flow, dev) for gamma, flow, dev in zip(gammas, flows, devices)]"
   ]
  },
  {
   "cell_type": "code",
   "execution_count": 14,
   "metadata": {},
   "outputs": [
    {
     "data": {
      "image/png": "[encoded data removed]",
      "text/plain": [
       "<Figure size 1152x360 with 3 Axes>"
      ]
     },
     "metadata": {
      "needs_background": "light"
     },
     "output_type": "display_data"
    }
   ],
   "source": [
    "# Plot training NLL\n",
    "fig, ax = plt.subplots(1, 3, figsize=(16, 5))\n",
    "\n",
    "for i, model in enumerate(models):\n",
    "    label = labels[i]\n",
    "    ax[0].plot(model['loss'], label=label)\n",
    "    ax[1].plot(model['logprior'], label=label)\n",
    "    ax[2].plot(model['logdet'], label=label)\n",
    "\n",
    "\n",
    "ax[0].set_title('Training Loss')\n",
    "ax[0].set_ylabel('logprior + log(Det)')\n",
    "ax[0].set_xlabel('Epoch')\n",
    "ax[0].set_ylim([-3, 0])\n",
    "ax[0].legend()\n",
    "\n",
    "ax[1].set_title('logprior')\n",
    "ax[1].set_ylabel('logprior')\n",
    "ax[1].set_xlabel('Epoch')\n",
    "ax[1].legend()\n",
    "\n",
    "ax[2].set_title('log-det')\n",
    "ax[2].set_ylabel('log(Det)')\n",
    "ax[2].set_xlabel('Epoch')\n",
    "ax[2].legend()\n",
    "\n",
    "plt.show()"
   ]
  },
  {
   "cell_type": "markdown",
   "metadata": {},
   "source": [
    "## Visualize results:"
   ]
  },
  {
   "cell_type": "code",
   "execution_count": 15,
   "metadata": {},
   "outputs": [],
   "source": [
    "x = base_distr.sample((16,))"
   ]
  },
  {
   "cell_type": "code",
   "execution_count": 16,
   "metadata": {},
   "outputs": [
    {
     "data": {
      "text/plain": [
       "torch.Size([16, 784])"
      ]
     },
     "execution_count": 16,
     "metadata": {},
     "output_type": "execute_result"
    }
   ],
   "source": [
    "x.shape"
   ]
  },
  {
   "cell_type": "code",
   "execution_count": 17,
   "metadata": {},
   "outputs": [],
   "source": [
    "z, _ = models[0]['model'](x)\n",
    "\n",
    "z = z.view(-1, 28, 28).detach().numpy()"
   ]
  },
  {
   "cell_type": "code",
   "execution_count": 18,
   "metadata": {},
   "outputs": [
    {
     "name": "stderr",
     "output_type": "stream",
     "text": [
      "C:\\Users\\sergi\\Anaconda3\\envs\\calibration\\lib\\site-packages\\matplotlib\\image.py:397: UserWarning: Warning: converting a masked element to nan.\n",
      "  dv = (np.float64(self.norm.vmax) -\n",
      "C:\\Users\\sergi\\Anaconda3\\envs\\calibration\\lib\\site-packages\\matplotlib\\image.py:398: UserWarning: Warning: converting a masked element to nan.\n",
      "  np.float64(self.norm.vmin))\n",
      "C:\\Users\\sergi\\Anaconda3\\envs\\calibration\\lib\\site-packages\\matplotlib\\image.py:405: UserWarning: Warning: converting a masked element to nan.\n",
      "  a_min = np.float64(newmin)\n",
      "C:\\Users\\sergi\\Anaconda3\\envs\\calibration\\lib\\site-packages\\matplotlib\\image.py:410: UserWarning: Warning: converting a masked element to nan.\n",
      "  a_max = np.float64(newmax)\n",
      "<string>:6: UserWarning: Warning: converting a masked element to nan.\n",
      "C:\\Users\\sergi\\Anaconda3\\envs\\calibration\\lib\\site-packages\\numpy\\ma\\core.py:711: UserWarning: Warning: converting a masked element to nan.\n",
      "  data = np.array(a, copy=False, subok=subok)\n"
     ]
    },
    {
     "data": {
      "image/png": "[encoded data removed]",
      "text/plain": [
       "<Figure size 1296x1296 with 16 Axes>"
      ]
     },
     "metadata": {
      "needs_background": "light"
     },
     "output_type": "display_data"
    }
   ],
   "source": [
    "fig, ax_arr = plt.subplots(4, 4, figsize=(18, 18))\n",
    "\n",
    "for i, ima in enumerate(z):\n",
    "    ax_arr[i%4, i//4].imshow(z[i, :])\n",
    "    \n",
    "plt.show()"
   ]
  },
  {
   "cell_type": "code",
   "execution_count": 19,
   "metadata": {},
   "outputs": [
    {
     "data": {
      "text/plain": [
       "array([[nan, nan, nan, nan, nan, nan, nan, nan, nan, nan, nan, nan, nan,\n",
       "        nan, nan, nan, nan, nan, nan, nan, nan, nan, nan, nan, nan, nan,\n",
       "        nan, nan],\n",
       "       [nan, nan, nan, nan, nan, nan, nan, nan, nan, nan, nan, nan, nan,\n",
       "        nan, nan, nan, nan, nan, nan, nan, nan, nan, nan, nan, nan, nan,\n",
       "        nan, nan],\n",
       "       [nan, nan, nan, nan, nan, nan, nan, nan, nan, nan, nan, nan, nan,\n",
       "        nan, nan, nan, nan, nan, nan, nan, nan, nan, nan, nan, nan, nan,\n",
       "        nan, nan],\n",
       "       [nan, nan, nan, nan, nan, nan, nan, nan, nan, nan, nan, nan, nan,\n",
       "        nan, nan, nan, nan, nan, nan, nan, nan, nan, nan, nan, nan, nan,\n",
       "        nan, nan],\n",
       "       [nan, nan, nan, nan, nan, nan, nan, nan, nan, nan, nan, nan, nan,\n",
       "        nan, nan, nan, nan, nan, nan, nan, nan, nan, nan, nan, nan, nan,\n",
       "        nan, nan],\n",
       "       [nan, nan, nan, nan, nan, nan, nan, nan, nan, nan, nan, nan, nan,\n",
       "        nan, nan, nan, nan, nan, nan, nan, nan, nan, nan, nan, nan, nan,\n",
       "        nan, nan],\n",
       "       [nan, nan, nan, nan, nan, nan, nan, nan, nan, nan, nan, nan, nan,\n",
       "        nan, nan, nan, nan, nan, nan, nan, nan, nan, nan, nan, nan, nan,\n",
       "        nan, nan],\n",
       "       [nan, nan, nan, nan, nan, nan, nan, nan, nan, nan, nan, nan, nan,\n",
       "        nan, nan, nan, nan, nan, nan, nan, nan, nan, nan, nan, nan, nan,\n",
       "        nan, nan],\n",
       "       [nan, nan, nan, nan, nan, nan, nan, nan, nan, nan, nan, nan, nan,\n",
       "        nan, nan, nan, nan, nan, nan, nan, nan, nan, nan, nan, nan, nan,\n",
       "        nan, nan],\n",
       "       [nan, nan, nan, nan, nan, nan, nan, nan, nan, nan, nan, nan, nan,\n",
       "        nan, nan, nan, nan, nan, nan, nan, nan, nan, nan, nan, nan, nan,\n",
       "        nan, nan],\n",
       "       [nan, nan, nan, nan, nan, nan, nan, nan, nan, nan, nan, nan, nan,\n",
       "        nan, nan, nan, nan, nan, nan, nan, nan, nan, nan, nan, nan, nan,\n",
       "        nan, nan],\n",
       "       [nan, nan, nan, nan, nan, nan, nan, nan, nan, nan, nan, nan, nan,\n",
       "        nan, nan, nan, nan, nan, nan, nan, nan, nan, nan, nan, nan, nan,\n",
       "        nan, nan],\n",
       "       [nan, nan, nan, nan, nan, nan, nan, nan, nan, nan, nan, nan, nan,\n",
       "        nan, nan, nan, nan, nan, nan, nan, nan, nan, nan, nan, nan, nan,\n",
       "        nan, nan],\n",
       "       [nan, nan, nan, nan, nan, nan, nan, nan, nan, nan, nan, nan, nan,\n",
       "        nan, nan, nan, nan, nan, nan, nan, nan, nan, nan, nan, nan, nan,\n",
       "        nan, nan],\n",
       "       [nan, nan, nan, nan, nan, nan, nan, nan, nan, nan, nan, nan, nan,\n",
       "        nan, nan, nan, nan, nan, nan, nan, nan, nan, nan, nan, nan, nan,\n",
       "        nan, nan],\n",
       "       [nan, nan, nan, nan, nan, nan, nan, nan, nan, nan, nan, nan, nan,\n",
       "        nan, nan, nan, nan, nan, nan, nan, nan, nan, nan, nan, nan, nan,\n",
       "        nan, nan],\n",
       "       [nan, nan, nan, nan, nan, nan, nan, nan, nan, nan, nan, nan, nan,\n",
       "        nan, nan, nan, nan, nan, nan, nan, nan, nan, nan, nan, nan, nan,\n",
       "        nan, nan],\n",
       "       [nan, nan, nan, nan, nan, nan, nan, nan, nan, nan, nan, nan, nan,\n",
       "        nan, nan, nan, nan, nan, nan, nan, nan, nan, nan, nan, nan, nan,\n",
       "        nan, nan],\n",
       "       [nan, nan, nan, nan, nan, nan, nan, nan, nan, nan, nan, nan, nan,\n",
       "        nan, nan, nan, nan, nan, nan, nan, nan, nan, nan, nan, nan, nan,\n",
       "        nan, nan],\n",
       "       [nan, nan, nan, nan, nan, nan, nan, nan, nan, nan, nan, nan, nan,\n",
       "        nan, nan, nan, nan, nan, nan, nan, nan, nan, nan, nan, nan, nan,\n",
       "        nan, nan],\n",
       "       [nan, nan, nan, nan, nan, nan, nan, nan, nan, nan, nan, nan, nan,\n",
       "        nan, nan, nan, nan, nan, nan, nan, nan, nan, nan, nan, nan, nan,\n",
       "        nan, nan],\n",
       "       [nan, nan, nan, nan, nan, nan, nan, nan, nan, nan, nan, nan, nan,\n",
       "        nan, nan, nan, nan, nan, nan, nan, nan, nan, nan, nan, nan, nan,\n",
       "        nan, nan],\n",
       "       [nan, nan, nan, nan, nan, nan, nan, nan, nan, nan, nan, nan, nan,\n",
       "        nan, nan, nan, nan, nan, nan, nan, nan, nan, nan, nan, nan, nan,\n",
       "        nan, nan],\n",
       "       [nan, nan, nan, nan, nan, nan, nan, nan, nan, nan, nan, nan, nan,\n",
       "        nan, nan, nan, nan, nan, nan, nan, nan, nan, nan, nan, nan, nan,\n",
       "        nan, nan],\n",
       "       [nan, nan, nan, nan, nan, nan, nan, nan, nan, nan, nan, nan, nan,\n",
       "        nan, nan, nan, nan, nan, nan, nan, nan, nan, nan, nan, nan, nan,\n",
       "        nan, nan],\n",
       "       [nan, nan, nan, nan, nan, nan, nan, nan, nan, nan, nan, nan, nan,\n",
       "        nan, nan, nan, nan, nan, nan, nan, nan, nan, nan, nan, nan, nan,\n",
       "        nan, nan],\n",
       "       [nan, nan, nan, nan, nan, nan, nan, nan, nan, nan, nan, nan, nan,\n",
       "        nan, nan, nan, nan, nan, nan, nan, nan, nan, nan, nan, nan, nan,\n",
       "        nan, nan],\n",
       "       [nan, nan, nan, nan, nan, nan, nan, nan, nan, nan, nan, nan, nan,\n",
       "        nan, nan, nan, nan, nan, nan, nan, nan, nan, nan, nan, nan, nan,\n",
       "        nan, nan]], dtype=float32)"
      ]
     },
     "execution_count": 19,
     "metadata": {},
     "output_type": "execute_result"
    }
   ],
   "source": [
    "z[0]"
   ]
  },
  {
   "cell_type": "code",
   "execution_count": null,
   "metadata": {},
   "outputs": [],
   "source": []
  }
 ],
 "metadata": {
  "kernelspec": {
   "display_name": "Python 3",
   "language": "python",
   "name": "python3"
  },
  "language_info": {
   "codemirror_mode": {
    "name": "ipython",
    "version": 3
   },
   "file_extension": ".py",
   "mimetype": "text/x-python",
   "name": "python",
   "nbconvert_exporter": "python",
   "pygments_lexer": "ipython3",
   "version": "3.6.7"
  }
 },
 "nbformat": 4,
 "nbformat_minor": 2
}
