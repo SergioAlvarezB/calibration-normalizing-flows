{
 "cells": [
  {
   "cell_type": "markdown",
   "metadata": {},
   "source": [
    "# Benchmark NICE as calibration method"
   ]
  },
  {
   "cell_type": "code",
   "execution_count": 1,
   "metadata": {},
   "outputs": [],
   "source": [
    "%load_ext autoreload"
   ]
  },
  {
   "cell_type": "code",
   "execution_count": 2,
   "metadata": {},
   "outputs": [],
   "source": [
    "%autoreload 1"
   ]
  },
  {
   "cell_type": "code",
   "execution_count": 3,
   "metadata": {},
   "outputs": [],
   "source": [
    "import os\n",
    "import sys\n",
    "import time\n",
    "import importlib\n",
    "import collections\n",
    "sys.path.append('..')\n",
    "\n",
    "import numpy as np\n",
    "import pandas as pd\n",
    "import matplotlib.pyplot as plt\n",
    "from scipy.special import softmax\n",
    "from sklearn.isotonic import IsotonicRegression\n",
    "import tensorflow as tf\n",
    "from tensorflow.keras.models import Model\n",
    "from tensorflow.keras.layers import Activation, Input\n",
    "\n",
    "pd.set_option('colheader_justify', 'center')\n",
    "\n",
    "%aimport utils\n",
    "%aimport utils.ops\n",
    "%aimport utils.metrics\n",
    "%aimport utils.visualization\n",
    "%aimport utils.data\n",
    "%aimport flows.nice\n",
    "%aimport flows.normalizing_flows\n",
    "%aimport calibrators\n",
    "from utils.ops import onehot_encode, optim_temperature, detection_log_likelihood_ratios\n",
    "from utils.metrics import neg_log_likelihood, accuracy, expected_calibration_error\n",
    "from utils.visualization import plot_pdf_simplex, plot_prob_simplex, reliability_plot, ECE_plot\n",
    "from utils.data import get_cifar10\n",
    "from flows.nice import NiceFlow\n",
    "from calibrators import PAVCalibrator, NiceCalibrator, TempScalingCalibrator, MLRCalibrator, PlanarFlowCalibrator, DummyCalibrator"
   ]
  },
  {
   "cell_type": "code",
   "execution_count": 4,
   "metadata": {},
   "outputs": [],
   "source": [
    "def highlight_max(s):\n",
    "    is_max = s == s.max()\n",
    "    return ['font-weight: bold' if v else '' for v in is_max]"
   ]
  },
  {
   "cell_type": "code",
   "execution_count": 5,
   "metadata": {},
   "outputs": [],
   "source": [
    "def highlight_min(s):\n",
    "    is_min = s == s.min()\n",
    "    return ['font-weight: bold' if v else '' for v in is_min]"
   ]
  },
  {
   "cell_type": "markdown",
   "metadata": {},
   "source": [
    "## CIFAR-100"
   ]
  },
  {
   "cell_type": "code",
   "execution_count": 6,
   "metadata": {},
   "outputs": [],
   "source": [
    "models = [\n",
    "    'wide-resnet-28x10',\n",
    "    'densenet-121',\n",
    "    'densenet-169',\n",
    "    'resnet-101',\n",
    "    'vgg-19',\n",
    "    'preactresnet-18',\n",
    "    'preactresnet-164',\n",
    "    'resnext-29_8x16',\n",
    "    'wide-resnet-40x10',\n",
    "]"
   ]
  },
  {
   "cell_type": "code",
   "execution_count": 7,
   "metadata": {},
   "outputs": [],
   "source": [
    "def score(calibrator, logits, target):\n",
    "    probs = calibrator.predict(logits)\n",
    "    nll = neg_log_likelihood(probs, target)\n",
    "    ece = expected_calibration_error(probs, target, bins=15)\n",
    "    acc = accuracy(probs, target)\n",
    "    \n",
    "    metrics = {\n",
    "        'NLL': nll,\n",
    "        'ECE': ece,\n",
    "        'Accuracy': acc,\n",
    "    }\n",
    "    \n",
    "    return metrics"
   ]
  },
  {
   "cell_type": "code",
   "execution_count": 8,
   "metadata": {},
   "outputs": [],
   "source": [
    "def train_calibrator(Calibrator, logits, target):\n",
    "    cal = Calibrator(logits, target)\n",
    "    return cal"
   ]
  },
  {
   "cell_type": "code",
   "execution_count": 9,
   "metadata": {},
   "outputs": [],
   "source": [
    "def train_and_evaluate_calibrators(logits, target, test_logits, test_target, calibrators, **kwargs):\n",
    "    ## Train NICE on test set to obtain NLLmin\n",
    "    nice_ref_cal = NiceCalibrator(test_logits, test_target, **kwargs['nice_ref_args'])\n",
    "    ref_results = score(nice_ref_cal, test_logits, test_target)\n",
    "\n",
    "    results = collections.OrderedDict()\n",
    "    for cal, Calibrator in calibrators.items():\n",
    "        t0 = time.time()\n",
    "        model = train_calibrator(Calibrator, logits, target)\n",
    "        t1 = time.time() - t0\n",
    "        results[cal] = {'Training time': t1,\n",
    "                        'Validation': score(model, logits, target),\n",
    "                        'Test': score(model, test_logits, test_target)}\n",
    "    \n",
    "    return results, ref_results"
   ]
  },
  {
   "cell_type": "code",
   "execution_count": 10,
   "metadata": {},
   "outputs": [
    {
     "name": "stdout",
     "output_type": "stream",
     "text": [
      "WARNING:tensorflow:From C:\\Users\\sergi\\Anaconda3\\envs\\famarch\\lib\\site-packages\\tensorflow\\python\\ops\\resource_variable_ops.py:435: colocate_with (from tensorflow.python.framework.ops) is deprecated and will be removed in a future version.\n",
      "Instructions for updating:\n",
      "Colocations handled automatically by placer.\n",
      "WARNING:tensorflow:From C:\\Users\\sergi\\Anaconda3\\envs\\famarch\\lib\\site-packages\\tensorflow\\python\\ops\\math_ops.py:3066: to_int32 (from tensorflow.python.ops.math_ops) is deprecated and will be removed in a future version.\n",
      "Instructions for updating:\n",
      "Use tf.cast instead.\n"
     ]
    },
    {
     "ename": "KeyboardInterrupt",
     "evalue": "",
     "output_type": "error",
     "traceback": [
      "\u001b[1;31m---------------------------------------------------------------------------\u001b[0m",
      "\u001b[1;31mKeyboardInterrupt\u001b[0m                         Traceback (most recent call last)",
      "\u001b[1;32m<ipython-input-10-44e1ece95231>\u001b[0m in \u001b[0;36m<module>\u001b[1;34m\u001b[0m\n\u001b[0;32m     74\u001b[0m                                                                         \u001b[0mtest_target\u001b[0m\u001b[1;33m,\u001b[0m\u001b[1;33m\u001b[0m\u001b[1;33m\u001b[0m\u001b[0m\n\u001b[0;32m     75\u001b[0m                                                                         \u001b[0mcalibrators\u001b[0m\u001b[1;33m,\u001b[0m\u001b[1;33m\u001b[0m\u001b[1;33m\u001b[0m\u001b[0m\n\u001b[1;32m---> 76\u001b[1;33m                                                                         **kwargs)\n\u001b[0m\u001b[0;32m     77\u001b[0m \u001b[1;33m\u001b[0m\u001b[0m\n",
      "\u001b[1;32m<ipython-input-9-d1b70180d2b5>\u001b[0m in \u001b[0;36mtrain_and_evaluate_calibrators\u001b[1;34m(logits, target, test_logits, test_target, calibrators, **kwargs)\u001b[0m\n\u001b[0;32m      9\u001b[0m     \u001b[1;32mfor\u001b[0m \u001b[0mcal\u001b[0m\u001b[1;33m,\u001b[0m \u001b[0mCalibrator\u001b[0m \u001b[1;32min\u001b[0m \u001b[0mcalibrators\u001b[0m\u001b[1;33m.\u001b[0m\u001b[0mitems\u001b[0m\u001b[1;33m(\u001b[0m\u001b[1;33m)\u001b[0m\u001b[1;33m:\u001b[0m\u001b[1;33m\u001b[0m\u001b[1;33m\u001b[0m\u001b[0m\n\u001b[0;32m     10\u001b[0m         \u001b[0mt0\u001b[0m \u001b[1;33m=\u001b[0m \u001b[0mtime\u001b[0m\u001b[1;33m.\u001b[0m\u001b[0mtime\u001b[0m\u001b[1;33m(\u001b[0m\u001b[1;33m)\u001b[0m\u001b[1;33m\u001b[0m\u001b[1;33m\u001b[0m\u001b[0m\n\u001b[1;32m---> 11\u001b[1;33m         \u001b[0mmodel\u001b[0m \u001b[1;33m=\u001b[0m \u001b[0mtrain_calibrator\u001b[0m\u001b[1;33m(\u001b[0m\u001b[0mCalibrator\u001b[0m\u001b[1;33m,\u001b[0m \u001b[0mlogits\u001b[0m\u001b[1;33m,\u001b[0m \u001b[0mtarget\u001b[0m\u001b[1;33m)\u001b[0m\u001b[1;33m\u001b[0m\u001b[1;33m\u001b[0m\u001b[0m\n\u001b[0m\u001b[0;32m     12\u001b[0m         \u001b[0mt1\u001b[0m \u001b[1;33m=\u001b[0m \u001b[0mtime\u001b[0m\u001b[1;33m.\u001b[0m\u001b[0mtime\u001b[0m\u001b[1;33m(\u001b[0m\u001b[1;33m)\u001b[0m \u001b[1;33m-\u001b[0m \u001b[0mt0\u001b[0m\u001b[1;33m\u001b[0m\u001b[1;33m\u001b[0m\u001b[0m\n\u001b[0;32m     13\u001b[0m         results[cal] = {'Training time': t1,\n",
      "\u001b[1;32m<ipython-input-8-370d0a6c44ea>\u001b[0m in \u001b[0;36mtrain_calibrator\u001b[1;34m(Calibrator, logits, target)\u001b[0m\n\u001b[0;32m      1\u001b[0m \u001b[1;32mdef\u001b[0m \u001b[0mtrain_calibrator\u001b[0m\u001b[1;33m(\u001b[0m\u001b[0mCalibrator\u001b[0m\u001b[1;33m,\u001b[0m \u001b[0mlogits\u001b[0m\u001b[1;33m,\u001b[0m \u001b[0mtarget\u001b[0m\u001b[1;33m)\u001b[0m\u001b[1;33m:\u001b[0m\u001b[1;33m\u001b[0m\u001b[1;33m\u001b[0m\u001b[0m\n\u001b[1;32m----> 2\u001b[1;33m     \u001b[0mcal\u001b[0m \u001b[1;33m=\u001b[0m \u001b[0mCalibrator\u001b[0m\u001b[1;33m(\u001b[0m\u001b[0mlogits\u001b[0m\u001b[1;33m,\u001b[0m \u001b[0mtarget\u001b[0m\u001b[1;33m)\u001b[0m\u001b[1;33m\u001b[0m\u001b[1;33m\u001b[0m\u001b[0m\n\u001b[0m\u001b[0;32m      3\u001b[0m     \u001b[1;32mreturn\u001b[0m \u001b[0mcal\u001b[0m\u001b[1;33m\u001b[0m\u001b[1;33m\u001b[0m\u001b[0m\n",
      "\u001b[1;32m<ipython-input-10-44e1ece95231>\u001b[0m in \u001b[0;36m<lambda>\u001b[1;34m(logits, target)\u001b[0m\n\u001b[0;32m     41\u001b[0m \u001b[1;32mfor\u001b[0m \u001b[0mplanar\u001b[0m \u001b[1;32min\u001b[0m \u001b[0mplanar_args\u001b[0m\u001b[1;33m:\u001b[0m\u001b[1;33m\u001b[0m\u001b[1;33m\u001b[0m\u001b[0m\n\u001b[0;32m     42\u001b[0m     \u001b[0mname\u001b[0m \u001b[1;33m=\u001b[0m \u001b[1;34m'Planar_l{}'\u001b[0m\u001b[1;33m.\u001b[0m\u001b[0mformat\u001b[0m\u001b[1;33m(\u001b[0m\u001b[0mplanar\u001b[0m\u001b[1;33m[\u001b[0m\u001b[1;34m'layers'\u001b[0m\u001b[1;33m]\u001b[0m\u001b[1;33m)\u001b[0m\u001b[1;33m\u001b[0m\u001b[1;33m\u001b[0m\u001b[0m\n\u001b[1;32m---> 43\u001b[1;33m     \u001b[0mcalibrators\u001b[0m\u001b[1;33m[\u001b[0m\u001b[0mname\u001b[0m\u001b[1;33m]\u001b[0m \u001b[1;33m=\u001b[0m \u001b[1;32mlambda\u001b[0m \u001b[0mlogits\u001b[0m\u001b[1;33m,\u001b[0m \u001b[0mtarget\u001b[0m\u001b[1;33m:\u001b[0m \u001b[0mPlanarFlowCalibrator\u001b[0m\u001b[1;33m(\u001b[0m\u001b[0mlogits\u001b[0m\u001b[1;33m,\u001b[0m \u001b[0mtarget\u001b[0m\u001b[1;33m,\u001b[0m \u001b[1;33m**\u001b[0m\u001b[0mplanar\u001b[0m\u001b[1;33m)\u001b[0m\u001b[1;33m\u001b[0m\u001b[1;33m\u001b[0m\u001b[0m\n\u001b[0m\u001b[0;32m     44\u001b[0m \u001b[1;33m\u001b[0m\u001b[0m\n\u001b[0;32m     45\u001b[0m \u001b[1;33m\u001b[0m\u001b[0m\n",
      "\u001b[1;32m~\\OneDrive\\Escritorio\\projects\\normalizing-flows\\calibrators.py\u001b[0m in \u001b[0;36m__init__\u001b[1;34m(self, logits, target, **kwargs)\u001b[0m\n\u001b[0;32m    315\u001b[0m                                 \u001b[0mself\u001b[0m\u001b[1;33m.\u001b[0m\u001b[0mtarget\u001b[0m\u001b[1;33m,\u001b[0m\u001b[1;33m\u001b[0m\u001b[1;33m\u001b[0m\u001b[0m\n\u001b[0;32m    316\u001b[0m                                 \u001b[0mepochs\u001b[0m\u001b[1;33m=\u001b[0m\u001b[0mkwargs\u001b[0m\u001b[1;33m.\u001b[0m\u001b[0mget\u001b[0m\u001b[1;33m(\u001b[0m\u001b[1;34m'epochs'\u001b[0m\u001b[1;33m,\u001b[0m \u001b[1;36m1000\u001b[0m\u001b[1;33m)\u001b[0m\u001b[1;33m,\u001b[0m\u001b[1;33m\u001b[0m\u001b[1;33m\u001b[0m\u001b[0m\n\u001b[1;32m--> 317\u001b[1;33m                                 batch_size=kwargs.get('batch_size', 128))\n\u001b[0m\u001b[0;32m    318\u001b[0m \u001b[1;33m\u001b[0m\u001b[0m\n\u001b[0;32m    319\u001b[0m     \u001b[1;32mdef\u001b[0m \u001b[0mfit\u001b[0m\u001b[1;33m(\u001b[0m\u001b[0mself\u001b[0m\u001b[1;33m,\u001b[0m \u001b[0mlogits\u001b[0m\u001b[1;33m,\u001b[0m \u001b[0mtarget\u001b[0m\u001b[1;33m,\u001b[0m \u001b[0mepochs\u001b[0m\u001b[1;33m,\u001b[0m \u001b[0mbatch_size\u001b[0m\u001b[1;33m)\u001b[0m\u001b[1;33m:\u001b[0m\u001b[1;33m\u001b[0m\u001b[1;33m\u001b[0m\u001b[0m\n",
      "\u001b[1;32m~\\OneDrive\\Escritorio\\projects\\normalizing-flows\\calibrators.py\u001b[0m in \u001b[0;36mfit\u001b[1;34m(self, logits, target, epochs, batch_size)\u001b[0m\n\u001b[0;32m    327\u001b[0m                 \u001b[0mepochs\u001b[0m\u001b[1;33m=\u001b[0m\u001b[0mepochs\u001b[0m\u001b[1;33m,\u001b[0m\u001b[1;33m\u001b[0m\u001b[1;33m\u001b[0m\u001b[0m\n\u001b[0;32m    328\u001b[0m                 \u001b[0mbatch_size\u001b[0m\u001b[1;33m=\u001b[0m\u001b[0mbatch_size\u001b[0m\u001b[1;33m,\u001b[0m\u001b[1;33m\u001b[0m\u001b[1;33m\u001b[0m\u001b[0m\n\u001b[1;32m--> 329\u001b[1;33m                 verbose=0)\n\u001b[0m\u001b[0;32m    330\u001b[0m         \u001b[1;32mreturn\u001b[0m \u001b[0mh\u001b[0m\u001b[1;33m\u001b[0m\u001b[1;33m\u001b[0m\u001b[0m\n\u001b[0;32m    331\u001b[0m \u001b[1;33m\u001b[0m\u001b[0m\n",
      "\u001b[1;32m~\\Anaconda3\\envs\\famarch\\lib\\site-packages\\tensorflow\\python\\keras\\engine\\training.py\u001b[0m in \u001b[0;36mfit\u001b[1;34m(self, x, y, batch_size, epochs, verbose, callbacks, validation_split, validation_data, shuffle, class_weight, sample_weight, initial_epoch, steps_per_epoch, validation_steps, max_queue_size, workers, use_multiprocessing, **kwargs)\u001b[0m\n\u001b[0;32m    878\u001b[0m           \u001b[0minitial_epoch\u001b[0m\u001b[1;33m=\u001b[0m\u001b[0minitial_epoch\u001b[0m\u001b[1;33m,\u001b[0m\u001b[1;33m\u001b[0m\u001b[1;33m\u001b[0m\u001b[0m\n\u001b[0;32m    879\u001b[0m           \u001b[0msteps_per_epoch\u001b[0m\u001b[1;33m=\u001b[0m\u001b[0msteps_per_epoch\u001b[0m\u001b[1;33m,\u001b[0m\u001b[1;33m\u001b[0m\u001b[1;33m\u001b[0m\u001b[0m\n\u001b[1;32m--> 880\u001b[1;33m           validation_steps=validation_steps)\n\u001b[0m\u001b[0;32m    881\u001b[0m \u001b[1;33m\u001b[0m\u001b[0m\n\u001b[0;32m    882\u001b[0m   def evaluate(self,\n",
      "\u001b[1;32m~\\Anaconda3\\envs\\famarch\\lib\\site-packages\\tensorflow\\python\\keras\\engine\\training_arrays.py\u001b[0m in \u001b[0;36mmodel_iteration\u001b[1;34m(model, inputs, targets, sample_weights, batch_size, epochs, verbose, callbacks, val_inputs, val_targets, val_sample_weights, shuffle, initial_epoch, steps_per_epoch, validation_steps, mode, validation_in_fit, **kwargs)\u001b[0m\n\u001b[0;32m    327\u001b[0m \u001b[1;33m\u001b[0m\u001b[0m\n\u001b[0;32m    328\u001b[0m         \u001b[1;31m# Get outputs.\u001b[0m\u001b[1;33m\u001b[0m\u001b[1;33m\u001b[0m\u001b[1;33m\u001b[0m\u001b[0m\n\u001b[1;32m--> 329\u001b[1;33m         \u001b[0mbatch_outs\u001b[0m \u001b[1;33m=\u001b[0m \u001b[0mf\u001b[0m\u001b[1;33m(\u001b[0m\u001b[0mins_batch\u001b[0m\u001b[1;33m)\u001b[0m\u001b[1;33m\u001b[0m\u001b[1;33m\u001b[0m\u001b[0m\n\u001b[0m\u001b[0;32m    330\u001b[0m         \u001b[1;32mif\u001b[0m \u001b[1;32mnot\u001b[0m \u001b[0misinstance\u001b[0m\u001b[1;33m(\u001b[0m\u001b[0mbatch_outs\u001b[0m\u001b[1;33m,\u001b[0m \u001b[0mlist\u001b[0m\u001b[1;33m)\u001b[0m\u001b[1;33m:\u001b[0m\u001b[1;33m\u001b[0m\u001b[1;33m\u001b[0m\u001b[0m\n\u001b[0;32m    331\u001b[0m           \u001b[0mbatch_outs\u001b[0m \u001b[1;33m=\u001b[0m \u001b[1;33m[\u001b[0m\u001b[0mbatch_outs\u001b[0m\u001b[1;33m]\u001b[0m\u001b[1;33m\u001b[0m\u001b[1;33m\u001b[0m\u001b[0m\n",
      "\u001b[1;32m~\\Anaconda3\\envs\\famarch\\lib\\site-packages\\tensorflow\\python\\keras\\backend.py\u001b[0m in \u001b[0;36m__call__\u001b[1;34m(self, inputs)\u001b[0m\n\u001b[0;32m   3074\u001b[0m \u001b[1;33m\u001b[0m\u001b[0m\n\u001b[0;32m   3075\u001b[0m     fetched = self._callable_fn(*array_vals,\n\u001b[1;32m-> 3076\u001b[1;33m                                 run_metadata=self.run_metadata)\n\u001b[0m\u001b[0;32m   3077\u001b[0m     \u001b[0mself\u001b[0m\u001b[1;33m.\u001b[0m\u001b[0m_call_fetch_callbacks\u001b[0m\u001b[1;33m(\u001b[0m\u001b[0mfetched\u001b[0m\u001b[1;33m[\u001b[0m\u001b[1;33m-\u001b[0m\u001b[0mlen\u001b[0m\u001b[1;33m(\u001b[0m\u001b[0mself\u001b[0m\u001b[1;33m.\u001b[0m\u001b[0m_fetches\u001b[0m\u001b[1;33m)\u001b[0m\u001b[1;33m:\u001b[0m\u001b[1;33m]\u001b[0m\u001b[1;33m)\u001b[0m\u001b[1;33m\u001b[0m\u001b[1;33m\u001b[0m\u001b[0m\n\u001b[0;32m   3078\u001b[0m     return nest.pack_sequence_as(self._outputs_structure,\n",
      "\u001b[1;32m~\\Anaconda3\\envs\\famarch\\lib\\site-packages\\tensorflow\\python\\client\\session.py\u001b[0m in \u001b[0;36m__call__\u001b[1;34m(self, *args, **kwargs)\u001b[0m\n\u001b[0;32m   1437\u001b[0m           ret = tf_session.TF_SessionRunCallable(\n\u001b[0;32m   1438\u001b[0m               \u001b[0mself\u001b[0m\u001b[1;33m.\u001b[0m\u001b[0m_session\u001b[0m\u001b[1;33m.\u001b[0m\u001b[0m_session\u001b[0m\u001b[1;33m,\u001b[0m \u001b[0mself\u001b[0m\u001b[1;33m.\u001b[0m\u001b[0m_handle\u001b[0m\u001b[1;33m,\u001b[0m \u001b[0margs\u001b[0m\u001b[1;33m,\u001b[0m \u001b[0mstatus\u001b[0m\u001b[1;33m,\u001b[0m\u001b[1;33m\u001b[0m\u001b[1;33m\u001b[0m\u001b[0m\n\u001b[1;32m-> 1439\u001b[1;33m               run_metadata_ptr)\n\u001b[0m\u001b[0;32m   1440\u001b[0m         \u001b[1;32mif\u001b[0m \u001b[0mrun_metadata\u001b[0m\u001b[1;33m:\u001b[0m\u001b[1;33m\u001b[0m\u001b[1;33m\u001b[0m\u001b[0m\n\u001b[0;32m   1441\u001b[0m           \u001b[0mproto_data\u001b[0m \u001b[1;33m=\u001b[0m \u001b[0mtf_session\u001b[0m\u001b[1;33m.\u001b[0m\u001b[0mTF_GetBuffer\u001b[0m\u001b[1;33m(\u001b[0m\u001b[0mrun_metadata_ptr\u001b[0m\u001b[1;33m)\u001b[0m\u001b[1;33m\u001b[0m\u001b[1;33m\u001b[0m\u001b[0m\n",
      "\u001b[1;31mKeyboardInterrupt\u001b[0m: "
     ]
    }
   ],
   "source": [
    "results = collections.OrderedDict()\n",
    "ref_results = collections.OrderedDict()\n",
    "\n",
    "calibrators = {\n",
    "    'Uncalibrated': DummyCalibrator,\n",
    "    'Temp-Scaling': TempScalingCalibrator,\n",
    "    'MLR': MLRCalibrator,\n",
    "}\n",
    "\n",
    "nice_args = [\n",
    "    {\n",
    "        'layers': 2,\n",
    "        'hidden_size': [2],\n",
    "        'epochs': 500,\n",
    "    }, {\n",
    "        'layers': 2,\n",
    "        'hidden_size': [5],\n",
    "        'epochs': 500,\n",
    "    }, {\n",
    "        'layers': 3,\n",
    "        'hidden_size': [5],\n",
    "        'epochs': 500,\n",
    "    },\n",
    "]\n",
    "\n",
    "planar_args = [\n",
    "    {\n",
    "        'layers': 5,\n",
    "        'epochs': 1000,\n",
    "    },{\n",
    "        'layers': 10,\n",
    "        'epochs': 1000,\n",
    "    },{\n",
    "        'layers': 20,\n",
    "        'epochs': 1000,\n",
    "    }\n",
    "    \n",
    "]\n",
    "    \n",
    "\n",
    "for nice in nice_args:\n",
    "    name = 'NICE_l{}_hs{}'.format(nice['layers'], nice['hidden_size'])\n",
    "    calibrators[name] = lambda logits, target: NiceCalibrator(logits, target, **nice)\n",
    "\n",
    "for planar in planar_args:\n",
    "    name = 'Planar_l{}'.format(planar['layers'])\n",
    "    calibrators[name] = lambda logits, target: PlanarFlowCalibrator(logits, target, **planar)\n",
    "    \n",
    "\n",
    "nice_ref_args = {\n",
    "    'layers': 4,\n",
    "    'hidden_size': [100, 100],\n",
    "    'epochs': 1000,\n",
    "}\n",
    "\n",
    "kwargs = {\n",
    "    'nice_ref_args': nice_ref_args,\n",
    "}\n",
    "\n",
    "for model in models:\n",
    "    data_path = os.path.join('../data', model+'_cifar100')\n",
    "    prefix = os.path.join(data_path, 'cifar100_'+model)\n",
    "    \n",
    "    logits = np.load(prefix + '_logit_prediction_valid.npy')\n",
    "    test_logits = np.load(prefix + '_logit_prediction_test.npy')\n",
    "    \n",
    "    target = np.load(prefix + '_true_valid.npy')\n",
    "    test_target = np.load(prefix + '_true_test.npy')\n",
    "\n",
    "    results[model], ref_results[model] = train_and_evaluate_calibrators(logits, \n",
    "                                                                        target, \n",
    "                                                                        test_logits, \n",
    "                                                                        test_target, \n",
    "                                                                        calibrators,\n",
    "                                                                        **kwargs)\n",
    "    "
   ]
  },
  {
   "cell_type": "code",
   "execution_count": null,
   "metadata": {},
   "outputs": [],
   "source": [
    "ece_val_results = {}\n",
    "ece_test_results = {}\n",
    "\n",
    "acc_val_results = {}\n",
    "acc_test_results = {}\n",
    "\n",
    "nll_val_results = {}\n",
    "nll_test_results = {}\n",
    "\n",
    "for model, model_results in results.items():\n",
    "    ece_val_results[model] = {}\n",
    "    ece_test_results[model] = {}\n",
    "    acc_val_results[model] = {}\n",
    "    acc_test_results[model] = {}\n",
    "    nll_val_results[model] = {}\n",
    "    nll_test_results[model] = {}\n",
    "    for cal, cal_results in model_results.items():\n",
    "        ece_test_results[model][cal] = cal_results['Test']['ECE']\n",
    "        ece_val_results[model][cal] = cal_results['Validation']['ECE']\n",
    "        \n",
    "        acc_test_results[model][cal] = cal_results['Test']['Accuracy']\n",
    "        acc_val_results[model][cal] = cal_results['Validation']['Accuracy']\n",
    "        \n",
    "        nll_test_results[model][cal] = cal_results['Test']['NLL']\n",
    "        nll_val_results[model][cal] = cal_results['Validation']['NLL']"
   ]
  },
  {
   "cell_type": "markdown",
   "metadata": {},
   "source": [
    "**Results on the test set:**"
   ]
  },
  {
   "cell_type": "code",
   "execution_count": null,
   "metadata": {},
   "outputs": [],
   "source": [
    "df = pd.concat([pd.DataFrame.from_dict(acc_test_results, orient='columns'),\n",
    "                pd.DataFrame.from_dict(ece_test_results, orient='columns')],\n",
    "               axis=1,keys=['ACC','ECE']).swaplevel(0,1,axis=1).sort_index(axis=1)\n",
    "\n",
    "df = df[models].loc[list(calibrators.keys())]\n",
    "df.style.set_properties(**{'text-align': 'center'})\\\n",
    "    .format(\"{:.2%}\")\\\n",
    "    .set_caption('CIFAR100 Test set')\\\n",
    "    .apply(highlight_max, subset=[(model, 'ACC') for model in df.columns.levels[0]])\\\n",
    "    .apply(highlight_min, subset=[(model, 'ECE') for model in df.columns.levels[0]])\\\n",
    "    .set_table_styles([dict(selector=\"th\", props=[(\"text-align\", \"center\")]),\n",
    "                       dict(selector=\"caption\", props=[(\"text-align\", \"center\"),\n",
    "                                                      (\"font-size\", \"200%\"),\n",
    "                                                      (\"color\", \"black\")])])"
   ]
  },
  {
   "cell_type": "code",
   "execution_count": null,
   "metadata": {},
   "outputs": [],
   "source": [
    "nll_df = pd.DataFrame.from_dict(nll_test_results, orient='columns')\n",
    "min_nll_df = pd.DataFrame.from_dict(ref_results, orient='columns').loc['NLL']\n",
    "nll_cal_df = nll_df.subtract(min_nll_df, axis='columns')\n",
    "\n",
    "df = pd.concat([nll_df, nll_cal_df], axis=1,keys=['NLL','NLL_cal']).swaplevel(0,1,axis=1).sort_index(axis=1)\n",
    "df = df[models].loc[list(calibrators.keys())]\n",
    "\n",
    "df.rename(columns={model: model + ' NLL_min={:.4f}'.format(min_nll_df[model]) \n",
    "                   for model in df.columns.levels[0]}, level=0, inplace=True)\n",
    "\n",
    "df.style.set_properties(**{'text-align': 'center'})\\\n",
    "    .format(\"{:.4f}\")\\\n",
    "    .set_caption('CIFAR100 NLL decomposition')\\\n",
    "    .apply(highlight_min)\\\n",
    "    .set_table_styles([dict(selector=\"th\", props=[(\"text-align\", \"center\")]),\n",
    "                       dict(selector=\"caption\", props=[(\"text-align\", \"center\"),\n",
    "                                                      (\"font-size\", \"200%\"),\n",
    "                                                      (\"color\", \"black\")])])"
   ]
  },
  {
   "cell_type": "markdown",
   "metadata": {},
   "source": [
    "**Results on the validation set:**"
   ]
  },
  {
   "cell_type": "code",
   "execution_count": null,
   "metadata": {},
   "outputs": [],
   "source": [
    "df = pd.concat([pd.DataFrame.from_dict(acc_val_results, orient='columns'),\n",
    "                pd.DataFrame.from_dict(ece_val_results, orient='columns')],\n",
    "               axis=1,keys=['ACC','ECE']).swaplevel(0,1,axis=1).sort_index(axis=1)\n",
    "\n",
    "df = df[models].loc[list(calibrators.keys())]\n",
    "df.style.set_properties(**{'text-align': 'center'})\\\n",
    "    .format(\"{:.2%}\")\\\n",
    "    .set_caption('CIFAR100 Validation set')\\\n",
    "    .apply(highlight_max, subset=[(model, 'ACC') for model in df.columns.levels[0]])\\\n",
    "    .apply(highlight_min, subset=[(model, 'ECE') for model in df.columns.levels[0]])\\\n",
    "    .set_table_styles([dict(selector=\"th\", props=[(\"text-align\", \"center\")]),\n",
    "                       dict(selector=\"caption\", props=[(\"text-align\", \"center\"),\n",
    "                                                      (\"font-size\", \"200%\"),\n",
    "                                                      (\"color\", \"black\")])])"
   ]
  },
  {
   "cell_type": "code",
   "execution_count": null,
   "metadata": {},
   "outputs": [],
   "source": []
  }
 ],
 "metadata": {
  "kernelspec": {
   "display_name": "Python 3",
   "language": "python",
   "name": "python3"
  },
  "language_info": {
   "codemirror_mode": {
    "name": "ipython",
    "version": 3
   },
   "file_extension": ".py",
   "mimetype": "text/x-python",
   "name": "python",
   "nbconvert_exporter": "python",
   "pygments_lexer": "ipython3",
   "version": "3.6.8"
  }
 },
 "nbformat": 4,
 "nbformat_minor": 2
}
