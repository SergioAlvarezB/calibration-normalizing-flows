{
 "cells": [
  {
   "cell_type": "markdown",
   "metadata": {},
   "source": [
    "# Benchmark NICE as calibration method"
   ]
  },
  {
   "cell_type": "code",
   "execution_count": 1,
   "metadata": {},
   "outputs": [],
   "source": [
    "%load_ext autoreload"
   ]
  },
  {
   "cell_type": "code",
   "execution_count": 2,
   "metadata": {},
   "outputs": [],
   "source": [
    "%autoreload 1"
   ]
  },
  {
   "cell_type": "code",
   "execution_count": 7,
   "metadata": {},
   "outputs": [],
   "source": [
    "import os\n",
    "import sys\n",
    "import time\n",
    "import importlib\n",
    "import collections\n",
    "sys.path.append('..')\n",
    "\n",
    "import numpy as np\n",
    "import matplotlib.pyplot as plt\n",
    "from scipy.special import softmax\n",
    "from sklearn.isotonic import IsotonicRegression\n",
    "import tensorflow as tf\n",
    "from tensorflow.keras.models import Model\n",
    "from tensorflow.keras.layers import Activation, Input\n",
    "\n",
    "%aimport utils\n",
    "%aimport utils.ops\n",
    "%aimport utils.metrics\n",
    "%aimport utils.visualization\n",
    "%aimport utils.data\n",
    "%aimport flows.nice\n",
    "%aimport calibrators\n",
    "from utils.ops import onehot_encode, optim_temperature, detection_log_likelihood_ratios\n",
    "from utils.metrics import neg_log_likelihood, accuracy, expected_calibration_error\n",
    "from utils.visualization import plot_pdf_simplex, plot_prob_simplex, reliability_plot, ECE_plot\n",
    "from utils.data import get_cifar10\n",
    "from flows.nice import NiceFlow\n",
    "from calibrators import PAVCalibrator, NiceCalibrator, TempScalingCalibrator, MLRCalibrator, MatrixScalingCalibrator"
   ]
  },
  {
   "cell_type": "markdown",
   "metadata": {},
   "source": [
    "## CIFAR-100"
   ]
  },
  {
   "cell_type": "code",
   "execution_count": 8,
   "metadata": {},
   "outputs": [],
   "source": [
    "densenet_121_logits_val = np.load('../data/densenet-121_cifar100/cifar100_densenet-121_logit_prediction_valid.npy')\n",
    "densenet_121_logits_test = np.load('../data/densenet-121_cifar100/cifar100_densenet-121_logit_prediction_test.npy')\n",
    "\n",
    "densenet_121_target_val = np.load('../data/densenet-121_cifar100/cifar100_densenet-121_true_valid.npy')\n",
    "densenet_121_target_test = np.load('../data/densenet-121_cifar100/cifar100_densenet-121_true_test.npy')"
   ]
  },
  {
   "cell_type": "code",
   "execution_count": 18,
   "metadata": {},
   "outputs": [
    {
     "name": "stdout",
     "output_type": "stream",
     "text": [
      "Calibrated using temperature T=1.325\n",
      "\n",
      "\n",
      "WARNING:tensorflow:From C:\\Users\\sergi\\Anaconda3\\envs\\famarch\\lib\\site-packages\\tensorflow\\python\\ops\\resource_variable_ops.py:435: colocate_with (from tensorflow.python.framework.ops) is deprecated and will be removed in a future version.\n",
      "Instructions for updating:\n",
      "Colocations handled automatically by placer.\n",
      "WARNING:tensorflow:From C:\\Users\\sergi\\Anaconda3\\envs\\famarch\\lib\\site-packages\\tensorflow\\python\\ops\\math_ops.py:3066: to_int32 (from tensorflow.python.ops.math_ops) is deprecated and will be removed in a future version.\n",
      "Instructions for updating:\n",
      "Use tf.cast instead.\n"
     ]
    },
    {
     "name": "stderr",
     "output_type": "stream",
     "text": [
      "C:\\Users\\sergi\\Anaconda3\\envs\\famarch\\lib\\site-packages\\tensorflow\\python\\ops\\gradients_impl.py:110: UserWarning: Converting sparse IndexedSlices to a dense Tensor of unknown shape. This may consume a large amount of memory.\n",
      "  \"Converting sparse IndexedSlices to a dense Tensor of unknown shape. \"\n"
     ]
    },
    {
     "ename": "KeyboardInterrupt",
     "evalue": "",
     "output_type": "error",
     "traceback": [
      "\u001b[1;31m---------------------------------------------------------------------------\u001b[0m",
      "\u001b[1;31mKeyboardInterrupt\u001b[0m                         Traceback (most recent call last)",
      "\u001b[1;32m<ipython-input-18-dfe5d02a9bb4>\u001b[0m in \u001b[0;36m<module>\u001b[1;34m\u001b[0m\n\u001b[0;32m     21\u001b[0m \u001b[0mt0\u001b[0m \u001b[1;33m=\u001b[0m \u001b[0mtime\u001b[0m\u001b[1;33m.\u001b[0m\u001b[0mtime\u001b[0m\u001b[1;33m(\u001b[0m\u001b[1;33m)\u001b[0m\u001b[1;33m\u001b[0m\u001b[1;33m\u001b[0m\u001b[0m\n\u001b[0;32m     22\u001b[0m nice_cal = NiceCalibrator(densenet_121_logits_val, densenet_121_target_val, \n\u001b[1;32m---> 23\u001b[1;33m                           layers=4, hidden_size=[100, 100], epochs=5000)\n\u001b[0m\u001b[0;32m     24\u001b[0m \u001b[0mprint\u001b[0m\u001b[1;33m(\u001b[0m\u001b[1;34m'NICE flow fitted in {:.3f}s'\u001b[0m\u001b[1;33m.\u001b[0m\u001b[0mformat\u001b[0m\u001b[1;33m(\u001b[0m\u001b[0mtime\u001b[0m\u001b[1;33m.\u001b[0m\u001b[0mtime\u001b[0m\u001b[1;33m(\u001b[0m\u001b[1;33m)\u001b[0m\u001b[1;33m-\u001b[0m\u001b[0mt0\u001b[0m\u001b[1;33m)\u001b[0m\u001b[1;33m)\u001b[0m\u001b[1;33m\u001b[0m\u001b[1;33m\u001b[0m\u001b[0m\n\u001b[0;32m     25\u001b[0m \u001b[1;33m\u001b[0m\u001b[0m\n",
      "\u001b[1;32m~\\OneDrive\\Escritorio\\projects\\normalizing-flows\\calibrators.py\u001b[0m in \u001b[0;36m__init__\u001b[1;34m(self, logits, target, **kwargs)\u001b[0m\n\u001b[0;32m    243\u001b[0m                 \u001b[0mself\u001b[0m\u001b[1;33m.\u001b[0m\u001b[0mtarget\u001b[0m\u001b[1;33m,\u001b[0m\u001b[1;33m\u001b[0m\u001b[1;33m\u001b[0m\u001b[0m\n\u001b[0;32m    244\u001b[0m                 \u001b[0mepochs\u001b[0m\u001b[1;33m=\u001b[0m\u001b[0mkwargs\u001b[0m\u001b[1;33m.\u001b[0m\u001b[0mget\u001b[0m\u001b[1;33m(\u001b[0m\u001b[1;34m'epochs'\u001b[0m\u001b[1;33m,\u001b[0m \u001b[1;36m1000\u001b[0m\u001b[1;33m)\u001b[0m\u001b[1;33m,\u001b[0m\u001b[1;33m\u001b[0m\u001b[1;33m\u001b[0m\u001b[0m\n\u001b[1;32m--> 245\u001b[1;33m                 batch_size=kwargs.get('batch_size', 100))\n\u001b[0m\u001b[0;32m    246\u001b[0m \u001b[1;33m\u001b[0m\u001b[0m\n\u001b[0;32m    247\u001b[0m     \u001b[1;32mdef\u001b[0m \u001b[0m_build_flow\u001b[0m\u001b[1;33m(\u001b[0m\u001b[0mself\u001b[0m\u001b[1;33m,\u001b[0m \u001b[0mkwargs\u001b[0m\u001b[1;33m)\u001b[0m\u001b[1;33m:\u001b[0m\u001b[1;33m\u001b[0m\u001b[1;33m\u001b[0m\u001b[0m\n",
      "\u001b[1;32m~\\OneDrive\\Escritorio\\projects\\normalizing-flows\\calibrators.py\u001b[0m in \u001b[0;36mfit\u001b[1;34m(self, logits, target, epochs, batch_size)\u001b[0m\n\u001b[0;32m    272\u001b[0m                 \u001b[0mepochs\u001b[0m\u001b[1;33m=\u001b[0m\u001b[0mepochs\u001b[0m\u001b[1;33m,\u001b[0m\u001b[1;33m\u001b[0m\u001b[1;33m\u001b[0m\u001b[0m\n\u001b[0;32m    273\u001b[0m                 \u001b[0mbatch_size\u001b[0m\u001b[1;33m=\u001b[0m\u001b[0mbatch_size\u001b[0m\u001b[1;33m,\u001b[0m\u001b[1;33m\u001b[0m\u001b[1;33m\u001b[0m\u001b[0m\n\u001b[1;32m--> 274\u001b[1;33m                 verbose=0)\n\u001b[0m\u001b[0;32m    275\u001b[0m         \u001b[1;32mreturn\u001b[0m \u001b[0mh\u001b[0m\u001b[1;33m\u001b[0m\u001b[1;33m\u001b[0m\u001b[0m\n\u001b[0;32m    276\u001b[0m \u001b[1;33m\u001b[0m\u001b[0m\n",
      "\u001b[1;32m~\\Anaconda3\\envs\\famarch\\lib\\site-packages\\tensorflow\\python\\keras\\engine\\training.py\u001b[0m in \u001b[0;36mfit\u001b[1;34m(self, x, y, batch_size, epochs, verbose, callbacks, validation_split, validation_data, shuffle, class_weight, sample_weight, initial_epoch, steps_per_epoch, validation_steps, max_queue_size, workers, use_multiprocessing, **kwargs)\u001b[0m\n\u001b[0;32m    878\u001b[0m           \u001b[0minitial_epoch\u001b[0m\u001b[1;33m=\u001b[0m\u001b[0minitial_epoch\u001b[0m\u001b[1;33m,\u001b[0m\u001b[1;33m\u001b[0m\u001b[1;33m\u001b[0m\u001b[0m\n\u001b[0;32m    879\u001b[0m           \u001b[0msteps_per_epoch\u001b[0m\u001b[1;33m=\u001b[0m\u001b[0msteps_per_epoch\u001b[0m\u001b[1;33m,\u001b[0m\u001b[1;33m\u001b[0m\u001b[1;33m\u001b[0m\u001b[0m\n\u001b[1;32m--> 880\u001b[1;33m           validation_steps=validation_steps)\n\u001b[0m\u001b[0;32m    881\u001b[0m \u001b[1;33m\u001b[0m\u001b[0m\n\u001b[0;32m    882\u001b[0m   def evaluate(self,\n",
      "\u001b[1;32m~\\Anaconda3\\envs\\famarch\\lib\\site-packages\\tensorflow\\python\\keras\\engine\\training_arrays.py\u001b[0m in \u001b[0;36mmodel_iteration\u001b[1;34m(model, inputs, targets, sample_weights, batch_size, epochs, verbose, callbacks, val_inputs, val_targets, val_sample_weights, shuffle, initial_epoch, steps_per_epoch, validation_steps, mode, validation_in_fit, **kwargs)\u001b[0m\n\u001b[0;32m    327\u001b[0m \u001b[1;33m\u001b[0m\u001b[0m\n\u001b[0;32m    328\u001b[0m         \u001b[1;31m# Get outputs.\u001b[0m\u001b[1;33m\u001b[0m\u001b[1;33m\u001b[0m\u001b[1;33m\u001b[0m\u001b[0m\n\u001b[1;32m--> 329\u001b[1;33m         \u001b[0mbatch_outs\u001b[0m \u001b[1;33m=\u001b[0m \u001b[0mf\u001b[0m\u001b[1;33m(\u001b[0m\u001b[0mins_batch\u001b[0m\u001b[1;33m)\u001b[0m\u001b[1;33m\u001b[0m\u001b[1;33m\u001b[0m\u001b[0m\n\u001b[0m\u001b[0;32m    330\u001b[0m         \u001b[1;32mif\u001b[0m \u001b[1;32mnot\u001b[0m \u001b[0misinstance\u001b[0m\u001b[1;33m(\u001b[0m\u001b[0mbatch_outs\u001b[0m\u001b[1;33m,\u001b[0m \u001b[0mlist\u001b[0m\u001b[1;33m)\u001b[0m\u001b[1;33m:\u001b[0m\u001b[1;33m\u001b[0m\u001b[1;33m\u001b[0m\u001b[0m\n\u001b[0;32m    331\u001b[0m           \u001b[0mbatch_outs\u001b[0m \u001b[1;33m=\u001b[0m \u001b[1;33m[\u001b[0m\u001b[0mbatch_outs\u001b[0m\u001b[1;33m]\u001b[0m\u001b[1;33m\u001b[0m\u001b[1;33m\u001b[0m\u001b[0m\n",
      "\u001b[1;32m~\\Anaconda3\\envs\\famarch\\lib\\site-packages\\tensorflow\\python\\keras\\backend.py\u001b[0m in \u001b[0;36m__call__\u001b[1;34m(self, inputs)\u001b[0m\n\u001b[0;32m   3074\u001b[0m \u001b[1;33m\u001b[0m\u001b[0m\n\u001b[0;32m   3075\u001b[0m     fetched = self._callable_fn(*array_vals,\n\u001b[1;32m-> 3076\u001b[1;33m                                 run_metadata=self.run_metadata)\n\u001b[0m\u001b[0;32m   3077\u001b[0m     \u001b[0mself\u001b[0m\u001b[1;33m.\u001b[0m\u001b[0m_call_fetch_callbacks\u001b[0m\u001b[1;33m(\u001b[0m\u001b[0mfetched\u001b[0m\u001b[1;33m[\u001b[0m\u001b[1;33m-\u001b[0m\u001b[0mlen\u001b[0m\u001b[1;33m(\u001b[0m\u001b[0mself\u001b[0m\u001b[1;33m.\u001b[0m\u001b[0m_fetches\u001b[0m\u001b[1;33m)\u001b[0m\u001b[1;33m:\u001b[0m\u001b[1;33m]\u001b[0m\u001b[1;33m)\u001b[0m\u001b[1;33m\u001b[0m\u001b[1;33m\u001b[0m\u001b[0m\n\u001b[0;32m   3078\u001b[0m     return nest.pack_sequence_as(self._outputs_structure,\n",
      "\u001b[1;32m~\\Anaconda3\\envs\\famarch\\lib\\site-packages\\tensorflow\\python\\client\\session.py\u001b[0m in \u001b[0;36m__call__\u001b[1;34m(self, *args, **kwargs)\u001b[0m\n\u001b[0;32m   1437\u001b[0m           ret = tf_session.TF_SessionRunCallable(\n\u001b[0;32m   1438\u001b[0m               \u001b[0mself\u001b[0m\u001b[1;33m.\u001b[0m\u001b[0m_session\u001b[0m\u001b[1;33m.\u001b[0m\u001b[0m_session\u001b[0m\u001b[1;33m,\u001b[0m \u001b[0mself\u001b[0m\u001b[1;33m.\u001b[0m\u001b[0m_handle\u001b[0m\u001b[1;33m,\u001b[0m \u001b[0margs\u001b[0m\u001b[1;33m,\u001b[0m \u001b[0mstatus\u001b[0m\u001b[1;33m,\u001b[0m\u001b[1;33m\u001b[0m\u001b[1;33m\u001b[0m\u001b[0m\n\u001b[1;32m-> 1439\u001b[1;33m               run_metadata_ptr)\n\u001b[0m\u001b[0;32m   1440\u001b[0m         \u001b[1;32mif\u001b[0m \u001b[0mrun_metadata\u001b[0m\u001b[1;33m:\u001b[0m\u001b[1;33m\u001b[0m\u001b[1;33m\u001b[0m\u001b[0m\n\u001b[0;32m   1441\u001b[0m           \u001b[0mproto_data\u001b[0m \u001b[1;33m=\u001b[0m \u001b[0mtf_session\u001b[0m\u001b[1;33m.\u001b[0m\u001b[0mTF_GetBuffer\u001b[0m\u001b[1;33m(\u001b[0m\u001b[0mrun_metadata_ptr\u001b[0m\u001b[1;33m)\u001b[0m\u001b[1;33m\u001b[0m\u001b[1;33m\u001b[0m\u001b[0m\n",
      "\u001b[1;31mKeyboardInterrupt\u001b[0m: "
     ]
    }
   ],
   "source": [
    "### Uncalibrated model\n",
    "val_probs = softmax(densenet_121_logits_val, axis=1)\n",
    "test_probs = softmax(densenet_121_logits_test, axis=1)\n",
    "\n",
    "\n",
    "### Temp-Scaling\n",
    "temp_scaling_cal = TempScalingCalibrator(densenet_121_logits_val, densenet_121_target_val)\n",
    "print(\"Calibrated using temperature T={:.3f}\\n\\n\".format(temp_scaling_cal.T))\n",
    "\n",
    "val_probs_temp = temp_scaling_cal.predict(densenet_121_logits_val)\n",
    "test_probs_temp = temp_scaling_cal.predict(densenet_121_logits_test)\n",
    "\n",
    "### MAtrix-Scaling\n",
    "mlr_scaling_cal = MLRCalibrator(densenet_121_logits_val, densenet_121_target_val)\n",
    "\n",
    "val_probs_mlr = mlr_scaling_cal.predict(densenet_121_logits_val)\n",
    "test_probs_mlr = mlr_scaling_cal.predict(densenet_121_logits_test)\n",
    "\n",
    "\n",
    "### NICE-flow\n",
    "t0 = time.time()\n",
    "nice_cal = NiceCalibrator(densenet_121_logits_val, densenet_121_target_val, \n",
    "                          layers=4, hidden_size=[100, 100], epochs=5000)\n",
    "print('NICE flow fitted in {:.3f}s'.format(time.time()-t0))\n",
    "\n",
    "# Plot training NLL\n",
    "plt.plot(nice_cal.history.history['loss'])\n",
    "plt.title('NICE-flow NLL')\n",
    "plt.ylabel('NLL')\n",
    "plt.xlabel('Epoch')\n",
    "plt.show()\n",
    "\n",
    "val_probs_nice = nice_cal.predict(val_logits)\n",
    "test_probs_nice = nice_cal.predict(test_logits)\n"
   ]
  },
  {
   "cell_type": "code",
   "execution_count": null,
   "metadata": {},
   "outputs": [],
   "source": [
    "## Uncalibrated model\n",
    "# Validation set\n",
    "val_nll = neg_log_likelihood(val_probs, densenet_121_target_val)\n",
    "val_ece = expected_calibration_error(val_probs, densenet_121_target_val, bins=15)\n",
    "val_acc = accuracy(val_probs, densenet_121_target_val)\n",
    "\n",
    "# Test set\n",
    "test_nll = neg_log_likelihood(test_probs, densenet_121_target_test)\n",
    "test_ece = expected_calibration_error(test_probs, densenet_121_target_test, bins=15)\n",
    "test_acc = accuracy(test_probs, densenet_121_target_test)\n",
    "\n",
    "## Temp-Scaling\n",
    "# Validation set\n",
    "val_nll_temp = neg_log_likelihood(val_probs_temp, densenet_121_target_val)\n",
    "val_ece_temp = expected_calibration_error(val_probs_temp, densenet_121_target_val, bins=15)\n",
    "val_acc_temp = accuracy(val_probs_temp, densenet_121_target_val)\n",
    "\n",
    "# Test set\n",
    "test_nll_temp = neg_log_likelihood(test_probs_temp, densenet_121_target_test)\n",
    "test_ece_temp = expected_calibration_error(test_probs_temp, densenet_121_target_test, bins=15)\n",
    "test_acc_temp = accuracy(test_probs_temp, densenet_121_target_test)\n",
    "\n",
    "\n",
    "## MLR\n",
    "# Validation set\n",
    "val_nll_mlr = neg_log_likelihood(val_probs_mlr, densenet_121_target_val)\n",
    "val_ece_mlr = expected_calibration_error(val_probs_mlr, densenet_121_target_val, bins=15)\n",
    "val_acc_mlr = accuracy(val_probs_mlr, densenet_121_target_val)\n",
    "\n",
    "# Test set\n",
    "test_nll_mlr = neg_log_likelihood(test_probs_mlr, densenet_121_target_test)\n",
    "test_ece_mlr = expected_calibration_error(test_probs_mlr, densenet_121_target_test, bins=15)\n",
    "test_acc_mlr = accuracy(test_probs_mlr, densenet_121_target_test)\n",
    "\n",
    "\n",
    "## NICE\n",
    "# Validation set\n",
    "val_nll_nice = neg_log_likelihood(val_probs_nice, densenet_121_target_val)\n",
    "val_ece_nice = expected_calibration_error(val_probs_nice, densenet_121_target_val, bins=15)\n",
    "val_acc_nice = accuracy(val_probs_nice, densenet_121_target_val)\n",
    "\n",
    "# Test set\n",
    "test_nll_nice = neg_log_likelihood(test_probs_nice, densenet_121_target_test)\n",
    "test_ece_nice = expected_calibration_error(test_probs_nice, densenet_121_target_test, bins=15)\n",
    "test_acc_nice = accuracy(test_probs_nice, densenet_121_target_test)"
   ]
  },
  {
   "cell_type": "code",
   "execution_count": null,
   "metadata": {},
   "outputs": [],
   "source": [
    "def autolabel(rects, ax):\n",
    "    \"\"\"Attach a text label above each bar in *rects*, displaying its height.\n",
    "    Taken from:\n",
    "    'https://matplotlib.org/3.1.1/gallery/lines_bars_and_markers/barchart.html#sphx-glr-gallery-lines-bars-and-markers-barchart-py'\n",
    "    \n",
    "    \"\"\"\n",
    "    for rect in rects:\n",
    "        height = rect.get_height()\n",
    "        ax.annotate('{:.3f}'.format(height),\n",
    "                    xy=(rect.get_x() + rect.get_width() / 2, height),\n",
    "                    xytext=(0, 3),  # 3 points vertical offset\n",
    "                    textcoords=\"offset points\",\n",
    "                    ha='center', va='bottom')"
   ]
  },
  {
   "cell_type": "code",
   "execution_count": null,
   "metadata": {},
   "outputs": [],
   "source": [
    "fig, ax_arr = plt.subplots(1, 2, figsize=(17, 6))\n",
    "fig.suptitle('Calibration of densenet-121 on CIFAR100', fontsize=16)\n",
    "\n",
    "ind = np.arange(3)\n",
    "width = 0.35\n",
    "\n",
    "ticks = ['Uncalibrated', 'Temp-Scaling', 'MLR-Scaling', 'NICE-flow']\n",
    "\n",
    "\n",
    "validation = 100. * np.array([val_acc, val_acc_temp, val_acc_mlr, val_acc_nice])\n",
    "test = 100. * np.array([test_acc, test_acc_temp, test_acc_mlr, test_acc_nice])\n",
    "\n",
    "rects1 = ax_arr[0].bar(ind, validation, width, color='b', label='Validation set')\n",
    "rects2 = ax_arr[0].bar(ind+width, test, width, color='r', label='Test set')\n",
    "\n",
    "ax_arr[0].set_ylabel('Accuracy')\n",
    "ax_arr[0].set_title('Accuracy (%)')\n",
    "ax_arr[0].set_xticks(ind + width / 2)\n",
    "ax_arr[0].set_xticklabels(ticks)\n",
    "ax_arr[0].set_ylim([0, max(validation.max(), test.max())*1.3])\n",
    "ax_arr[0].legend()\n",
    "\n",
    "autolabel(rects1, ax_arr[0])\n",
    "autolabel(rects2, ax_arr[0])\n",
    "\n",
    "\n",
    "validation = np.array([val_ece, val_ece_temp, val_ece_mlr, val_ece_nice])*100\n",
    "test = np.array([test_ece, test_ece_temp, test_ece_mlr, test_ece_nice])*100\n",
    "\n",
    "rects1 = ax_arr[1].bar(ind, validation, width, color='b', label='Validation set')\n",
    "rects2 = ax_arr[1].bar(ind+width, test, width, color='r', label='Test set')\n",
    "\n",
    "ax_arr[1].set_ylabel('ECE (%)')\n",
    "ax_arr[1].set_title('Expected Calibration Error comparison')\n",
    "ax_arr[1].set_xticks(ind + width / 2)\n",
    "ax_arr[1].set_xticklabels(ticks)\n",
    "ax_arr[1].set_ylim([0, max(validation.max(), test.max())*1.3])\n",
    "ax_arr[1].legend()\n",
    "\n",
    "autolabel(rects1, ax_arr[1])\n",
    "autolabel(rects2, ax_arr[1])\n",
    "\n",
    "plt.show()"
   ]
  },
  {
   "cell_type": "code",
   "execution_count": null,
   "metadata": {},
   "outputs": [],
   "source": []
  }
 ],
 "metadata": {
  "kernelspec": {
   "display_name": "Python 3",
   "language": "python",
   "name": "python3"
  },
  "language_info": {
   "codemirror_mode": {
    "name": "ipython",
    "version": 3
   },
   "file_extension": ".py",
   "mimetype": "text/x-python",
   "name": "python",
   "nbconvert_exporter": "python",
   "pygments_lexer": "ipython3",
   "version": "3.6.8"
  }
 },
 "nbformat": 4,
 "nbformat_minor": 2
}
