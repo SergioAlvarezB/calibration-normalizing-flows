{
 "cells": [
  {
   "cell_type": "markdown",
   "metadata": {},
   "source": [
    "# NICE for calibration"
   ]
  },
  {
   "cell_type": "code",
   "execution_count": 1,
   "metadata": {},
   "outputs": [],
   "source": [
    "%load_ext autoreload"
   ]
  },
  {
   "cell_type": "code",
   "execution_count": 2,
   "metadata": {},
   "outputs": [],
   "source": [
    "%autoreload 1"
   ]
  },
  {
   "cell_type": "code",
   "execution_count": 3,
   "metadata": {},
   "outputs": [],
   "source": [
    "import sys\n",
    "import random\n",
    "sys.path.append('..')\n",
    "\n",
    "import numpy as np\n",
    "import matplotlib.pyplot as plt\n",
    "from scipy.special import softmax\n",
    "from sklearn.isotonic import IsotonicRegression\n",
    "import tensorflow as tf\n",
    "from tensorflow.keras.models import Model\n",
    "from tensorflow.keras.layers import Activation, Input\n",
    "from tensorflow.keras.optimizers import Adam, SGD\n",
    "\n",
    "%aimport utils\n",
    "%aimport utils.ops\n",
    "%aimport utils.metrics\n",
    "%aimport utils.visualization\n",
    "%aimport flows.nice\n",
    "%aimport calibrators\n",
    "from utils.ops import onehot_encode, optim_temperature, detection_log_likelihood_ratios\n",
    "from utils.metrics import neg_log_likelihood, expected_calibration_error\n",
    "from utils.visualization import plot_pdf_simplex, plot_prob_simplex, reliability_plot, reliability_diagram, ECE_plot\n",
    "from flows.nice import AddCouplingLayer, MLP\n",
    "from calibrators import PAVCalibrator, MLRCalibrator"
   ]
  },
  {
   "cell_type": "code",
   "execution_count": 4,
   "metadata": {},
   "outputs": [],
   "source": [
    "%matplotlib inline\n",
    "np.random.seed(2)"
   ]
  },
  {
   "cell_type": "markdown",
   "metadata": {},
   "source": [
    "## Define NICE flow"
   ]
  },
  {
   "cell_type": "code",
   "execution_count": 5,
   "metadata": {},
   "outputs": [],
   "source": [
    "input_dim = 3\n",
    "activation='relu'\n",
    "hidden_size = [3, 3]"
   ]
  },
  {
   "cell_type": "markdown",
   "metadata": {},
   "source": [
    "### Coupling functions"
   ]
  },
  {
   "cell_type": "code",
   "execution_count": 6,
   "metadata": {},
   "outputs": [
    {
     "name": "stdout",
     "output_type": "stream",
     "text": [
      "WARNING:tensorflow:From /opt/conda/lib/python3.6/site-packages/tensorflow/python/ops/resource_variable_ops.py:435: colocate_with (from tensorflow.python.framework.ops) is deprecated and will be removed in a future version.\n",
      "Instructions for updating:\n",
      "Colocations handled automatically by placer.\n"
     ]
    }
   ],
   "source": [
    "m1 = MLP(input_dim//2, input_dim - input_dim//2, activation=activation, hidden_size=hidden_size)\n",
    "m2 = MLP(input_dim - input_dim//2, input_dim//2, activation=activation, hidden_size=hidden_size)\n",
    "m3 = MLP(input_dim//2, input_dim - input_dim//2, activation=activation, hidden_size=hidden_size)\n",
    "m4 = MLP(input_dim - input_dim//2, input_dim//2, activation=activation, hidden_size=hidden_size)"
   ]
  },
  {
   "cell_type": "markdown",
   "metadata": {},
   "source": [
    "### Forward flow "
   ]
  },
  {
   "cell_type": "code",
   "execution_count": 7,
   "metadata": {},
   "outputs": [],
   "source": [
    "inp = Input(shape=(input_dim,))\n",
    "\n",
    "x = AddCouplingLayer(m1)(inp)\n",
    "x = AddCouplingLayer(m2, mode='even')(x)\n",
    "x = AddCouplingLayer(m3)(x)\n",
    "x = AddCouplingLayer(m4, mode='even')(x)\n",
    "\n",
    "nice_flow = Model(inputs=inp, outputs=x)"
   ]
  },
  {
   "cell_type": "markdown",
   "metadata": {},
   "source": [
    "### Inverse flow "
   ]
  },
  {
   "cell_type": "code",
   "execution_count": 8,
   "metadata": {},
   "outputs": [],
   "source": [
    "inv_inp = Input(shape=(input_dim,))\n",
    "\n",
    "x = AddCouplingLayer(m4, mode='even', inverse=True)(inv_inp)\n",
    "x = AddCouplingLayer(m3, inverse=True)(x)\n",
    "x = AddCouplingLayer(m2, mode='even', inverse=True)(x)\n",
    "x = AddCouplingLayer(m1, inverse=True)(x)\n",
    "\n",
    "inv_nice_flow = Model(inputs=inv_inp, outputs=x)"
   ]
  },
  {
   "cell_type": "markdown",
   "metadata": {},
   "source": [
    "### Trainable model"
   ]
  },
  {
   "cell_type": "code",
   "execution_count": 9,
   "metadata": {},
   "outputs": [
    {
     "name": "stdout",
     "output_type": "stream",
     "text": [
      "_________________________________________________________________\n",
      "Layer (type)                 Output Shape              Param #   \n",
      "=================================================================\n",
      "input_5 (InputLayer)         (None, 3)                 0         \n",
      "_________________________________________________________________\n",
      "add_coupling_layer (AddCoupl (None, 3)                 26        \n",
      "_________________________________________________________________\n",
      "add_coupling_layer_1 (AddCou (None, 3)                 25        \n",
      "_________________________________________________________________\n",
      "add_coupling_layer_2 (AddCou (None, 3)                 26        \n",
      "_________________________________________________________________\n",
      "add_coupling_layer_3 (AddCou (None, 3)                 25        \n",
      "_________________________________________________________________\n",
      "activation (Activation)      (None, 3)                 0         \n",
      "=================================================================\n",
      "Total params: 102\n",
      "Trainable params: 102\n",
      "Non-trainable params: 0\n",
      "_________________________________________________________________\n"
     ]
    }
   ],
   "source": [
    "# Softmax output layer\n",
    "y = Activation('softmax')(nice_flow.output)\n",
    "\n",
    "nice_calibrator = Model(inputs=nice_flow.input, outputs=y)\n",
    "nice_calibrator.summary()"
   ]
  },
  {
   "cell_type": "markdown",
   "metadata": {},
   "source": [
    "## Comparison against other calibration methods\n",
    "\n",
    "### Generate fake target disitribution and simulated predictions"
   ]
  },
  {
   "cell_type": "code",
   "execution_count": 10,
   "metadata": {},
   "outputs": [],
   "source": [
    "n_samples = 1500"
   ]
  },
  {
   "cell_type": "code",
   "execution_count": 11,
   "metadata": {},
   "outputs": [],
   "source": [
    "target = np.array(random.choices(range(3), k=n_samples))\n",
    "one_hot = onehot_encode(target)"
   ]
  },
  {
   "cell_type": "code",
   "execution_count": 12,
   "metadata": {},
   "outputs": [
    {
     "name": "stdout",
     "output_type": "stream",
     "text": [
      "Negative log-likelihood of the classifier predictions: 0.83216\n",
      "Expected Calibration Error of the classifier predictions: 0.15209\n"
     ]
    }
   ],
   "source": [
    "# Shift\n",
    "offset = np.zeros((n_samples, 3))\n",
    "offset[:, 1:] = 0.3\n",
    "\n",
    "# Twist\n",
    "twisting = np.zeros((n_samples, 3))\n",
    "twisting[np.arange(n_samples), target-1] = 0.7 + np.random.randn(n_samples)*0.1\n",
    "\n",
    "snt_logits = 0.8 * (one_hot + twisting + np.random.randn(n_samples, 3)*0.3) + offset\n",
    "snt_probs = softmax(snt_logits, axis=1)\n",
    "\n",
    "nll = neg_log_likelihood(snt_probs, target)\n",
    "ECE = expected_calibration_error(snt_probs, target)\n",
    "\n",
    "print(\"Negative log-likelihood of the classifier predictions: {:.5f}\".format(nll))\n",
    "print(\"Expected Calibration Error of the classifier predictions: {:.5f}\".format(ECE))"
   ]
  },
  {
   "cell_type": "code",
   "execution_count": 13,
   "metadata": {},
   "outputs": [
    {
     "data": {
      "image/png": "[encoded data removed]",
      "text/plain": [
       "<Figure size 1224x432 with 2 Axes>"
      ]
     },
     "metadata": {
      "needs_background": "light"
     },
     "output_type": "display_data"
    }
   ],
   "source": [
    "fig, ax_arr = plt.subplots(1, 2, figsize=(17, 6))\n",
    "ax_arr[0] = plot_prob_simplex(snt_probs, target=target, ax=ax_arr[0], title='Simulated classifier predictions', fontsize=12);\n",
    "ax_arr[1] = plot_pdf_simplex(snt_probs, ax=ax_arr[1], title='Estimated output classifier PDF', fontsize=12);\n",
    "plt.show()"
   ]
  },
  {
   "cell_type": "markdown",
   "metadata": {},
   "source": [
    "### Apply temperature scaling "
   ]
  },
  {
   "cell_type": "code",
   "execution_count": 14,
   "metadata": {},
   "outputs": [
    {
     "name": "stdout",
     "output_type": "stream",
     "text": [
      "Negative log-likelihood after calibration with temp-scaling: 0.632\n",
      "Expected Calibration Error after calibration with temp-scaling: 0.026\n"
     ]
    }
   ],
   "source": [
    "# Temp scaling\n",
    "T = optim_temperature(snt_logits, target)\n",
    "temp_probs = softmax(snt_logits/T, axis=1)\n",
    "\n",
    "nll_temp = neg_log_likelihood(temp_probs, target)\n",
    "ECE_temp = expected_calibration_error(temp_probs, target)\n",
    "\n",
    "print(\"Negative log-likelihood after calibration with temp-scaling: {:.3f}\".format(nll_temp))\n",
    "print(\"Expected Calibration Error after calibration with temp-scaling: {:.3f}\".format(ECE_temp))"
   ]
  },
  {
   "cell_type": "markdown",
   "metadata": {},
   "source": [
    "### Calibrate with PAV extended to multiclass(normalization)"
   ]
  },
  {
   "cell_type": "code",
   "execution_count": 15,
   "metadata": {},
   "outputs": [],
   "source": [
    "pav_cal = PAVCalibrator(snt_logits, target)"
   ]
  },
  {
   "cell_type": "code",
   "execution_count": 16,
   "metadata": {},
   "outputs": [
    {
     "name": "stdout",
     "output_type": "stream",
     "text": [
      "Negative log-likelihood after calibration with PAV: 0.490\n",
      "Expected Calibration Error after calibration with PAV: 0.043\n"
     ]
    }
   ],
   "source": [
    "pav_probs = pav_cal.predict(snt_logits)\n",
    "\n",
    "nll_pav = neg_log_likelihood(pav_probs, target)\n",
    "ECE_pav = expected_calibration_error(pav_probs, target)\n",
    "\n",
    "print(\"Negative log-likelihood after calibration with PAV: {:.3f}\".format(nll_pav))\n",
    "print(\"Expected Calibration Error after calibration with PAV: {:.3f}\".format(ECE_pav))"
   ]
  },
  {
   "cell_type": "markdown",
   "metadata": {},
   "source": [
    "### Calibrate with Multiclass Logistic Regression "
   ]
  },
  {
   "cell_type": "code",
   "execution_count": 17,
   "metadata": {},
   "outputs": [],
   "source": [
    "mlr_cal = MLRCalibrator(snt_logits, target)"
   ]
  },
  {
   "cell_type": "code",
   "execution_count": 18,
   "metadata": {},
   "outputs": [
    {
     "name": "stdout",
     "output_type": "stream",
     "text": [
      "Negative log-likelihood after calibration with mlr: 0.656\n",
      "Expected Calibration Error after calibration with mlr: 0.051\n"
     ]
    }
   ],
   "source": [
    "mlr_probs = mlr_cal.predict(snt_logits)\n",
    "\n",
    "nll_mlr = neg_log_likelihood(mlr_probs, target)\n",
    "ECE_mlr = expected_calibration_error(mlr_probs, target)\n",
    "\n",
    "print(\"Negative log-likelihood after calibration with mlr: {:.3f}\".format(nll_mlr))\n",
    "print(\"Expected Calibration Error after calibration with mlr: {:.3f}\".format(ECE_mlr))"
   ]
  },
  {
   "cell_type": "markdown",
   "metadata": {},
   "source": [
    "### Calibrate with NICE flow"
   ]
  },
  {
   "cell_type": "code",
   "execution_count": 19,
   "metadata": {},
   "outputs": [],
   "source": [
    "nice_calibrator.compile(optimizer=SGD(1e-4), loss='categorical_crossentropy')"
   ]
  },
  {
   "cell_type": "code",
   "execution_count": 20,
   "metadata": {},
   "outputs": [
    {
     "name": "stdout",
     "output_type": "stream",
     "text": [
      "WARNING:tensorflow:From /opt/conda/lib/python3.6/site-packages/tensorflow/python/ops/math_ops.py:3066: to_int32 (from tensorflow.python.ops.math_ops) is deprecated and will be removed in a future version.\n",
      "Instructions for updating:\n",
      "Use tf.cast instead.\n"
     ]
    },
    {
     "name": "stderr",
     "output_type": "stream",
     "text": [
      "/opt/conda/lib/python3.6/site-packages/tensorflow/python/ops/gradients_impl.py:110: UserWarning: Converting sparse IndexedSlices to a dense Tensor of unknown shape. This may consume a large amount of memory.\n",
      "  \"Converting sparse IndexedSlices to a dense Tensor of unknown shape. \"\n"
     ]
    },
    {
     "ename": "KeyboardInterrupt",
     "evalue": "",
     "output_type": "error",
     "traceback": [
      "\u001b[0;31m---------------------------------------------------------------------------\u001b[0m",
      "\u001b[0;31mKeyboardInterrupt\u001b[0m                         Traceback (most recent call last)",
      "\u001b[0;32m<ipython-input-20-6223a7908f57>\u001b[0m in \u001b[0;36m<module>\u001b[0;34m\u001b[0m\n\u001b[0;32m----> 1\u001b[0;31m \u001b[0mh\u001b[0m \u001b[0;34m=\u001b[0m \u001b[0mnice_calibrator\u001b[0m\u001b[0;34m.\u001b[0m\u001b[0mfit\u001b[0m\u001b[0;34m(\u001b[0m\u001b[0msnt_logits\u001b[0m\u001b[0;34m,\u001b[0m \u001b[0mone_hot\u001b[0m\u001b[0;34m,\u001b[0m \u001b[0mepochs\u001b[0m\u001b[0;34m=\u001b[0m\u001b[0;36m10000\u001b[0m\u001b[0;34m,\u001b[0m \u001b[0mbatch_size\u001b[0m\u001b[0;34m=\u001b[0m\u001b[0;36m50\u001b[0m\u001b[0;34m,\u001b[0m \u001b[0mverbose\u001b[0m\u001b[0;34m=\u001b[0m\u001b[0;36m0\u001b[0m\u001b[0;34m)\u001b[0m\u001b[0;34m\u001b[0m\u001b[0m\n\u001b[0m\u001b[1;32m      2\u001b[0m \u001b[0;34m\u001b[0m\u001b[0m\n\u001b[1;32m      3\u001b[0m \u001b[0;31m# Plot training NLL\u001b[0m\u001b[0;34m\u001b[0m\u001b[0;34m\u001b[0m\u001b[0m\n\u001b[1;32m      4\u001b[0m \u001b[0mplt\u001b[0m\u001b[0;34m.\u001b[0m\u001b[0mplot\u001b[0m\u001b[0;34m(\u001b[0m\u001b[0mh\u001b[0m\u001b[0;34m.\u001b[0m\u001b[0mhistory\u001b[0m\u001b[0;34m[\u001b[0m\u001b[0;34m'loss'\u001b[0m\u001b[0;34m]\u001b[0m\u001b[0;34m)\u001b[0m\u001b[0;34m\u001b[0m\u001b[0m\n\u001b[1;32m      5\u001b[0m \u001b[0mplt\u001b[0m\u001b[0;34m.\u001b[0m\u001b[0mtitle\u001b[0m\u001b[0;34m(\u001b[0m\u001b[0;34m'NICE-flow NLL'\u001b[0m\u001b[0;34m)\u001b[0m\u001b[0;34m\u001b[0m\u001b[0m\n",
      "\u001b[0;32m/opt/conda/lib/python3.6/site-packages/tensorflow/python/keras/engine/training.py\u001b[0m in \u001b[0;36mfit\u001b[0;34m(self, x, y, batch_size, epochs, verbose, callbacks, validation_split, validation_data, shuffle, class_weight, sample_weight, initial_epoch, steps_per_epoch, validation_steps, max_queue_size, workers, use_multiprocessing, **kwargs)\u001b[0m\n\u001b[1;32m    878\u001b[0m           \u001b[0minitial_epoch\u001b[0m\u001b[0;34m=\u001b[0m\u001b[0minitial_epoch\u001b[0m\u001b[0;34m,\u001b[0m\u001b[0;34m\u001b[0m\u001b[0m\n\u001b[1;32m    879\u001b[0m           \u001b[0msteps_per_epoch\u001b[0m\u001b[0;34m=\u001b[0m\u001b[0msteps_per_epoch\u001b[0m\u001b[0;34m,\u001b[0m\u001b[0;34m\u001b[0m\u001b[0m\n\u001b[0;32m--> 880\u001b[0;31m           validation_steps=validation_steps)\n\u001b[0m\u001b[1;32m    881\u001b[0m \u001b[0;34m\u001b[0m\u001b[0m\n\u001b[1;32m    882\u001b[0m   def evaluate(self,\n",
      "\u001b[0;32m/opt/conda/lib/python3.6/site-packages/tensorflow/python/keras/engine/training_arrays.py\u001b[0m in \u001b[0;36mmodel_iteration\u001b[0;34m(model, inputs, targets, sample_weights, batch_size, epochs, verbose, callbacks, val_inputs, val_targets, val_sample_weights, shuffle, initial_epoch, steps_per_epoch, validation_steps, mode, validation_in_fit, **kwargs)\u001b[0m\n\u001b[1;32m    327\u001b[0m \u001b[0;34m\u001b[0m\u001b[0m\n\u001b[1;32m    328\u001b[0m         \u001b[0;31m# Get outputs.\u001b[0m\u001b[0;34m\u001b[0m\u001b[0;34m\u001b[0m\u001b[0m\n\u001b[0;32m--> 329\u001b[0;31m         \u001b[0mbatch_outs\u001b[0m \u001b[0;34m=\u001b[0m \u001b[0mf\u001b[0m\u001b[0;34m(\u001b[0m\u001b[0mins_batch\u001b[0m\u001b[0;34m)\u001b[0m\u001b[0;34m\u001b[0m\u001b[0m\n\u001b[0m\u001b[1;32m    330\u001b[0m         \u001b[0;32mif\u001b[0m \u001b[0;32mnot\u001b[0m \u001b[0misinstance\u001b[0m\u001b[0;34m(\u001b[0m\u001b[0mbatch_outs\u001b[0m\u001b[0;34m,\u001b[0m \u001b[0mlist\u001b[0m\u001b[0;34m)\u001b[0m\u001b[0;34m:\u001b[0m\u001b[0;34m\u001b[0m\u001b[0m\n\u001b[1;32m    331\u001b[0m           \u001b[0mbatch_outs\u001b[0m \u001b[0;34m=\u001b[0m \u001b[0;34m[\u001b[0m\u001b[0mbatch_outs\u001b[0m\u001b[0;34m]\u001b[0m\u001b[0;34m\u001b[0m\u001b[0m\n",
      "\u001b[0;32m/opt/conda/lib/python3.6/site-packages/tensorflow/python/keras/backend.py\u001b[0m in \u001b[0;36m__call__\u001b[0;34m(self, inputs)\u001b[0m\n\u001b[1;32m   3074\u001b[0m \u001b[0;34m\u001b[0m\u001b[0m\n\u001b[1;32m   3075\u001b[0m     fetched = self._callable_fn(*array_vals,\n\u001b[0;32m-> 3076\u001b[0;31m                                 run_metadata=self.run_metadata)\n\u001b[0m\u001b[1;32m   3077\u001b[0m     \u001b[0mself\u001b[0m\u001b[0;34m.\u001b[0m\u001b[0m_call_fetch_callbacks\u001b[0m\u001b[0;34m(\u001b[0m\u001b[0mfetched\u001b[0m\u001b[0;34m[\u001b[0m\u001b[0;34m-\u001b[0m\u001b[0mlen\u001b[0m\u001b[0;34m(\u001b[0m\u001b[0mself\u001b[0m\u001b[0;34m.\u001b[0m\u001b[0m_fetches\u001b[0m\u001b[0;34m)\u001b[0m\u001b[0;34m:\u001b[0m\u001b[0;34m]\u001b[0m\u001b[0;34m)\u001b[0m\u001b[0;34m\u001b[0m\u001b[0m\n\u001b[1;32m   3078\u001b[0m     return nest.pack_sequence_as(self._outputs_structure,\n",
      "\u001b[0;32m/opt/conda/lib/python3.6/site-packages/tensorflow/python/client/session.py\u001b[0m in \u001b[0;36m__call__\u001b[0;34m(self, *args, **kwargs)\u001b[0m\n\u001b[1;32m   1437\u001b[0m           ret = tf_session.TF_SessionRunCallable(\n\u001b[1;32m   1438\u001b[0m               \u001b[0mself\u001b[0m\u001b[0;34m.\u001b[0m\u001b[0m_session\u001b[0m\u001b[0;34m.\u001b[0m\u001b[0m_session\u001b[0m\u001b[0;34m,\u001b[0m \u001b[0mself\u001b[0m\u001b[0;34m.\u001b[0m\u001b[0m_handle\u001b[0m\u001b[0;34m,\u001b[0m \u001b[0margs\u001b[0m\u001b[0;34m,\u001b[0m \u001b[0mstatus\u001b[0m\u001b[0;34m,\u001b[0m\u001b[0;34m\u001b[0m\u001b[0m\n\u001b[0;32m-> 1439\u001b[0;31m               run_metadata_ptr)\n\u001b[0m\u001b[1;32m   1440\u001b[0m         \u001b[0;32mif\u001b[0m \u001b[0mrun_metadata\u001b[0m\u001b[0;34m:\u001b[0m\u001b[0;34m\u001b[0m\u001b[0m\n\u001b[1;32m   1441\u001b[0m           \u001b[0mproto_data\u001b[0m \u001b[0;34m=\u001b[0m \u001b[0mtf_session\u001b[0m\u001b[0;34m.\u001b[0m\u001b[0mTF_GetBuffer\u001b[0m\u001b[0;34m(\u001b[0m\u001b[0mrun_metadata_ptr\u001b[0m\u001b[0;34m)\u001b[0m\u001b[0;34m\u001b[0m\u001b[0m\n",
      "\u001b[0;31mKeyboardInterrupt\u001b[0m: "
     ]
    }
   ],
   "source": [
    "h = nice_calibrator.fit(snt_logits, one_hot, epochs=10000, batch_size=50, verbose=0)\n",
    "\n",
    "# Plot training NLL\n",
    "plt.plot(h.history['loss'])\n",
    "plt.title('NICE-flow NLL')\n",
    "plt.ylabel('NLL')\n",
    "plt.xlabel('Epoch')\n",
    "plt.show()"
   ]
  },
  {
   "cell_type": "code",
   "execution_count": null,
   "metadata": {},
   "outputs": [],
   "source": [
    "nice_probs = nice_calibrator.predict(snt_logits, batch_size=100)\n",
    "\n",
    "nll_nice = neg_log_likelihood(nice_probs, target)\n",
    "ECE_nice = expected_calibration_error(nice_probs, target)\n",
    "\n",
    "print(\"Negative log-likelihood after calibration with NICE: {:.3f}\".format(nll_nice))\n",
    "print(\"Expected Calibration Error after calibration with NICE: {:.3f}\".format(ECE_nice))"
   ]
  },
  {
   "cell_type": "markdown",
   "metadata": {},
   "source": [
    "### Visualizing results"
   ]
  },
  {
   "cell_type": "code",
   "execution_count": null,
   "metadata": {},
   "outputs": [],
   "source": [
    "fig, ax_arr = plt.subplots(3, 2, figsize=(16, 22), gridspec_kw={'hspace': 0.5})\n",
    "ax_arr[0, 0] = plot_pdf_simplex(snt_probs, ax=ax_arr[0, 0],\n",
    "                             title='Uncalibrated classifier output.\\n NLL: {:.3f}'.format(nll), fontsize=12);\n",
    "ax_arr[0, 1] = plot_pdf_simplex(temp_probs, ax=ax_arr[0, 1],\n",
    "                             title='Calibrated using temperature scaling.\\n NLL: {:.3f}'.format(nll_temp), fontsize=12);\n",
    "ax_arr[1, 0] = plot_pdf_simplex(pav_probs, ax=ax_arr[1, 0],\n",
    "                             title='Calibrated using PAV.\\n NLL: {:.3f}'.format(nll_pav), fontsize=12);\n",
    "ax_arr[1, 1] = plot_pdf_simplex(mlr_probs, ax=ax_arr[1, 1],\n",
    "                             title='Calibrated using MLR.\\n NLL: {:.3f}'.format(nll_mlr), fontsize=12);\n",
    "ax_arr[2, 0] = plot_pdf_simplex(nice_probs, ax=ax_arr[2, 0],\n",
    "                             title='Calibrated using NICE flow.\\n NLL: {:.3f}'.format(nll_nice), fontsize=12);\n",
    "\n",
    "ax_arr[2, 1] = reliability_plot([snt_probs, temp_probs, pav_probs, mlr_probs, nice_probs], target, ax=ax_arr[2, 1],\n",
    "                                labels=['Uncalibrated probabilities', 'Calibrated using Temp-Scaling',\n",
    "                                        'Calibrated using PAV', 'Calibrated using MLR', 'Calibrated using NICE']);\n",
    "\n",
    "plt.show()"
   ]
  },
  {
   "cell_type": "markdown",
   "metadata": {},
   "source": [
    "Reliability diagrams:"
   ]
  },
  {
   "cell_type": "code",
   "execution_count": null,
   "metadata": {},
   "outputs": [],
   "source": [
    "fig, ax_arr = plt.subplots(3, 2, figsize=(16, 22), gridspec_kw={'hspace': 0.5})\n",
    "ax_arr[0, 0] = reliability_diagram(snt_probs, target, ax=ax_arr[0, 0],\n",
    "                             title='Uncalibrated classifier output.\\n Expected Calibration Error: {:.3f}'.format(ECE), fontsize=12);\n",
    "ax_arr[0, 1] = reliability_diagram(temp_probs, target, ax=ax_arr[0, 1],\n",
    "                             title='Calibrated using temperature scaling.\\n Expected Calibration Error: {:.3f}'.format(ECE_temp), fontsize=12);\n",
    "ax_arr[1, 0] = reliability_diagram(pav_probs, target, ax=ax_arr[1, 0],\n",
    "                             title='Calibrated using PAV.\\n Expected Calibration Error: {:.3f}'.format(ECE_pav), fontsize=12);\n",
    "ax_arr[1, 1] = reliability_diagram(mlr_probs, target, ax=ax_arr[1, 1],\n",
    "                             title='Calibrated using MLR.\\n Expected Calibration Error: {:.3f}'.format(ECE_mlr), fontsize=12);\n",
    "ax_arr[2, 0] = reliability_diagram(nice_probs, target, ax=ax_arr[2, 0],\n",
    "                             title='Calibrated using NICE flow.\\n Expected Calibration Error: {:.3f}'.format(ECE_nice), fontsize=12);\n",
    "\n",
    "ax_arr[2, 1] = reliability_plot([snt_probs, temp_probs, pav_probs, mlr_probs, nice_probs], target, ax=ax_arr[2, 1],\n",
    "                                labels=['Uncalibrated probabilities', 'Calibrated using Temp-Scaling',\n",
    "                                        'Calibrated using PAV', 'Calibrated using MLR', 'Calibrated using NICE']);\n",
    "\n",
    "plt.show()"
   ]
  },
  {
   "cell_type": "markdown",
   "metadata": {},
   "source": [
    "### ECE plots:\n",
    "\n",
    "Define the detection problem, we have the hypothesis: $H_{t} \\equiv P(\\theta=\\theta_0)$ and the hypothesis space is defined over $\\{H_{t}, \\neg H_{t}\\}$, where $\\neg$ is the negation operator. We evaluate for all possible values of $\\theta_0 = \\{0, 1, 2\\}$"
   ]
  },
  {
   "cell_type": "code",
   "execution_count": null,
   "metadata": {},
   "outputs": [],
   "source": [
    "LRs = detection_log_likelihood_ratios(snt_logits, np.zeros(3) + 1/3.)\n",
    "nice_logits = nice_flow.predict(snt_logits)\n",
    "LRs_cal = detection_log_likelihood_ratios(nice_logits, np.zeros(3) + 1/3.)\n",
    "LRs_cal_MLR = detection_log_likelihood_ratios(np.log(mlr_probs), np.zeros(3) + 1/3.)\n",
    "\n",
    "fig, ax_arr = plt.subplots(3, 3, figsize=(16, 18), gridspec_kw={'hspace': 0.5})\n",
    "\n",
    "\n",
    "# H_t = P(theta=0)\n",
    "pav_cal = IsotonicRegression(y_min=0, y_max=1).fit_transform(snt_probs[:, 0], target==0) \n",
    "pav_cal = pav_cal/(1. - pav_cal + 1e-7) + 1e-7\n",
    "\n",
    "ax_arr[0, 0] = ECE_plot(np.exp(LRs[:, 0]), target==0, cal_ratios=np.exp(LRs_cal[:, 0]), ax=ax_arr[0, 0], title='Calibrated with NICE\\n$P(\\\\theta=0)$')\n",
    "ax_arr[0, 1] = ECE_plot(np.exp(LRs[:, 0]), target==0, cal_ratios=np.exp(LRs_cal_MLR[:, 0]), ax=ax_arr[0, 1], title='Calibrated with MLR\\n$P(\\\\theta=0)$')\n",
    "ax_arr[0, 2] = ECE_plot(np.exp(LRs[:, 0]), target==0, cal_ratios=pav_cal, ax=ax_arr[0, 2], title='Calibrated binary with PAV\\n$P(\\\\theta=0)$')\n",
    "\n",
    "# H_t = P(theta=1)\n",
    "pav_cal = IsotonicRegression(y_min=0, y_max=1).fit_transform(snt_probs[:, 1], target==1) \n",
    "pav_cal = pav_cal/(1. - pav_cal + 1e-7) + 1e-7\n",
    "\n",
    "ax_arr[1, 0] = ECE_plot(np.exp(LRs[:, 1]), target==1, cal_ratios=np.exp(LRs_cal[:, 1]), ax=ax_arr[1, 0], title='Calibrated with NICE\\n$P(\\\\theta=1)$')\n",
    "ax_arr[1, 1] = ECE_plot(np.exp(LRs[:, 1]), target==1, cal_ratios=np.exp(LRs_cal_MLR[:, 1]), ax=ax_arr[1, 1], title='Calibrated with MLR\\n$P(\\\\theta=1)$')\n",
    "ax_arr[1, 2] = ECE_plot(np.exp(LRs[:, 1]), target==1, cal_ratios=pav_cal, ax=ax_arr[1, 2], title='Calibrated binary with PAV\\n$P(\\\\theta=1)$')\n",
    "\n",
    "# H_t = P(theta=2)\n",
    "pav_cal = IsotonicRegression(y_min=0, y_max=1).fit_transform(snt_probs[:, 2], target==2) \n",
    "pav_cal = pav_cal/(1. - pav_cal + 1e-7) + 1e-7\n",
    "\n",
    "ax_arr[2, 0] = ECE_plot(np.exp(LRs[:, 2]), target==2, cal_ratios=np.exp(LRs_cal[:, 2]), ax=ax_arr[2, 0], title='Calibrated with NICE\\n$P(\\\\theta=2)$')\n",
    "ax_arr[2, 1] = ECE_plot(np.exp(LRs[:, 2]), target==2, cal_ratios=np.exp(LRs_cal_MLR[:, 2]), ax=ax_arr[2, 1], title='Calibrated with MLR\\n$P(\\\\theta=2)$')\n",
    "ax_arr[2, 2] = ECE_plot(np.exp(LRs[:, 2]), target==2, cal_ratios=pav_cal, ax=ax_arr[2, 2], title='Calibrated binary with PAV\\n$P(\\\\theta=2)$')\n",
    "\n",
    "\n",
    "plt.show()"
   ]
  },
  {
   "cell_type": "markdown",
   "metadata": {},
   "source": [
    "## Check that NICE flow is an invertible transformation"
   ]
  },
  {
   "cell_type": "code",
   "execution_count": null,
   "metadata": {},
   "outputs": [],
   "source": [
    "# Forward flow\n",
    "nice_logits = nice_flow.predict(snt_logits, batch_size=100)\n",
    "# Inverse flow\n",
    "recons_logits = inv_nice_flow.predict(nice_logits, batch_size=100)\n",
    "\n",
    "recons_rmse = np.sqrt(np.mean(np.square(snt_logits-recons_logits)))\n",
    "print(\"Root mean square reconstrucction error is: {:.3E}\".format(recons_rmse))"
   ]
  },
  {
   "cell_type": "code",
   "execution_count": null,
   "metadata": {},
   "outputs": [],
   "source": [
    "fig, ax_arr = plt.subplots(2, 3, sharex='col', figsize=(20, 10), gridspec_kw={'hspace': 0, 'wspace': 0.3})\n",
    "fig.suptitle('The trained NICE-flow is an invertible transformation', fontsize=20)\n",
    "\n",
    "ax_arr[0, 0].scatter(snt_logits[:, 0], snt_logits[:, 1]);\n",
    "ax_arr[1, 0].scatter(snt_logits[:, 0], snt_logits[:, 2]);\n",
    "\n",
    "ax_arr[0, 1].scatter(nice_logits[:, 0], nice_logits[:, 1]);\n",
    "ax_arr[1, 1].scatter(nice_logits[:, 0], nice_logits[:, 2]);\n",
    "\n",
    "ax_arr[0, 2].scatter(recons_logits[:, 0], recons_logits[:, 1]);\n",
    "ax_arr[1, 2].scatter(recons_logits[:, 0], recons_logits[:, 2]);\n",
    "\n",
    "titles = [\n",
    "    'Classifier output logits', \n",
    "    'Transformed logits', \n",
    "    'Reconstructed logits\\n Reconstruccion error: {:.3E}'.format(recons_rmse)\n",
    "]\n",
    "y_labels = ['Z($\\\\theta$=1)', 'Z($\\\\theta$=2)']\n",
    "\n",
    "for ax, title in zip(ax_arr[0], titles):\n",
    "    ax.set_title(title, fontsize=16)\n",
    "\n",
    "for ax in ax_arr[-1]:\n",
    "    ax.set_xlabel('Z($\\\\theta$=0)', fontsize=14)\n",
    "\n",
    "for ax, label in zip(ax_arr[:,0], y_labels):\n",
    "    ax.set_ylabel(label, fontsize=14)\n",
    "\n",
    "# fig.tight_layout()\n",
    "plt.show()"
   ]
  }
 ],
 "metadata": {
  "kernelspec": {
   "display_name": "Python 3",
   "language": "python",
   "name": "python3"
  },
  "language_info": {
   "codemirror_mode": {
    "name": "ipython",
    "version": 3
   },
   "file_extension": ".py",
   "mimetype": "text/x-python",
   "name": "python",
   "nbconvert_exporter": "python",
   "pygments_lexer": "ipython3",
   "version": "3.6.3"
  }
 },
 "nbformat": 4,
 "nbformat_minor": 2
}
