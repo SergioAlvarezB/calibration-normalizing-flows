{
 "cells": [
  {
   "cell_type": "markdown",
   "metadata": {},
   "source": [
    "# Complexity scaling of calibration"
   ]
  },
  {
   "cell_type": "code",
   "execution_count": 1,
   "metadata": {},
   "outputs": [],
   "source": [
    "%load_ext autoreload"
   ]
  },
  {
   "cell_type": "code",
   "execution_count": 2,
   "metadata": {},
   "outputs": [],
   "source": [
    "%autoreload 1"
   ]
  },
  {
   "cell_type": "code",
   "execution_count": 13,
   "metadata": {},
   "outputs": [],
   "source": [
    "import os\n",
    "import sys\n",
    "import time\n",
    "import random\n",
    "sys.path.append('..')\n",
    "\n",
    "import numpy as np\n",
    "import matplotlib.pyplot as plt\n",
    "from scipy.special import softmax\n",
    "from sklearn.isotonic import IsotonicRegression\n",
    "import tensorflow as tf\n",
    "from tensorflow.keras.models import Model\n",
    "from tensorflow.keras.layers import Activation, Input\n",
    "from tensorflow.keras.optimizers import Adam, SGD\n",
    "\n",
    "%aimport utils\n",
    "%aimport utils.data\n",
    "%aimport utils.ops\n",
    "%aimport utils.metrics\n",
    "%aimport utils.visualization\n",
    "%aimport flows.nice\n",
    "%aimport calibrators\n",
    "from utils.data import get_cifar10, get_cifar3, load_logits\n",
    "from utils.ops import onehot_encode, optim_temperature, detection_log_likelihood_ratios\n",
    "from utils.metrics import neg_log_likelihood, expected_calibration_error\n",
    "from utils.visualization import plot_pdf_simplex, plot_prob_simplex, reliability_plot\n",
    "from utils.visualization import reliability_diagram, ECE_plot, plot_cal_regions_ternary\n",
    "from flows.nice import AddCouplingLayer, MLP, ReIndex\n",
    "from calibrators import PAVCalibrator, MLRCalibrator, NiceCalibrator, TempScalingCalibrator"
   ]
  },
  {
   "cell_type": "code",
   "execution_count": 14,
   "metadata": {},
   "outputs": [],
   "source": [
    "%matplotlib inline\n",
    "np.random.seed(1)"
   ]
  },
  {
   "cell_type": "code",
   "execution_count": 15,
   "metadata": {},
   "outputs": [],
   "source": [
    "cifar_dir = '../cifar-10'\n",
    "models_dir = '../pretrained-models'"
   ]
  },
  {
   "cell_type": "markdown",
   "metadata": {},
   "source": [
    "## CNN trained on CIFAR3 vs CNN trained on CIFAR10\n",
    "\n",
    "### Loading datasets"
   ]
  },
  {
   "cell_type": "code",
   "execution_count": 16,
   "metadata": {},
   "outputs": [],
   "source": [
    "cifar3, ix2label3 = get_cifar3(cifar_dir, test=True)\n",
    "target3 = onehot_encode(cifar3['test_labels'])\n",
    "\n",
    "cifar10, ix2label10 = get_cifar10(cifar_dir, test=True)\n",
    "target10 = onehot_encode(cifar10['test_labels'])"
   ]
  },
  {
   "cell_type": "markdown",
   "metadata": {},
   "source": [
    "### Loading models"
   ]
  },
  {
   "cell_type": "code",
   "execution_count": 17,
   "metadata": {},
   "outputs": [],
   "source": [
    "model_c3 = 'cnn_cifar3'\n",
    "model_c10 = 'resnet32_v1'\n",
    "\n",
    "_, logits3 = load_logits(os.path.join(models_dir, model_c3))\n",
    "probs3 = softmax(logits3, axis=1)\n",
    "\n",
    "_, logits10 = load_logits(os.path.join(models_dir, model_c10))\n",
    "probs10 = softmax(logits10, axis=1)"
   ]
  },
  {
   "cell_type": "code",
   "execution_count": null,
   "metadata": {},
   "outputs": [],
   "source": []
  }
 ],
 "metadata": {
  "kernelspec": {
   "display_name": "Python 3",
   "language": "python",
   "name": "python3"
  },
  "language_info": {
   "codemirror_mode": {
    "name": "ipython",
    "version": 3
   },
   "file_extension": ".py",
   "mimetype": "text/x-python",
   "name": "python",
   "nbconvert_exporter": "python",
   "pygments_lexer": "ipython3",
   "version": "3.6.3"
  }
 },
 "nbformat": 4,
 "nbformat_minor": 2
}
